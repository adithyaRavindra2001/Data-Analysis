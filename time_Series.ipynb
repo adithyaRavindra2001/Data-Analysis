{
 "cells": [
  {
   "cell_type": "code",
   "execution_count": 4,
   "id": "b6155f5b",
   "metadata": {},
   "outputs": [],
   "source": [
    "import pandas as  pd \n",
    "import numpy as np\n"
   ]
  },
  {
   "cell_type": "code",
   "execution_count": 6,
   "id": "96af55a9",
   "metadata": {},
   "outputs": [
    {
     "data": {
      "text/html": [
       "<div>\n",
       "<style scoped>\n",
       "    .dataframe tbody tr th:only-of-type {\n",
       "        vertical-align: middle;\n",
       "    }\n",
       "\n",
       "    .dataframe tbody tr th {\n",
       "        vertical-align: top;\n",
       "    }\n",
       "\n",
       "    .dataframe thead th {\n",
       "        text-align: right;\n",
       "    }\n",
       "</style>\n",
       "<table border=\"1\" class=\"dataframe\">\n",
       "  <thead>\n",
       "    <tr style=\"text-align: right;\">\n",
       "      <th></th>\n",
       "      <th>key1</th>\n",
       "      <th>key2</th>\n",
       "      <th>data1</th>\n",
       "      <th>data2</th>\n",
       "    </tr>\n",
       "  </thead>\n",
       "  <tbody>\n",
       "    <tr>\n",
       "      <th>0</th>\n",
       "      <td>a</td>\n",
       "      <td>one</td>\n",
       "      <td>0.948982</td>\n",
       "      <td>0.218650</td>\n",
       "    </tr>\n",
       "    <tr>\n",
       "      <th>1</th>\n",
       "      <td>a</td>\n",
       "      <td>two</td>\n",
       "      <td>1.517035</td>\n",
       "      <td>2.282774</td>\n",
       "    </tr>\n",
       "    <tr>\n",
       "      <th>2</th>\n",
       "      <td>b</td>\n",
       "      <td>one</td>\n",
       "      <td>-0.632323</td>\n",
       "      <td>0.418551</td>\n",
       "    </tr>\n",
       "    <tr>\n",
       "      <th>3</th>\n",
       "      <td>b</td>\n",
       "      <td>two</td>\n",
       "      <td>0.511540</td>\n",
       "      <td>-0.493478</td>\n",
       "    </tr>\n",
       "    <tr>\n",
       "      <th>4</th>\n",
       "      <td>a</td>\n",
       "      <td>one</td>\n",
       "      <td>0.064696</td>\n",
       "      <td>0.001400</td>\n",
       "    </tr>\n",
       "  </tbody>\n",
       "</table>\n",
       "</div>"
      ],
      "text/plain": [
       "  key1 key2     data1     data2\n",
       "0    a  one  0.948982  0.218650\n",
       "1    a  two  1.517035  2.282774\n",
       "2    b  one -0.632323  0.418551\n",
       "3    b  two  0.511540 -0.493478\n",
       "4    a  one  0.064696  0.001400"
      ]
     },
     "execution_count": 6,
     "metadata": {},
     "output_type": "execute_result"
    }
   ],
   "source": [
    " df = pd.DataFrame({'key1' : ['a', 'a', 'b', 'b', 'a'],\n",
    " ....: 'key2' : ['one', 'two', 'one', 'two', 'one'],\n",
    " ....: 'data1' : np.random.randn(5),\n",
    " ....: 'data2' : np.random.randn(5)})\n",
    "df"
   ]
  },
  {
   "cell_type": "code",
   "execution_count": 8,
   "id": "0dbb5856",
   "metadata": {},
   "outputs": [],
   "source": [
    "grouped=df['data1'].groupby(df['key1'])\n",
    "grouped"
   ]
  },
  {
   "cell_type": "code",
   "execution_count": 11,
   "id": "9d034cc9",
   "metadata": {},
   "outputs": [
    {
     "data": {
      "text/plain": [
       "key1\n",
       "a    0.843571\n",
       "b   -0.060392\n",
       "Name: data1, dtype: float64"
      ]
     },
     "execution_count": 11,
     "metadata": {},
     "output_type": "execute_result"
    }
   ],
   "source": [
    "grouped.mean()"
   ]
  },
  {
   "cell_type": "code",
   "execution_count": 18,
   "id": "fe4551a3",
   "metadata": {},
   "outputs": [
    {
     "data": {
      "text/html": [
       "<div>\n",
       "<style scoped>\n",
       "    .dataframe tbody tr th:only-of-type {\n",
       "        vertical-align: middle;\n",
       "    }\n",
       "\n",
       "    .dataframe tbody tr th {\n",
       "        vertical-align: top;\n",
       "    }\n",
       "\n",
       "    .dataframe thead th {\n",
       "        text-align: right;\n",
       "    }\n",
       "</style>\n",
       "<table border=\"1\" class=\"dataframe\">\n",
       "  <thead>\n",
       "    <tr style=\"text-align: right;\">\n",
       "      <th>key2</th>\n",
       "      <th>one</th>\n",
       "      <th>two</th>\n",
       "    </tr>\n",
       "    <tr>\n",
       "      <th>key1</th>\n",
       "      <th></th>\n",
       "      <th></th>\n",
       "    </tr>\n",
       "  </thead>\n",
       "  <tbody>\n",
       "    <tr>\n",
       "      <th>a</th>\n",
       "      <td>0.506839</td>\n",
       "      <td>1.517035</td>\n",
       "    </tr>\n",
       "    <tr>\n",
       "      <th>b</th>\n",
       "      <td>-0.632323</td>\n",
       "      <td>0.511540</td>\n",
       "    </tr>\n",
       "  </tbody>\n",
       "</table>\n",
       "</div>"
      ],
      "text/plain": [
       "key2       one       two\n",
       "key1                    \n",
       "a     0.506839  1.517035\n",
       "b    -0.632323  0.511540"
      ]
     },
     "execution_count": 18,
     "metadata": {},
     "output_type": "execute_result"
    }
   ],
   "source": [
    "grouped1=df['data1'].groupby([df['key1'],df['key2']]).mean()\n",
    "grouped1.unstack()"
   ]
  },
  {
   "cell_type": "code",
   "execution_count": 26,
   "id": "109cc332",
   "metadata": {},
   "outputs": [],
   "source": [
    "states = np.array(['Ohio', 'California', 'California', 'Ohio', 'Ohio'])\n",
    "years = np.array([2005, 2005, 2006, 2005, 2006])\n"
   ]
  },
  {
   "cell_type": "code",
   "execution_count": 27,
   "id": "1b796184",
   "metadata": {},
   "outputs": [],
   "source": [
    "g=df['data1'].groupby([states,years])"
   ]
  },
  {
   "cell_type": "code",
   "execution_count": 29,
   "id": "cac78f8e",
   "metadata": {},
   "outputs": [
    {
     "data": {
      "text/html": [
       "<div>\n",
       "<style scoped>\n",
       "    .dataframe tbody tr th:only-of-type {\n",
       "        vertical-align: middle;\n",
       "    }\n",
       "\n",
       "    .dataframe tbody tr th {\n",
       "        vertical-align: top;\n",
       "    }\n",
       "\n",
       "    .dataframe thead th {\n",
       "        text-align: right;\n",
       "    }\n",
       "</style>\n",
       "<table border=\"1\" class=\"dataframe\">\n",
       "  <thead>\n",
       "    <tr style=\"text-align: right;\">\n",
       "      <th></th>\n",
       "      <th>2005</th>\n",
       "      <th>2006</th>\n",
       "    </tr>\n",
       "  </thead>\n",
       "  <tbody>\n",
       "    <tr>\n",
       "      <th>California</th>\n",
       "      <td>1.517035</td>\n",
       "      <td>-0.632323</td>\n",
       "    </tr>\n",
       "    <tr>\n",
       "      <th>Ohio</th>\n",
       "      <td>0.730261</td>\n",
       "      <td>0.064696</td>\n",
       "    </tr>\n",
       "  </tbody>\n",
       "</table>\n",
       "</div>"
      ],
      "text/plain": [
       "                2005      2006\n",
       "California  1.517035 -0.632323\n",
       "Ohio        0.730261  0.064696"
      ]
     },
     "execution_count": 29,
     "metadata": {},
     "output_type": "execute_result"
    }
   ],
   "source": [
    "g.mean().unstack()"
   ]
  },
  {
   "cell_type": "code",
   "execution_count": 31,
   "id": "31e9d16e",
   "metadata": {},
   "outputs": [
    {
     "data": {
      "text/html": [
       "<div>\n",
       "<style scoped>\n",
       "    .dataframe tbody tr th:only-of-type {\n",
       "        vertical-align: middle;\n",
       "    }\n",
       "\n",
       "    .dataframe tbody tr th {\n",
       "        vertical-align: top;\n",
       "    }\n",
       "\n",
       "    .dataframe thead th {\n",
       "        text-align: right;\n",
       "    }\n",
       "</style>\n",
       "<table border=\"1\" class=\"dataframe\">\n",
       "  <thead>\n",
       "    <tr style=\"text-align: right;\">\n",
       "      <th></th>\n",
       "      <th>data1</th>\n",
       "    </tr>\n",
       "    <tr>\n",
       "      <th>data2</th>\n",
       "      <th></th>\n",
       "    </tr>\n",
       "  </thead>\n",
       "  <tbody>\n",
       "    <tr>\n",
       "      <th>-0.493478</th>\n",
       "      <td>0.511540</td>\n",
       "    </tr>\n",
       "    <tr>\n",
       "      <th>0.001400</th>\n",
       "      <td>0.064696</td>\n",
       "    </tr>\n",
       "    <tr>\n",
       "      <th>0.218650</th>\n",
       "      <td>0.948982</td>\n",
       "    </tr>\n",
       "    <tr>\n",
       "      <th>0.418551</th>\n",
       "      <td>-0.632323</td>\n",
       "    </tr>\n",
       "    <tr>\n",
       "      <th>2.282774</th>\n",
       "      <td>1.517035</td>\n",
       "    </tr>\n",
       "  </tbody>\n",
       "</table>\n",
       "</div>"
      ],
      "text/plain": [
       "              data1\n",
       "data2              \n",
       "-0.493478  0.511540\n",
       " 0.001400  0.064696\n",
       " 0.218650  0.948982\n",
       " 0.418551 -0.632323\n",
       " 2.282774  1.517035"
      ]
     },
     "execution_count": 31,
     "metadata": {},
     "output_type": "execute_result"
    }
   ],
   "source": [
    "df.groupby('data2').mean()"
   ]
  },
  {
   "cell_type": "code",
   "execution_count": 33,
   "id": "bcaf86bc",
   "metadata": {},
   "outputs": [
    {
     "name": "stdout",
     "output_type": "stream",
     "text": [
      "one\n",
      "  key1 key2     data1     data2\n",
      "0    a  one  0.948982  0.218650\n",
      "2    b  one -0.632323  0.418551\n",
      "4    a  one  0.064696  0.001400\n",
      "two\n",
      "  key1 key2     data1     data2\n",
      "1    a  two  1.517035  2.282774\n",
      "3    b  two  0.511540 -0.493478\n"
     ]
    }
   ],
   "source": [
    "for name, group in df.groupby('key2'):\n",
    "    print(name)\n",
    "    print(group)\n"
   ]
  },
  {
   "cell_type": "code",
   "execution_count": 35,
   "id": "39e4e689",
   "metadata": {},
   "outputs": [
    {
     "data": {
      "text/plain": [
       "key1\n",
       "a    0.843571\n",
       "b   -0.060392\n",
       "Name: data1, dtype: float64"
      ]
     },
     "execution_count": 35,
     "metadata": {},
     "output_type": "execute_result"
    }
   ],
   "source": [
    "df.groupby('key1')['data1'].mean()"
   ]
  },
  {
   "cell_type": "code",
   "execution_count": 39,
   "id": "cf6af142",
   "metadata": {},
   "outputs": [
    {
     "data": {
      "text/plain": [
       "key1\n",
       "a    0.843571\n",
       "b   -0.060392\n",
       "Name: data1, dtype: float64"
      ]
     },
     "execution_count": 39,
     "metadata": {},
     "output_type": "execute_result"
    }
   ],
   "source": [
    "df['data1'].groupby(df['key1']).mean()"
   ]
  },
  {
   "cell_type": "code",
   "execution_count": 42,
   "id": "5603f816",
   "metadata": {},
   "outputs": [
    {
     "data": {
      "text/html": [
       "<div>\n",
       "<style scoped>\n",
       "    .dataframe tbody tr th:only-of-type {\n",
       "        vertical-align: middle;\n",
       "    }\n",
       "\n",
       "    .dataframe tbody tr th {\n",
       "        vertical-align: top;\n",
       "    }\n",
       "\n",
       "    .dataframe thead th {\n",
       "        text-align: right;\n",
       "    }\n",
       "</style>\n",
       "<table border=\"1\" class=\"dataframe\">\n",
       "  <thead>\n",
       "    <tr style=\"text-align: right;\">\n",
       "      <th></th>\n",
       "      <th>a</th>\n",
       "      <th>b</th>\n",
       "      <th>c</th>\n",
       "      <th>d</th>\n",
       "      <th>e</th>\n",
       "    </tr>\n",
       "  </thead>\n",
       "  <tbody>\n",
       "    <tr>\n",
       "      <th>Joe</th>\n",
       "      <td>0.318478</td>\n",
       "      <td>-1.890166</td>\n",
       "      <td>-0.931430</td>\n",
       "      <td>0.051775</td>\n",
       "      <td>0.886046</td>\n",
       "    </tr>\n",
       "    <tr>\n",
       "      <th>Steve</th>\n",
       "      <td>0.060157</td>\n",
       "      <td>1.991903</td>\n",
       "      <td>-0.791976</td>\n",
       "      <td>0.376839</td>\n",
       "      <td>0.687192</td>\n",
       "    </tr>\n",
       "    <tr>\n",
       "      <th>Wes</th>\n",
       "      <td>2.156615</td>\n",
       "      <td>0.887772</td>\n",
       "      <td>-0.731113</td>\n",
       "      <td>1.076260</td>\n",
       "      <td>-1.215746</td>\n",
       "    </tr>\n",
       "    <tr>\n",
       "      <th>Jim</th>\n",
       "      <td>0.872859</td>\n",
       "      <td>-0.620613</td>\n",
       "      <td>-1.013957</td>\n",
       "      <td>-1.212096</td>\n",
       "      <td>-0.392987</td>\n",
       "    </tr>\n",
       "    <tr>\n",
       "      <th>Travis</th>\n",
       "      <td>-0.594629</td>\n",
       "      <td>1.149514</td>\n",
       "      <td>-0.280894</td>\n",
       "      <td>-0.367993</td>\n",
       "      <td>-0.572122</td>\n",
       "    </tr>\n",
       "  </tbody>\n",
       "</table>\n",
       "</div>"
      ],
      "text/plain": [
       "               a         b         c         d         e\n",
       "Joe     0.318478 -1.890166 -0.931430  0.051775  0.886046\n",
       "Steve   0.060157  1.991903 -0.791976  0.376839  0.687192\n",
       "Wes     2.156615  0.887772 -0.731113  1.076260 -1.215746\n",
       "Jim     0.872859 -0.620613 -1.013957 -1.212096 -0.392987\n",
       "Travis -0.594629  1.149514 -0.280894 -0.367993 -0.572122"
      ]
     },
     "execution_count": 42,
     "metadata": {},
     "output_type": "execute_result"
    }
   ],
   "source": [
    "people = pd.DataFrame(np.random.randn(5, 5),\n",
    " ....: columns=['a', 'b', 'c', 'd', 'e'],\n",
    " ....: index=['Joe', 'Steve', 'Wes', 'Jim', 'Travis'])\n",
    "people"
   ]
  },
  {
   "cell_type": "code",
   "execution_count": 48,
   "id": "e71070a4",
   "metadata": {},
   "outputs": [],
   "source": [
    "people.iloc[2:3,[1,2]]=np.nan"
   ]
  },
  {
   "cell_type": "code",
   "execution_count": 47,
   "id": "cdca6b07",
   "metadata": {},
   "outputs": [
    {
     "data": {
      "text/html": [
       "<div>\n",
       "<style scoped>\n",
       "    .dataframe tbody tr th:only-of-type {\n",
       "        vertical-align: middle;\n",
       "    }\n",
       "\n",
       "    .dataframe tbody tr th {\n",
       "        vertical-align: top;\n",
       "    }\n",
       "\n",
       "    .dataframe thead th {\n",
       "        text-align: right;\n",
       "    }\n",
       "</style>\n",
       "<table border=\"1\" class=\"dataframe\">\n",
       "  <thead>\n",
       "    <tr style=\"text-align: right;\">\n",
       "      <th></th>\n",
       "      <th>a</th>\n",
       "      <th>b</th>\n",
       "      <th>c</th>\n",
       "      <th>d</th>\n",
       "      <th>e</th>\n",
       "    </tr>\n",
       "  </thead>\n",
       "  <tbody>\n",
       "    <tr>\n",
       "      <th>Joe</th>\n",
       "      <td>0.318478</td>\n",
       "      <td>-1.890166</td>\n",
       "      <td>-0.931430</td>\n",
       "      <td>0.051775</td>\n",
       "      <td>0.886046</td>\n",
       "    </tr>\n",
       "    <tr>\n",
       "      <th>Steve</th>\n",
       "      <td>0.060157</td>\n",
       "      <td>1.991903</td>\n",
       "      <td>-0.791976</td>\n",
       "      <td>0.376839</td>\n",
       "      <td>0.687192</td>\n",
       "    </tr>\n",
       "    <tr>\n",
       "      <th>Wes</th>\n",
       "      <td>2.156615</td>\n",
       "      <td>NaN</td>\n",
       "      <td>NaN</td>\n",
       "      <td>1.076260</td>\n",
       "      <td>-1.215746</td>\n",
       "    </tr>\n",
       "    <tr>\n",
       "      <th>Jim</th>\n",
       "      <td>0.872859</td>\n",
       "      <td>-0.620613</td>\n",
       "      <td>-1.013957</td>\n",
       "      <td>-1.212096</td>\n",
       "      <td>-0.392987</td>\n",
       "    </tr>\n",
       "    <tr>\n",
       "      <th>Travis</th>\n",
       "      <td>-0.594629</td>\n",
       "      <td>1.149514</td>\n",
       "      <td>-0.280894</td>\n",
       "      <td>-0.367993</td>\n",
       "      <td>-0.572122</td>\n",
       "    </tr>\n",
       "  </tbody>\n",
       "</table>\n",
       "</div>"
      ],
      "text/plain": [
       "               a         b         c         d         e\n",
       "Joe     0.318478 -1.890166 -0.931430  0.051775  0.886046\n",
       "Steve   0.060157  1.991903 -0.791976  0.376839  0.687192\n",
       "Wes     2.156615       NaN       NaN  1.076260 -1.215746\n",
       "Jim     0.872859 -0.620613 -1.013957 -1.212096 -0.392987\n",
       "Travis -0.594629  1.149514 -0.280894 -0.367993 -0.572122"
      ]
     },
     "execution_count": 47,
     "metadata": {},
     "output_type": "execute_result"
    }
   ],
   "source": [
    "people"
   ]
  },
  {
   "cell_type": "code",
   "execution_count": 49,
   "id": "5e9d221d",
   "metadata": {},
   "outputs": [],
   "source": [
    "mapping = {'a': 'red', 'b': 'red', 'c': 'blue','d': 'blue', 'e': 'red', 'f' : 'orange'}"
   ]
  },
  {
   "cell_type": "code",
   "execution_count": 51,
   "id": "3968edf5",
   "metadata": {},
   "outputs": [],
   "source": [
    "bc=people.groupby(mapping,axis=1)"
   ]
  },
  {
   "cell_type": "code",
   "execution_count": 52,
   "id": "5fbe6d52",
   "metadata": {},
   "outputs": [
    {
     "data": {
      "text/html": [
       "<div>\n",
       "<style scoped>\n",
       "    .dataframe tbody tr th:only-of-type {\n",
       "        vertical-align: middle;\n",
       "    }\n",
       "\n",
       "    .dataframe tbody tr th {\n",
       "        vertical-align: top;\n",
       "    }\n",
       "\n",
       "    .dataframe thead th {\n",
       "        text-align: right;\n",
       "    }\n",
       "</style>\n",
       "<table border=\"1\" class=\"dataframe\">\n",
       "  <thead>\n",
       "    <tr style=\"text-align: right;\">\n",
       "      <th></th>\n",
       "      <th>blue</th>\n",
       "      <th>red</th>\n",
       "    </tr>\n",
       "  </thead>\n",
       "  <tbody>\n",
       "    <tr>\n",
       "      <th>Joe</th>\n",
       "      <td>-0.879655</td>\n",
       "      <td>-0.685642</td>\n",
       "    </tr>\n",
       "    <tr>\n",
       "      <th>Steve</th>\n",
       "      <td>-0.415137</td>\n",
       "      <td>2.739252</td>\n",
       "    </tr>\n",
       "    <tr>\n",
       "      <th>Wes</th>\n",
       "      <td>1.076260</td>\n",
       "      <td>0.940870</td>\n",
       "    </tr>\n",
       "    <tr>\n",
       "      <th>Jim</th>\n",
       "      <td>-2.226053</td>\n",
       "      <td>-0.140741</td>\n",
       "    </tr>\n",
       "    <tr>\n",
       "      <th>Travis</th>\n",
       "      <td>-0.648887</td>\n",
       "      <td>-0.017237</td>\n",
       "    </tr>\n",
       "  </tbody>\n",
       "</table>\n",
       "</div>"
      ],
      "text/plain": [
       "            blue       red\n",
       "Joe    -0.879655 -0.685642\n",
       "Steve  -0.415137  2.739252\n",
       "Wes     1.076260  0.940870\n",
       "Jim    -2.226053 -0.140741\n",
       "Travis -0.648887 -0.017237"
      ]
     },
     "execution_count": 52,
     "metadata": {},
     "output_type": "execute_result"
    }
   ],
   "source": [
    "bc.sum()"
   ]
  },
  {
   "cell_type": "code",
   "execution_count": 58,
   "id": "f5643318",
   "metadata": {},
   "outputs": [],
   "source": [
    "columns = pd.MultiIndex.from_arrays([['US', 'US', 'US', 'JP', 'JP'],\n",
    " ....: [1, 3, 5, 1, 3],[1, 3, 53, 1, 3]],\n",
    " ....: names=['cty', 'tenor','ran'])"
   ]
  },
  {
   "cell_type": "code",
   "execution_count": 60,
   "id": "dfe8fadf",
   "metadata": {},
   "outputs": [
    {
     "data": {
      "text/html": [
       "<div>\n",
       "<style scoped>\n",
       "    .dataframe tbody tr th:only-of-type {\n",
       "        vertical-align: middle;\n",
       "    }\n",
       "\n",
       "    .dataframe tbody tr th {\n",
       "        vertical-align: top;\n",
       "    }\n",
       "\n",
       "    .dataframe thead tr th {\n",
       "        text-align: left;\n",
       "    }\n",
       "</style>\n",
       "<table border=\"1\" class=\"dataframe\">\n",
       "  <thead>\n",
       "    <tr>\n",
       "      <th>cty</th>\n",
       "      <th colspan=\"3\" halign=\"left\">US</th>\n",
       "      <th colspan=\"2\" halign=\"left\">JP</th>\n",
       "    </tr>\n",
       "    <tr>\n",
       "      <th>tenor</th>\n",
       "      <th>1</th>\n",
       "      <th>3</th>\n",
       "      <th>5</th>\n",
       "      <th>1</th>\n",
       "      <th>3</th>\n",
       "    </tr>\n",
       "    <tr>\n",
       "      <th>ran</th>\n",
       "      <th>1</th>\n",
       "      <th>3</th>\n",
       "      <th>53</th>\n",
       "      <th>1</th>\n",
       "      <th>3</th>\n",
       "    </tr>\n",
       "  </thead>\n",
       "  <tbody>\n",
       "    <tr>\n",
       "      <th>0</th>\n",
       "      <td>1.285173</td>\n",
       "      <td>-0.012057</td>\n",
       "      <td>0.967911</td>\n",
       "      <td>-2.528311</td>\n",
       "      <td>0.712046</td>\n",
       "    </tr>\n",
       "    <tr>\n",
       "      <th>1</th>\n",
       "      <td>0.727784</td>\n",
       "      <td>0.482842</td>\n",
       "      <td>-0.217296</td>\n",
       "      <td>1.453478</td>\n",
       "      <td>-0.431617</td>\n",
       "    </tr>\n",
       "    <tr>\n",
       "      <th>1</th>\n",
       "      <td>-2.102529</td>\n",
       "      <td>-0.023073</td>\n",
       "      <td>-1.162724</td>\n",
       "      <td>-1.469265</td>\n",
       "      <td>0.605669</td>\n",
       "    </tr>\n",
       "    <tr>\n",
       "      <th>1</th>\n",
       "      <td>0.150124</td>\n",
       "      <td>0.907476</td>\n",
       "      <td>-0.979093</td>\n",
       "      <td>0.294454</td>\n",
       "      <td>-1.040752</td>\n",
       "    </tr>\n",
       "  </tbody>\n",
       "</table>\n",
       "</div>"
      ],
      "text/plain": [
       "cty          US                            JP          \n",
       "tenor         1         3         5         1         3\n",
       "ran          1         3         53        1         3 \n",
       "0      1.285173 -0.012057  0.967911 -2.528311  0.712046\n",
       "1      0.727784  0.482842 -0.217296  1.453478 -0.431617\n",
       "1     -2.102529 -0.023073 -1.162724 -1.469265  0.605669\n",
       "1      0.150124  0.907476 -0.979093  0.294454 -1.040752"
      ]
     },
     "execution_count": 60,
     "metadata": {},
     "output_type": "execute_result"
    }
   ],
   "source": [
    "hier_df = pd.DataFrame(np.random.randn(4, 5), columns=columns,index=[0,1,1,1])\n",
    "hier_df"
   ]
  },
  {
   "cell_type": "code",
   "execution_count": 55,
   "id": "de63b7fe",
   "metadata": {},
   "outputs": [
    {
     "data": {
      "text/plain": [
       "MultiIndex([('US', 1),\n",
       "            ('US', 3),\n",
       "            ('US', 5),\n",
       "            ('JP', 1),\n",
       "            ('JP', 3)],\n",
       "           names=['cty', 'tenor'])"
      ]
     },
     "execution_count": 55,
     "metadata": {},
     "output_type": "execute_result"
    }
   ],
   "source": []
  },
  {
   "cell_type": "code",
   "execution_count": 64,
   "id": "278314ef",
   "metadata": {},
   "outputs": [
    {
     "data": {
      "text/plain": [
       "0    0.202217\n",
       "1   -0.257263\n",
       "2    0.844627\n",
       "3    2.165242\n",
       "4   -1.252544\n",
       "5    0.028728\n",
       "6    0.932730\n",
       "7    0.277428\n",
       "8    0.672995\n",
       "9   -0.203853\n",
       "dtype: float64"
      ]
     },
     "execution_count": 64,
     "metadata": {},
     "output_type": "execute_result"
    }
   ],
   "source": [
    "s=pd.Series(np.random.randn(10))\n",
    "s"
   ]
  },
  {
   "cell_type": "code",
   "execution_count": 68,
   "id": "f19c19be",
   "metadata": {},
   "outputs": [
    {
     "data": {
      "text/plain": [
       "0.23982251809377397"
      ]
     },
     "execution_count": 68,
     "metadata": {},
     "output_type": "execute_result"
    }
   ],
   "source": [
    "# s.quantile()\n",
    "s.median()"
   ]
  },
  {
   "cell_type": "code",
   "execution_count": 69,
   "id": "2aba2240",
   "metadata": {},
   "outputs": [],
   "source": [
    "tips=pd.read_csv('tips.csv')"
   ]
  },
  {
   "cell_type": "code",
   "execution_count": 71,
   "id": "f1a5f58c",
   "metadata": {},
   "outputs": [],
   "source": [
    "tips['tip_pct']=tips['tip']/(tips['total_bill'])"
   ]
  },
  {
   "cell_type": "code",
   "execution_count": 73,
   "id": "64423332",
   "metadata": {},
   "outputs": [
    {
     "data": {
      "text/html": [
       "<div>\n",
       "<style scoped>\n",
       "    .dataframe tbody tr th:only-of-type {\n",
       "        vertical-align: middle;\n",
       "    }\n",
       "\n",
       "    .dataframe tbody tr th {\n",
       "        vertical-align: top;\n",
       "    }\n",
       "\n",
       "    .dataframe thead th {\n",
       "        text-align: right;\n",
       "    }\n",
       "</style>\n",
       "<table border=\"1\" class=\"dataframe\">\n",
       "  <thead>\n",
       "    <tr style=\"text-align: right;\">\n",
       "      <th></th>\n",
       "      <th>total_bill</th>\n",
       "      <th>tip</th>\n",
       "      <th>smoker</th>\n",
       "      <th>day</th>\n",
       "      <th>time</th>\n",
       "      <th>size</th>\n",
       "      <th>tip_pct</th>\n",
       "    </tr>\n",
       "  </thead>\n",
       "  <tbody>\n",
       "    <tr>\n",
       "      <th>0</th>\n",
       "      <td>16.99</td>\n",
       "      <td>1.01</td>\n",
       "      <td>No</td>\n",
       "      <td>Sun</td>\n",
       "      <td>Dinner</td>\n",
       "      <td>2</td>\n",
       "      <td>0.059447</td>\n",
       "    </tr>\n",
       "    <tr>\n",
       "      <th>1</th>\n",
       "      <td>10.34</td>\n",
       "      <td>1.66</td>\n",
       "      <td>No</td>\n",
       "      <td>Sun</td>\n",
       "      <td>Dinner</td>\n",
       "      <td>3</td>\n",
       "      <td>0.160542</td>\n",
       "    </tr>\n",
       "    <tr>\n",
       "      <th>2</th>\n",
       "      <td>21.01</td>\n",
       "      <td>3.50</td>\n",
       "      <td>No</td>\n",
       "      <td>Sun</td>\n",
       "      <td>Dinner</td>\n",
       "      <td>3</td>\n",
       "      <td>0.166587</td>\n",
       "    </tr>\n",
       "    <tr>\n",
       "      <th>3</th>\n",
       "      <td>23.68</td>\n",
       "      <td>3.31</td>\n",
       "      <td>No</td>\n",
       "      <td>Sun</td>\n",
       "      <td>Dinner</td>\n",
       "      <td>2</td>\n",
       "      <td>0.139780</td>\n",
       "    </tr>\n",
       "    <tr>\n",
       "      <th>4</th>\n",
       "      <td>24.59</td>\n",
       "      <td>3.61</td>\n",
       "      <td>No</td>\n",
       "      <td>Sun</td>\n",
       "      <td>Dinner</td>\n",
       "      <td>4</td>\n",
       "      <td>0.146808</td>\n",
       "    </tr>\n",
       "  </tbody>\n",
       "</table>\n",
       "</div>"
      ],
      "text/plain": [
       "   total_bill   tip smoker  day    time  size   tip_pct\n",
       "0       16.99  1.01     No  Sun  Dinner     2  0.059447\n",
       "1       10.34  1.66     No  Sun  Dinner     3  0.160542\n",
       "2       21.01  3.50     No  Sun  Dinner     3  0.166587\n",
       "3       23.68  3.31     No  Sun  Dinner     2  0.139780\n",
       "4       24.59  3.61     No  Sun  Dinner     4  0.146808"
      ]
     },
     "execution_count": 73,
     "metadata": {},
     "output_type": "execute_result"
    }
   ],
   "source": [
    "tips.head()"
   ]
  },
  {
   "cell_type": "code",
   "execution_count": 74,
   "id": "6be64f18",
   "metadata": {},
   "outputs": [],
   "source": [
    "g1=tips.groupby(['day','smoker'])"
   ]
  },
  {
   "cell_type": "code",
   "execution_count": 79,
   "id": "805daa18",
   "metadata": {
    "scrolled": true
   },
   "outputs": [
    {
     "name": "stdout",
     "output_type": "stream",
     "text": [
      "Fri No\n",
      "     total_bill   tip smoker  day    time  size   tip_pct\n",
      "91        22.49  3.50     No  Fri  Dinner     2  0.155625\n",
      "94        22.75  3.25     No  Fri  Dinner     2  0.142857\n",
      "99        12.46  1.50     No  Fri  Dinner     2  0.120385\n",
      "223       15.98  3.00     No  Fri   Lunch     3  0.187735\n",
      "Fri Yes\n",
      "     total_bill   tip smoker  day    time  size   tip_pct\n",
      "90        28.97  3.00    Yes  Fri  Dinner     2  0.103555\n",
      "92         5.75  1.00    Yes  Fri  Dinner     2  0.173913\n",
      "93        16.32  4.30    Yes  Fri  Dinner     2  0.263480\n",
      "95        40.17  4.73    Yes  Fri  Dinner     4  0.117750\n",
      "96        27.28  4.00    Yes  Fri  Dinner     2  0.146628\n",
      "97        12.03  1.50    Yes  Fri  Dinner     2  0.124688\n",
      "98        21.01  3.00    Yes  Fri  Dinner     2  0.142789\n",
      "100       11.35  2.50    Yes  Fri  Dinner     2  0.220264\n",
      "101       15.38  3.00    Yes  Fri  Dinner     2  0.195059\n",
      "220       12.16  2.20    Yes  Fri   Lunch     2  0.180921\n",
      "221       13.42  3.48    Yes  Fri   Lunch     2  0.259314\n",
      "222        8.58  1.92    Yes  Fri   Lunch     1  0.223776\n",
      "224       13.42  1.58    Yes  Fri   Lunch     2  0.117735\n",
      "225       16.27  2.50    Yes  Fri   Lunch     2  0.153657\n",
      "226       10.09  2.00    Yes  Fri   Lunch     2  0.198216\n",
      "Sat No\n",
      "     total_bill   tip smoker  day    time  size   tip_pct\n",
      "19        20.65  3.35     No  Sat  Dinner     3  0.162228\n",
      "20        17.92  4.08     No  Sat  Dinner     2  0.227679\n",
      "21        20.29  2.75     No  Sat  Dinner     2  0.135535\n",
      "22        15.77  2.23     No  Sat  Dinner     2  0.141408\n",
      "23        39.42  7.58     No  Sat  Dinner     4  0.192288\n",
      "24        19.82  3.18     No  Sat  Dinner     2  0.160444\n",
      "25        17.81  2.34     No  Sat  Dinner     4  0.131387\n",
      "26        13.37  2.00     No  Sat  Dinner     2  0.149589\n",
      "27        12.69  2.00     No  Sat  Dinner     2  0.157604\n",
      "28        21.70  4.30     No  Sat  Dinner     2  0.198157\n",
      "29        19.65  3.00     No  Sat  Dinner     2  0.152672\n",
      "30         9.55  1.45     No  Sat  Dinner     2  0.151832\n",
      "31        18.35  2.50     No  Sat  Dinner     4  0.136240\n",
      "32        15.06  3.00     No  Sat  Dinner     2  0.199203\n",
      "33        20.69  2.45     No  Sat  Dinner     4  0.118415\n",
      "34        17.78  3.27     No  Sat  Dinner     2  0.183915\n",
      "35        24.06  3.60     No  Sat  Dinner     3  0.149626\n",
      "36        16.31  2.00     No  Sat  Dinner     3  0.122624\n",
      "37        16.93  3.07     No  Sat  Dinner     3  0.181335\n",
      "38        18.69  2.31     No  Sat  Dinner     3  0.123596\n",
      "39        31.27  5.00     No  Sat  Dinner     3  0.159898\n",
      "40        16.04  2.24     No  Sat  Dinner     3  0.139651\n",
      "57        26.41  1.50     No  Sat  Dinner     2  0.056797\n",
      "59        48.27  6.73     No  Sat  Dinner     4  0.139424\n",
      "64        17.59  2.64     No  Sat  Dinner     3  0.150085\n",
      "65        20.08  3.15     No  Sat  Dinner     3  0.156873\n",
      "66        16.45  2.47     No  Sat  Dinner     2  0.150152\n",
      "68        20.23  2.01     No  Sat  Dinner     2  0.099357\n",
      "70        12.02  1.97     No  Sat  Dinner     2  0.163894\n",
      "71        17.07  3.00     No  Sat  Dinner     3  0.175747\n",
      "74        14.73  2.20     No  Sat  Dinner     2  0.149355\n",
      "75        10.51  1.25     No  Sat  Dinner     2  0.118934\n",
      "104       20.92  4.08     No  Sat  Dinner     2  0.195029\n",
      "108       18.24  3.76     No  Sat  Dinner     2  0.206140\n",
      "110       14.00  3.00     No  Sat  Dinner     2  0.214286\n",
      "111        7.25  1.00     No  Sat  Dinner     1  0.137931\n",
      "212       48.33  9.00     No  Sat  Dinner     4  0.186220\n",
      "227       20.45  3.00     No  Sat  Dinner     4  0.146699\n",
      "228       13.28  2.72     No  Sat  Dinner     2  0.204819\n",
      "232       11.61  3.39     No  Sat  Dinner     2  0.291990\n",
      "233       10.77  1.47     No  Sat  Dinner     2  0.136490\n",
      "235       10.07  1.25     No  Sat  Dinner     2  0.124131\n",
      "238       35.83  4.67     No  Sat  Dinner     3  0.130338\n",
      "239       29.03  5.92     No  Sat  Dinner     3  0.203927\n",
      "242       17.82  1.75     No  Sat  Dinner     2  0.098204\n",
      "Sat Yes\n",
      "     total_bill    tip smoker  day    time  size   tip_pct\n",
      "56        38.01   3.00    Yes  Sat  Dinner     4  0.078927\n",
      "58        11.24   1.76    Yes  Sat  Dinner     2  0.156584\n",
      "60        20.29   3.21    Yes  Sat  Dinner     2  0.158206\n",
      "61        13.81   2.00    Yes  Sat  Dinner     2  0.144823\n",
      "62        11.02   1.98    Yes  Sat  Dinner     2  0.179673\n",
      "63        18.29   3.76    Yes  Sat  Dinner     4  0.205577\n",
      "67         3.07   1.00    Yes  Sat  Dinner     1  0.325733\n",
      "69        15.01   2.09    Yes  Sat  Dinner     2  0.139241\n",
      "72        26.86   3.14    Yes  Sat  Dinner     2  0.116902\n",
      "73        25.28   5.00    Yes  Sat  Dinner     2  0.197785\n",
      "76        17.92   3.08    Yes  Sat  Dinner     2  0.171875\n",
      "102       44.30   2.50    Yes  Sat  Dinner     3  0.056433\n",
      "103       22.42   3.48    Yes  Sat  Dinner     2  0.155219\n",
      "105       15.36   1.64    Yes  Sat  Dinner     2  0.106771\n",
      "106       20.49   4.06    Yes  Sat  Dinner     2  0.198145\n",
      "107       25.21   4.29    Yes  Sat  Dinner     2  0.170171\n",
      "109       14.31   4.00    Yes  Sat  Dinner     2  0.279525\n",
      "168       10.59   1.61    Yes  Sat  Dinner     2  0.152030\n",
      "169       10.63   2.00    Yes  Sat  Dinner     2  0.188147\n",
      "170       50.81  10.00    Yes  Sat  Dinner     3  0.196812\n",
      "171       15.81   3.16    Yes  Sat  Dinner     2  0.199873\n",
      "206       26.59   3.41    Yes  Sat  Dinner     3  0.128244\n",
      "207       38.73   3.00    Yes  Sat  Dinner     4  0.077459\n",
      "208       24.27   2.03    Yes  Sat  Dinner     2  0.083642\n",
      "209       12.76   2.23    Yes  Sat  Dinner     2  0.174765\n",
      "210       30.06   2.00    Yes  Sat  Dinner     3  0.066534\n",
      "211       25.89   5.16    Yes  Sat  Dinner     4  0.199305\n",
      "213       13.27   2.50    Yes  Sat  Dinner     2  0.188395\n",
      "214       28.17   6.50    Yes  Sat  Dinner     3  0.230742\n",
      "215       12.90   1.10    Yes  Sat  Dinner     2  0.085271\n",
      "216       28.15   3.00    Yes  Sat  Dinner     5  0.106572\n",
      "217       11.59   1.50    Yes  Sat  Dinner     2  0.129422\n",
      "218        7.74   1.44    Yes  Sat  Dinner     2  0.186047\n",
      "219       30.14   3.09    Yes  Sat  Dinner     4  0.102522\n",
      "229       22.12   2.88    Yes  Sat  Dinner     2  0.130199\n",
      "230       24.01   2.00    Yes  Sat  Dinner     4  0.083299\n",
      "231       15.69   3.00    Yes  Sat  Dinner     3  0.191205\n",
      "234       15.53   3.00    Yes  Sat  Dinner     2  0.193175\n",
      "236       12.60   1.00    Yes  Sat  Dinner     2  0.079365\n",
      "237       32.83   1.17    Yes  Sat  Dinner     2  0.035638\n",
      "240       27.18   2.00    Yes  Sat  Dinner     2  0.073584\n",
      "241       22.67   2.00    Yes  Sat  Dinner     2  0.088222\n",
      "Sun No\n",
      "     total_bill   tip smoker  day    time  size   tip_pct\n",
      "0         16.99  1.01     No  Sun  Dinner     2  0.059447\n",
      "1         10.34  1.66     No  Sun  Dinner     3  0.160542\n",
      "2         21.01  3.50     No  Sun  Dinner     3  0.166587\n",
      "3         23.68  3.31     No  Sun  Dinner     2  0.139780\n",
      "4         24.59  3.61     No  Sun  Dinner     4  0.146808\n",
      "5         25.29  4.71     No  Sun  Dinner     4  0.186240\n",
      "6          8.77  2.00     No  Sun  Dinner     2  0.228050\n",
      "7         26.88  3.12     No  Sun  Dinner     4  0.116071\n",
      "8         15.04  1.96     No  Sun  Dinner     2  0.130319\n",
      "9         14.78  3.23     No  Sun  Dinner     2  0.218539\n",
      "10        10.27  1.71     No  Sun  Dinner     2  0.166504\n",
      "11        35.26  5.00     No  Sun  Dinner     4  0.141804\n",
      "12        15.42  1.57     No  Sun  Dinner     2  0.101816\n",
      "13        18.43  3.00     No  Sun  Dinner     4  0.162778\n",
      "14        14.83  3.02     No  Sun  Dinner     2  0.203641\n",
      "15        21.58  3.92     No  Sun  Dinner     2  0.181650\n",
      "16        10.33  1.67     No  Sun  Dinner     3  0.161665\n",
      "17        16.29  3.71     No  Sun  Dinner     3  0.227747\n",
      "18        16.97  3.50     No  Sun  Dinner     3  0.206246\n",
      "41        17.46  2.54     No  Sun  Dinner     2  0.145475\n",
      "42        13.94  3.06     No  Sun  Dinner     2  0.219512\n",
      "43         9.68  1.32     No  Sun  Dinner     2  0.136364\n",
      "44        30.40  5.60     No  Sun  Dinner     4  0.184211\n",
      "45        18.29  3.00     No  Sun  Dinner     2  0.164024\n",
      "46        22.23  5.00     No  Sun  Dinner     2  0.224921\n",
      "47        32.40  6.00     No  Sun  Dinner     4  0.185185\n",
      "48        28.55  2.05     No  Sun  Dinner     3  0.071804\n",
      "49        18.04  3.00     No  Sun  Dinner     2  0.166297\n",
      "50        12.54  2.50     No  Sun  Dinner     2  0.199362\n",
      "51        10.29  2.60     No  Sun  Dinner     2  0.252672\n",
      "52        34.81  5.20     No  Sun  Dinner     4  0.149382\n",
      "53         9.94  1.56     No  Sun  Dinner     2  0.156942\n",
      "54        25.56  4.34     No  Sun  Dinner     4  0.169797\n",
      "55        19.49  3.51     No  Sun  Dinner     2  0.180092\n",
      "112       38.07  4.00     No  Sun  Dinner     3  0.105070\n",
      "113       23.95  2.55     No  Sun  Dinner     2  0.106472\n",
      "114       25.71  4.00     No  Sun  Dinner     3  0.155581\n",
      "115       17.31  3.50     No  Sun  Dinner     2  0.202195\n",
      "116       29.93  5.07     No  Sun  Dinner     4  0.169395\n",
      "150       14.07  2.50     No  Sun  Dinner     2  0.177683\n",
      "151       13.13  2.00     No  Sun  Dinner     2  0.152323\n",
      "152       17.26  2.74     No  Sun  Dinner     3  0.158749\n",
      "153       24.55  2.00     No  Sun  Dinner     4  0.081466\n",
      "154       19.77  2.00     No  Sun  Dinner     4  0.101163\n",
      "155       29.85  5.14     No  Sun  Dinner     5  0.172194\n",
      "156       48.17  5.00     No  Sun  Dinner     6  0.103799\n",
      "157       25.00  3.75     No  Sun  Dinner     4  0.150000\n",
      "158       13.39  2.61     No  Sun  Dinner     2  0.194922\n",
      "159       16.49  2.00     No  Sun  Dinner     4  0.121286\n",
      "160       21.50  3.50     No  Sun  Dinner     4  0.162791\n",
      "161       12.66  2.50     No  Sun  Dinner     2  0.197472\n",
      "162       16.21  2.00     No  Sun  Dinner     3  0.123381\n",
      "163       13.81  2.00     No  Sun  Dinner     2  0.144823\n",
      "165       24.52  3.48     No  Sun  Dinner     3  0.141925\n",
      "166       20.76  2.24     No  Sun  Dinner     2  0.107900\n",
      "167       31.71  4.50     No  Sun  Dinner     4  0.141911\n",
      "185       20.69  5.00     No  Sun  Dinner     5  0.241663\n",
      "Sun Yes\n",
      "     total_bill   tip smoker  day    time  size   tip_pct\n",
      "164       17.51  3.00    Yes  Sun  Dinner     2  0.171331\n",
      "172        7.25  5.15    Yes  Sun  Dinner     2  0.710345\n",
      "173       31.85  3.18    Yes  Sun  Dinner     2  0.099843\n",
      "174       16.82  4.00    Yes  Sun  Dinner     2  0.237812\n",
      "175       32.90  3.11    Yes  Sun  Dinner     2  0.094529\n",
      "176       17.89  2.00    Yes  Sun  Dinner     2  0.111794\n",
      "177       14.48  2.00    Yes  Sun  Dinner     2  0.138122\n",
      "178        9.60  4.00    Yes  Sun  Dinner     2  0.416667\n",
      "179       34.63  3.55    Yes  Sun  Dinner     2  0.102512\n",
      "180       34.65  3.68    Yes  Sun  Dinner     4  0.106205\n",
      "181       23.33  5.65    Yes  Sun  Dinner     2  0.242177\n",
      "182       45.35  3.50    Yes  Sun  Dinner     3  0.077178\n",
      "183       23.17  6.50    Yes  Sun  Dinner     4  0.280535\n",
      "184       40.55  3.00    Yes  Sun  Dinner     2  0.073983\n",
      "186       20.90  3.50    Yes  Sun  Dinner     3  0.167464\n",
      "187       30.46  2.00    Yes  Sun  Dinner     5  0.065660\n",
      "188       18.15  3.50    Yes  Sun  Dinner     3  0.192837\n",
      "189       23.10  4.00    Yes  Sun  Dinner     3  0.173160\n",
      "190       15.69  1.50    Yes  Sun  Dinner     2  0.095602\n",
      "Thur No\n",
      "     total_bill   tip smoker   day    time  size   tip_pct\n",
      "77        27.20  4.00     No  Thur   Lunch     4  0.147059\n",
      "78        22.76  3.00     No  Thur   Lunch     2  0.131810\n",
      "79        17.29  2.71     No  Thur   Lunch     2  0.156738\n",
      "81        16.66  3.40     No  Thur   Lunch     2  0.204082\n",
      "82        10.07  1.83     No  Thur   Lunch     1  0.181728\n",
      "84        15.98  2.03     No  Thur   Lunch     2  0.127034\n",
      "85        34.83  5.17     No  Thur   Lunch     4  0.148435\n",
      "86        13.03  2.00     No  Thur   Lunch     2  0.153492\n",
      "87        18.28  4.00     No  Thur   Lunch     2  0.218818\n",
      "88        24.71  5.85     No  Thur   Lunch     2  0.236746\n",
      "89        21.16  3.00     No  Thur   Lunch     2  0.141777\n",
      "117       10.65  1.50     No  Thur   Lunch     2  0.140845\n",
      "118       12.43  1.80     No  Thur   Lunch     2  0.144811\n",
      "119       24.08  2.92     No  Thur   Lunch     4  0.121262\n",
      "120       11.69  2.31     No  Thur   Lunch     2  0.197605\n",
      "121       13.42  1.68     No  Thur   Lunch     2  0.125186\n",
      "122       14.26  2.50     No  Thur   Lunch     2  0.175316\n",
      "123       15.95  2.00     No  Thur   Lunch     2  0.125392\n",
      "124       12.48  2.52     No  Thur   Lunch     2  0.201923\n",
      "125       29.80  4.20     No  Thur   Lunch     6  0.140940\n",
      "126        8.52  1.48     No  Thur   Lunch     2  0.173709\n",
      "127       14.52  2.00     No  Thur   Lunch     2  0.137741\n",
      "128       11.38  2.00     No  Thur   Lunch     2  0.175747\n",
      "129       22.82  2.18     No  Thur   Lunch     3  0.095530\n",
      "130       19.08  1.50     No  Thur   Lunch     2  0.078616\n",
      "131       20.27  2.83     No  Thur   Lunch     2  0.139615\n",
      "132       11.17  1.50     No  Thur   Lunch     2  0.134288\n",
      "133       12.26  2.00     No  Thur   Lunch     2  0.163132\n",
      "134       18.26  3.25     No  Thur   Lunch     2  0.177985\n",
      "135        8.51  1.25     No  Thur   Lunch     2  0.146886\n",
      "136       10.33  2.00     No  Thur   Lunch     2  0.193611\n",
      "137       14.15  2.00     No  Thur   Lunch     2  0.141343\n",
      "139       13.16  2.75     No  Thur   Lunch     2  0.208967\n",
      "140       17.47  3.50     No  Thur   Lunch     2  0.200343\n",
      "141       34.30  6.70     No  Thur   Lunch     6  0.195335\n",
      "142       41.19  5.00     No  Thur   Lunch     5  0.121389\n",
      "143       27.05  5.00     No  Thur   Lunch     6  0.184843\n",
      "144       16.43  2.30     No  Thur   Lunch     2  0.139988\n",
      "145        8.35  1.50     No  Thur   Lunch     2  0.179641\n",
      "146       18.64  1.36     No  Thur   Lunch     3  0.072961\n",
      "147       11.87  1.63     No  Thur   Lunch     2  0.137321\n",
      "148        9.78  1.73     No  Thur   Lunch     2  0.176892\n",
      "149        7.51  2.00     No  Thur   Lunch     2  0.266312\n",
      "195        7.56  1.44     No  Thur   Lunch     2  0.190476\n",
      "243       18.78  3.00     No  Thur  Dinner     2  0.159744\n",
      "Thur Yes\n",
      "     total_bill   tip smoker   day   time  size   tip_pct\n",
      "80        19.44  3.00    Yes  Thur  Lunch     2  0.154321\n",
      "83        32.68  5.00    Yes  Thur  Lunch     2  0.152999\n",
      "138       16.00  2.00    Yes  Thur  Lunch     2  0.125000\n",
      "191       19.81  4.19    Yes  Thur  Lunch     2  0.211509\n",
      "192       28.44  2.56    Yes  Thur  Lunch     2  0.090014\n",
      "193       15.48  2.02    Yes  Thur  Lunch     2  0.130491\n",
      "194       16.58  4.00    Yes  Thur  Lunch     2  0.241255\n",
      "196       10.34  2.00    Yes  Thur  Lunch     2  0.193424\n",
      "197       43.11  5.00    Yes  Thur  Lunch     4  0.115982\n",
      "198       13.00  2.00    Yes  Thur  Lunch     2  0.153846\n",
      "199       13.51  2.00    Yes  Thur  Lunch     2  0.148038\n",
      "200       18.71  4.00    Yes  Thur  Lunch     3  0.213789\n",
      "201       12.74  2.01    Yes  Thur  Lunch     2  0.157771\n",
      "202       13.00  2.00    Yes  Thur  Lunch     2  0.153846\n",
      "203       16.40  2.50    Yes  Thur  Lunch     2  0.152439\n",
      "204       20.53  4.00    Yes  Thur  Lunch     4  0.194837\n",
      "205       16.47  3.23    Yes  Thur  Lunch     3  0.196114\n"
     ]
    }
   ],
   "source": [
    "for (k1,k2),group in g1:\n",
    "    print(k1,k2)\n",
    "    print(group)\n",
    "    "
   ]
  },
  {
   "cell_type": "code",
   "execution_count": 80,
   "id": "e53c9a14",
   "metadata": {},
   "outputs": [],
   "source": [
    "def top(df, n=5, column='tip_pct'):\n",
    "    return df.sort_values(by=column)[-n:]\n"
   ]
  },
  {
   "cell_type": "code",
   "execution_count": 81,
   "id": "194a6bba",
   "metadata": {},
   "outputs": [
    {
     "data": {
      "text/html": [
       "<div>\n",
       "<style scoped>\n",
       "    .dataframe tbody tr th:only-of-type {\n",
       "        vertical-align: middle;\n",
       "    }\n",
       "\n",
       "    .dataframe tbody tr th {\n",
       "        vertical-align: top;\n",
       "    }\n",
       "\n",
       "    .dataframe thead th {\n",
       "        text-align: right;\n",
       "    }\n",
       "</style>\n",
       "<table border=\"1\" class=\"dataframe\">\n",
       "  <thead>\n",
       "    <tr style=\"text-align: right;\">\n",
       "      <th></th>\n",
       "      <th>total_bill</th>\n",
       "      <th>tip</th>\n",
       "      <th>smoker</th>\n",
       "      <th>day</th>\n",
       "      <th>time</th>\n",
       "      <th>size</th>\n",
       "      <th>tip_pct</th>\n",
       "    </tr>\n",
       "  </thead>\n",
       "  <tbody>\n",
       "    <tr>\n",
       "      <th>88</th>\n",
       "      <td>24.71</td>\n",
       "      <td>5.85</td>\n",
       "      <td>No</td>\n",
       "      <td>Thur</td>\n",
       "      <td>Lunch</td>\n",
       "      <td>2</td>\n",
       "      <td>0.236746</td>\n",
       "    </tr>\n",
       "    <tr>\n",
       "      <th>185</th>\n",
       "      <td>20.69</td>\n",
       "      <td>5.00</td>\n",
       "      <td>No</td>\n",
       "      <td>Sun</td>\n",
       "      <td>Dinner</td>\n",
       "      <td>5</td>\n",
       "      <td>0.241663</td>\n",
       "    </tr>\n",
       "    <tr>\n",
       "      <th>51</th>\n",
       "      <td>10.29</td>\n",
       "      <td>2.60</td>\n",
       "      <td>No</td>\n",
       "      <td>Sun</td>\n",
       "      <td>Dinner</td>\n",
       "      <td>2</td>\n",
       "      <td>0.252672</td>\n",
       "    </tr>\n",
       "    <tr>\n",
       "      <th>149</th>\n",
       "      <td>7.51</td>\n",
       "      <td>2.00</td>\n",
       "      <td>No</td>\n",
       "      <td>Thur</td>\n",
       "      <td>Lunch</td>\n",
       "      <td>2</td>\n",
       "      <td>0.266312</td>\n",
       "    </tr>\n",
       "    <tr>\n",
       "      <th>232</th>\n",
       "      <td>11.61</td>\n",
       "      <td>3.39</td>\n",
       "      <td>No</td>\n",
       "      <td>Sat</td>\n",
       "      <td>Dinner</td>\n",
       "      <td>2</td>\n",
       "      <td>0.291990</td>\n",
       "    </tr>\n",
       "    <tr>\n",
       "      <th>109</th>\n",
       "      <td>14.31</td>\n",
       "      <td>4.00</td>\n",
       "      <td>Yes</td>\n",
       "      <td>Sat</td>\n",
       "      <td>Dinner</td>\n",
       "      <td>2</td>\n",
       "      <td>0.279525</td>\n",
       "    </tr>\n",
       "    <tr>\n",
       "      <th>183</th>\n",
       "      <td>23.17</td>\n",
       "      <td>6.50</td>\n",
       "      <td>Yes</td>\n",
       "      <td>Sun</td>\n",
       "      <td>Dinner</td>\n",
       "      <td>4</td>\n",
       "      <td>0.280535</td>\n",
       "    </tr>\n",
       "    <tr>\n",
       "      <th>67</th>\n",
       "      <td>3.07</td>\n",
       "      <td>1.00</td>\n",
       "      <td>Yes</td>\n",
       "      <td>Sat</td>\n",
       "      <td>Dinner</td>\n",
       "      <td>1</td>\n",
       "      <td>0.325733</td>\n",
       "    </tr>\n",
       "    <tr>\n",
       "      <th>178</th>\n",
       "      <td>9.60</td>\n",
       "      <td>4.00</td>\n",
       "      <td>Yes</td>\n",
       "      <td>Sun</td>\n",
       "      <td>Dinner</td>\n",
       "      <td>2</td>\n",
       "      <td>0.416667</td>\n",
       "    </tr>\n",
       "    <tr>\n",
       "      <th>172</th>\n",
       "      <td>7.25</td>\n",
       "      <td>5.15</td>\n",
       "      <td>Yes</td>\n",
       "      <td>Sun</td>\n",
       "      <td>Dinner</td>\n",
       "      <td>2</td>\n",
       "      <td>0.710345</td>\n",
       "    </tr>\n",
       "  </tbody>\n",
       "</table>\n",
       "</div>"
      ],
      "text/plain": [
       "     total_bill   tip smoker   day    time  size   tip_pct\n",
       "88        24.71  5.85     No  Thur   Lunch     2  0.236746\n",
       "185       20.69  5.00     No   Sun  Dinner     5  0.241663\n",
       "51        10.29  2.60     No   Sun  Dinner     2  0.252672\n",
       "149        7.51  2.00     No  Thur   Lunch     2  0.266312\n",
       "232       11.61  3.39     No   Sat  Dinner     2  0.291990\n",
       "109       14.31  4.00    Yes   Sat  Dinner     2  0.279525\n",
       "183       23.17  6.50    Yes   Sun  Dinner     4  0.280535\n",
       "67         3.07  1.00    Yes   Sat  Dinner     1  0.325733\n",
       "178        9.60  4.00    Yes   Sun  Dinner     2  0.416667\n",
       "172        7.25  5.15    Yes   Sun  Dinner     2  0.710345"
      ]
     },
     "execution_count": 81,
     "metadata": {},
     "output_type": "execute_result"
    }
   ],
   "source": [
    "tips.groupby('smoker', group_keys=False).apply(top)"
   ]
  },
  {
   "cell_type": "code",
   "execution_count": 82,
   "id": "ba6acb50",
   "metadata": {},
   "outputs": [],
   "source": [
    "frame = pd.DataFrame({'data1': np.random.randn(1000),'data2': np.random.randn(1000)})"
   ]
  },
  {
   "cell_type": "code",
   "execution_count": 87,
   "id": "aa45f4c1",
   "metadata": {},
   "outputs": [],
   "source": [
    "quartiles=pd.cut(frame.data1,4)"
   ]
  },
  {
   "cell_type": "code",
   "execution_count": 131,
   "id": "140d420e",
   "metadata": {},
   "outputs": [
    {
     "data": {
      "text/plain": [
       "0       (-1.298, 0.468]\n",
       "1        (0.468, 2.234]\n",
       "2       (-1.298, 0.468]\n",
       "3       (-1.298, 0.468]\n",
       "4       (-1.298, 0.468]\n",
       "             ...       \n",
       "995      (0.468, 2.234]\n",
       "996    (-3.071, -1.298]\n",
       "997      (0.468, 2.234]\n",
       "998     (-1.298, 0.468]\n",
       "999     (-1.298, 0.468]\n",
       "Name: data1, Length: 1000, dtype: category\n",
       "Categories (4, interval[float64, right]): [(-3.071, -1.298] < (-1.298, 0.468] < (0.468, 2.234] < (2.234, 4.001]]"
      ]
     },
     "execution_count": 131,
     "metadata": {},
     "output_type": "execute_result"
    }
   ],
   "source": [
    "quartiles.cat.categories\n",
    "import matplotlib.pyplot as plt\n",
    "quartiles"
   ]
  },
  {
   "cell_type": "code",
   "execution_count": 137,
   "id": "6d9ad837",
   "metadata": {},
   "outputs": [
    {
     "name": "stderr",
     "output_type": "stream",
     "text": [
      "C:\\anaconda\\lib\\site-packages\\seaborn\\distributions.py:2619: FutureWarning: `distplot` is a deprecated function and will be removed in a future version. Please adapt your code to use either `displot` (a figure-level function with similar flexibility) or `histplot` (an axes-level function for histograms).\n",
      "  warnings.warn(msg, FutureWarning)\n"
     ]
    },
    {
     "data": {
      "text/plain": [
       "<AxesSubplot:xlabel='data1', ylabel='Density'>"
      ]
     },
     "execution_count": 137,
     "metadata": {},
     "output_type": "execute_result"
    },
    {
     "data": {
      "image/png": "[encoded data removed]",
      "text/plain": [
       "<Figure size 432x288 with 1 Axes>"
      ]
     },
     "metadata": {
      "needs_background": "light"
     },
     "output_type": "display_data"
    }
   ],
   "source": [
    "# plt.plot(quartiles.cat,quartiles)\n",
    "quartiles.value_counts().shape\n",
    "quartiles.cat.categories.shape\n",
    "\n",
    "import seaborn as sns\n",
    "# plt.hist(frame.data1,bins=[-3.071, -1.298, 0.468, 2.234, 4.001])\n",
    "sns.distplot(frame.data1,bins=[-3.071, -1.298, 0.468, 2.234, 4.001])"
   ]
  },
  {
   "cell_type": "code",
   "execution_count": 138,
   "id": "bddcc759",
   "metadata": {},
   "outputs": [],
   "source": [
    "states = ['Ohio', 'New York', 'Vermont', 'Florida',\n",
    " ....: 'Oregon', 'Nevada', 'California', 'Idaho']\n",
    "group_key= ['East'] * 4 + ['West'] * 4\n",
    "data = pd.Series(np.random.randn(8), index=states)"
   ]
  },
  {
   "cell_type": "code",
   "execution_count": 140,
   "id": "7962cc4b",
   "metadata": {},
   "outputs": [],
   "source": [
    "d=data.groupby(group_key)"
   ]
  },
  {
   "cell_type": "code",
   "execution_count": 141,
   "id": "db832f7f",
   "metadata": {},
   "outputs": [
    {
     "data": {
      "text/plain": [
       "East   -0.089910\n",
       "West   -0.322584\n",
       "dtype: float64"
      ]
     },
     "execution_count": 141,
     "metadata": {},
     "output_type": "execute_result"
    }
   ],
   "source": [
    "d.mean()"
   ]
  },
  {
   "cell_type": "code",
   "execution_count": 144,
   "id": "6d9469f7",
   "metadata": {},
   "outputs": [],
   "source": [
    "suits=['h','s','c','d']\n",
    "card_val=(list(range(1,11))+[10]*3)*4\n",
    "base_names=['a']+list(range(2,11))+['j','k','q']"
   ]
  },
  {
   "cell_type": "code",
   "execution_count": 149,
   "id": "2ad92e8a",
   "metadata": {},
   "outputs": [],
   "source": [
    "cards=[]\n",
    "    "
   ]
  },
  {
   "cell_type": "code",
   "execution_count": 147,
   "id": "3a2f9f55",
   "metadata": {},
   "outputs": [],
   "source": [
    "for suit in suits:\n",
    "    cards.extend(str(num)+suit for num in base_names)\n",
    "deck=pd.Series(card_val,index=cards)"
   ]
  },
  {
   "cell_type": "code",
   "execution_count": 150,
   "id": "7519821f",
   "metadata": {},
   "outputs": [
    {
     "data": {
      "text/plain": [
       "ah    1\n",
       "2h    2\n",
       "3h    3\n",
       "4h    4\n",
       "5h    5\n",
       "dtype: int64"
      ]
     },
     "execution_count": 150,
     "metadata": {},
     "output_type": "execute_result"
    }
   ],
   "source": [
    "deck.head()"
   ]
  },
  {
   "cell_type": "code",
   "execution_count": 151,
   "id": "b795a071",
   "metadata": {},
   "outputs": [],
   "source": [
    "def draw(deck,n=5):\n",
    "    return deck.sample(n)"
   ]
  },
  {
   "cell_type": "code",
   "execution_count": 152,
   "id": "6b6b165c",
   "metadata": {},
   "outputs": [
    {
     "data": {
      "text/plain": [
       "9s     9\n",
       "jd    10\n",
       "3h     3\n",
       "as     1\n",
       "2h     2\n",
       "dtype: int64"
      ]
     },
     "execution_count": 152,
     "metadata": {},
     "output_type": "execute_result"
    }
   ],
   "source": [
    "draw(deck)"
   ]
  },
  {
   "cell_type": "code",
   "execution_count": 153,
   "id": "d1c41712",
   "metadata": {},
   "outputs": [
    {
     "data": {
      "text/plain": [
       "c  8c      8\n",
       "   7c      7\n",
       "d  10d    10\n",
       "   jd     10\n",
       "h  4h      4\n",
       "   5h      5\n",
       "s  2s      2\n",
       "   8s      8\n",
       "dtype: int64"
      ]
     },
     "execution_count": 153,
     "metadata": {},
     "output_type": "execute_result"
    }
   ],
   "source": [
    "get_suit=lambda card:card[-1]\n",
    "deck.groupby(get_suit).apply(draw,n=2)"
   ]
  },
  {
   "cell_type": "code",
   "execution_count": 157,
   "id": "e57e34a3",
   "metadata": {},
   "outputs": [
    {
     "data": {
      "text/html": [
       "<div>\n",
       "<style scoped>\n",
       "    .dataframe tbody tr th:only-of-type {\n",
       "        vertical-align: middle;\n",
       "    }\n",
       "\n",
       "    .dataframe tbody tr th {\n",
       "        vertical-align: top;\n",
       "    }\n",
       "\n",
       "    .dataframe thead th {\n",
       "        text-align: right;\n",
       "    }\n",
       "</style>\n",
       "<table border=\"1\" class=\"dataframe\">\n",
       "  <thead>\n",
       "    <tr style=\"text-align: right;\">\n",
       "      <th></th>\n",
       "      <th></th>\n",
       "      <th>size</th>\n",
       "      <th>tip</th>\n",
       "      <th>tip_pct</th>\n",
       "      <th>total_bill</th>\n",
       "    </tr>\n",
       "    <tr>\n",
       "      <th>day</th>\n",
       "      <th>smoker</th>\n",
       "      <th></th>\n",
       "      <th></th>\n",
       "      <th></th>\n",
       "      <th></th>\n",
       "    </tr>\n",
       "  </thead>\n",
       "  <tbody>\n",
       "    <tr>\n",
       "      <th rowspan=\"2\" valign=\"top\">Fri</th>\n",
       "      <th>No</th>\n",
       "      <td>2.250000</td>\n",
       "      <td>2.812500</td>\n",
       "      <td>0.151650</td>\n",
       "      <td>18.420000</td>\n",
       "    </tr>\n",
       "    <tr>\n",
       "      <th>Yes</th>\n",
       "      <td>2.066667</td>\n",
       "      <td>2.714000</td>\n",
       "      <td>0.174783</td>\n",
       "      <td>16.813333</td>\n",
       "    </tr>\n",
       "    <tr>\n",
       "      <th rowspan=\"2\" valign=\"top\">Sat</th>\n",
       "      <th>No</th>\n",
       "      <td>2.555556</td>\n",
       "      <td>3.102889</td>\n",
       "      <td>0.158048</td>\n",
       "      <td>19.661778</td>\n",
       "    </tr>\n",
       "    <tr>\n",
       "      <th>Yes</th>\n",
       "      <td>2.476190</td>\n",
       "      <td>2.875476</td>\n",
       "      <td>0.147906</td>\n",
       "      <td>21.276667</td>\n",
       "    </tr>\n",
       "    <tr>\n",
       "      <th rowspan=\"2\" valign=\"top\">Sun</th>\n",
       "      <th>No</th>\n",
       "      <td>2.929825</td>\n",
       "      <td>3.167895</td>\n",
       "      <td>0.160113</td>\n",
       "      <td>20.506667</td>\n",
       "    </tr>\n",
       "    <tr>\n",
       "      <th>Yes</th>\n",
       "      <td>2.578947</td>\n",
       "      <td>3.516842</td>\n",
       "      <td>0.187250</td>\n",
       "      <td>24.120000</td>\n",
       "    </tr>\n",
       "    <tr>\n",
       "      <th rowspan=\"2\" valign=\"top\">Thur</th>\n",
       "      <th>No</th>\n",
       "      <td>2.488889</td>\n",
       "      <td>2.673778</td>\n",
       "      <td>0.160298</td>\n",
       "      <td>17.113111</td>\n",
       "    </tr>\n",
       "    <tr>\n",
       "      <th>Yes</th>\n",
       "      <td>2.352941</td>\n",
       "      <td>3.030000</td>\n",
       "      <td>0.163863</td>\n",
       "      <td>19.190588</td>\n",
       "    </tr>\n",
       "  </tbody>\n",
       "</table>\n",
       "</div>"
      ],
      "text/plain": [
       "                 size       tip   tip_pct  total_bill\n",
       "day  smoker                                          \n",
       "Fri  No      2.250000  2.812500  0.151650   18.420000\n",
       "     Yes     2.066667  2.714000  0.174783   16.813333\n",
       "Sat  No      2.555556  3.102889  0.158048   19.661778\n",
       "     Yes     2.476190  2.875476  0.147906   21.276667\n",
       "Sun  No      2.929825  3.167895  0.160113   20.506667\n",
       "     Yes     2.578947  3.516842  0.187250   24.120000\n",
       "Thur No      2.488889  2.673778  0.160298   17.113111\n",
       "     Yes     2.352941  3.030000  0.163863   19.190588"
      ]
     },
     "execution_count": 157,
     "metadata": {},
     "output_type": "execute_result"
    }
   ],
   "source": [
    "tips.pivot_table(index=['day','smoker'])"
   ]
  },
  {
   "cell_type": "code",
   "execution_count": 161,
   "id": "7cf69d74",
   "metadata": {},
   "outputs": [],
   "source": [
    "def return_val(g):\n",
    "    return g\n",
    "a=tips.groupby(['day','smoker'])"
   ]
  },
  {
   "cell_type": "code",
   "execution_count": 163,
   "id": "28e1a9f6",
   "metadata": {},
   "outputs": [
    {
     "data": {
      "text/html": [
       "<div>\n",
       "<style scoped>\n",
       "    .dataframe tbody tr th:only-of-type {\n",
       "        vertical-align: middle;\n",
       "    }\n",
       "\n",
       "    .dataframe tbody tr th {\n",
       "        vertical-align: top;\n",
       "    }\n",
       "\n",
       "    .dataframe thead th {\n",
       "        text-align: right;\n",
       "    }\n",
       "</style>\n",
       "<table border=\"1\" class=\"dataframe\">\n",
       "  <thead>\n",
       "    <tr style=\"text-align: right;\">\n",
       "      <th></th>\n",
       "      <th></th>\n",
       "      <th>total_bill</th>\n",
       "      <th>tip</th>\n",
       "      <th>size</th>\n",
       "      <th>tip_pct</th>\n",
       "    </tr>\n",
       "    <tr>\n",
       "      <th>day</th>\n",
       "      <th>smoker</th>\n",
       "      <th></th>\n",
       "      <th></th>\n",
       "      <th></th>\n",
       "      <th></th>\n",
       "    </tr>\n",
       "  </thead>\n",
       "  <tbody>\n",
       "    <tr>\n",
       "      <th rowspan=\"2\" valign=\"top\">Fri</th>\n",
       "      <th>No</th>\n",
       "      <td>18.420000</td>\n",
       "      <td>2.812500</td>\n",
       "      <td>2.250000</td>\n",
       "      <td>0.151650</td>\n",
       "    </tr>\n",
       "    <tr>\n",
       "      <th>Yes</th>\n",
       "      <td>16.813333</td>\n",
       "      <td>2.714000</td>\n",
       "      <td>2.066667</td>\n",
       "      <td>0.174783</td>\n",
       "    </tr>\n",
       "    <tr>\n",
       "      <th rowspan=\"2\" valign=\"top\">Sat</th>\n",
       "      <th>No</th>\n",
       "      <td>19.661778</td>\n",
       "      <td>3.102889</td>\n",
       "      <td>2.555556</td>\n",
       "      <td>0.158048</td>\n",
       "    </tr>\n",
       "    <tr>\n",
       "      <th>Yes</th>\n",
       "      <td>21.276667</td>\n",
       "      <td>2.875476</td>\n",
       "      <td>2.476190</td>\n",
       "      <td>0.147906</td>\n",
       "    </tr>\n",
       "    <tr>\n",
       "      <th rowspan=\"2\" valign=\"top\">Sun</th>\n",
       "      <th>No</th>\n",
       "      <td>20.506667</td>\n",
       "      <td>3.167895</td>\n",
       "      <td>2.929825</td>\n",
       "      <td>0.160113</td>\n",
       "    </tr>\n",
       "    <tr>\n",
       "      <th>Yes</th>\n",
       "      <td>24.120000</td>\n",
       "      <td>3.516842</td>\n",
       "      <td>2.578947</td>\n",
       "      <td>0.187250</td>\n",
       "    </tr>\n",
       "    <tr>\n",
       "      <th rowspan=\"2\" valign=\"top\">Thur</th>\n",
       "      <th>No</th>\n",
       "      <td>17.113111</td>\n",
       "      <td>2.673778</td>\n",
       "      <td>2.488889</td>\n",
       "      <td>0.160298</td>\n",
       "    </tr>\n",
       "    <tr>\n",
       "      <th>Yes</th>\n",
       "      <td>19.190588</td>\n",
       "      <td>3.030000</td>\n",
       "      <td>2.352941</td>\n",
       "      <td>0.163863</td>\n",
       "    </tr>\n",
       "  </tbody>\n",
       "</table>\n",
       "</div>"
      ],
      "text/plain": [
       "             total_bill       tip      size   tip_pct\n",
       "day  smoker                                          \n",
       "Fri  No       18.420000  2.812500  2.250000  0.151650\n",
       "     Yes      16.813333  2.714000  2.066667  0.174783\n",
       "Sat  No       19.661778  3.102889  2.555556  0.158048\n",
       "     Yes      21.276667  2.875476  2.476190  0.147906\n",
       "Sun  No       20.506667  3.167895  2.929825  0.160113\n",
       "     Yes      24.120000  3.516842  2.578947  0.187250\n",
       "Thur No       17.113111  2.673778  2.488889  0.160298\n",
       "     Yes      19.190588  3.030000  2.352941  0.163863"
      ]
     },
     "execution_count": 163,
     "metadata": {},
     "output_type": "execute_result"
    }
   ],
   "source": [
    "a.mean()"
   ]
  },
  {
   "cell_type": "code",
   "execution_count": 196,
   "id": "a83d7412",
   "metadata": {},
   "outputs": [],
   "source": [
    "sample=pd.DataFrame(np.arange(1,11))\n"
   ]
  },
  {
   "cell_type": "code",
   "execution_count": 197,
   "id": "8e5c6a76",
   "metadata": {},
   "outputs": [],
   "source": [
    "sample['Nationality']=pd.Series(['USA','JAPAN','USA','JAPAN','JAPAN','JAPAN',\"USA\",'USA','JAPAN','USA'])\n"
   ]
  },
  {
   "cell_type": "code",
   "execution_count": 194,
   "id": "3d44f8ae",
   "metadata": {},
   "outputs": [],
   "source": [
    "h=['Rh','Lh']\n",
    "a=np.random.choice(h,size=(1,10))\n",
    "a=a.tolist()[0]"
   ]
  },
  {
   "cell_type": "code",
   "execution_count": 206,
   "id": "091185a5",
   "metadata": {},
   "outputs": [],
   "source": [
    "sample['hand']=a"
   ]
  },
  {
   "cell_type": "code",
   "execution_count": 211,
   "id": "8fbbc023",
   "metadata": {},
   "outputs": [
    {
     "data": {
      "text/html": [
       "<div>\n",
       "<style scoped>\n",
       "    .dataframe tbody tr th:only-of-type {\n",
       "        vertical-align: middle;\n",
       "    }\n",
       "\n",
       "    .dataframe tbody tr th {\n",
       "        vertical-align: top;\n",
       "    }\n",
       "\n",
       "    .dataframe thead th {\n",
       "        text-align: right;\n",
       "    }\n",
       "</style>\n",
       "<table border=\"1\" class=\"dataframe\">\n",
       "  <thead>\n",
       "    <tr style=\"text-align: right;\">\n",
       "      <th></th>\n",
       "      <th>0</th>\n",
       "      <th>Nationality</th>\n",
       "      <th>hand</th>\n",
       "    </tr>\n",
       "  </thead>\n",
       "  <tbody>\n",
       "    <tr>\n",
       "      <th>0</th>\n",
       "      <td>1</td>\n",
       "      <td>USA</td>\n",
       "      <td>Lh</td>\n",
       "    </tr>\n",
       "    <tr>\n",
       "      <th>1</th>\n",
       "      <td>2</td>\n",
       "      <td>JAPAN</td>\n",
       "      <td>Rh</td>\n",
       "    </tr>\n",
       "    <tr>\n",
       "      <th>2</th>\n",
       "      <td>3</td>\n",
       "      <td>USA</td>\n",
       "      <td>Rh</td>\n",
       "    </tr>\n",
       "    <tr>\n",
       "      <th>3</th>\n",
       "      <td>4</td>\n",
       "      <td>JAPAN</td>\n",
       "      <td>Lh</td>\n",
       "    </tr>\n",
       "    <tr>\n",
       "      <th>4</th>\n",
       "      <td>5</td>\n",
       "      <td>JAPAN</td>\n",
       "      <td>Rh</td>\n",
       "    </tr>\n",
       "    <tr>\n",
       "      <th>5</th>\n",
       "      <td>6</td>\n",
       "      <td>JAPAN</td>\n",
       "      <td>Lh</td>\n",
       "    </tr>\n",
       "    <tr>\n",
       "      <th>6</th>\n",
       "      <td>7</td>\n",
       "      <td>USA</td>\n",
       "      <td>Rh</td>\n",
       "    </tr>\n",
       "    <tr>\n",
       "      <th>7</th>\n",
       "      <td>8</td>\n",
       "      <td>USA</td>\n",
       "      <td>Lh</td>\n",
       "    </tr>\n",
       "    <tr>\n",
       "      <th>8</th>\n",
       "      <td>9</td>\n",
       "      <td>JAPAN</td>\n",
       "      <td>Lh</td>\n",
       "    </tr>\n",
       "    <tr>\n",
       "      <th>9</th>\n",
       "      <td>10</td>\n",
       "      <td>USA</td>\n",
       "      <td>Rh</td>\n",
       "    </tr>\n",
       "  </tbody>\n",
       "</table>\n",
       "</div>"
      ],
      "text/plain": [
       "    0 Nationality hand\n",
       "0   1         USA   Lh\n",
       "1   2       JAPAN   Rh\n",
       "2   3         USA   Rh\n",
       "3   4       JAPAN   Lh\n",
       "4   5       JAPAN   Rh\n",
       "5   6       JAPAN   Lh\n",
       "6   7         USA   Rh\n",
       "7   8         USA   Lh\n",
       "8   9       JAPAN   Lh\n",
       "9  10         USA   Rh"
      ]
     },
     "execution_count": 211,
     "metadata": {},
     "output_type": "execute_result"
    }
   ],
   "source": [
    "sample"
   ]
  },
  {
   "cell_type": "code",
   "execution_count": 212,
   "id": "165ecfbd",
   "metadata": {},
   "outputs": [
    {
     "data": {
      "text/plain": [
       "<pandas.core.groupby.generic.DataFrameGroupBy object at 0x000001B95883E820>"
      ]
     },
     "execution_count": 212,
     "metadata": {},
     "output_type": "execute_result"
    }
   ],
   "source": [
    "sample.groupby(['Nationality'])"
   ]
  },
  {
   "cell_type": "code",
   "execution_count": 213,
   "id": "69ae4c42",
   "metadata": {},
   "outputs": [
    {
     "data": {
      "text/html": [
       "<div>\n",
       "<style scoped>\n",
       "    .dataframe tbody tr th:only-of-type {\n",
       "        vertical-align: middle;\n",
       "    }\n",
       "\n",
       "    .dataframe tbody tr th {\n",
       "        vertical-align: top;\n",
       "    }\n",
       "\n",
       "    .dataframe thead th {\n",
       "        text-align: right;\n",
       "    }\n",
       "</style>\n",
       "<table border=\"1\" class=\"dataframe\">\n",
       "  <thead>\n",
       "    <tr style=\"text-align: right;\">\n",
       "      <th>col_0</th>\n",
       "      <th>False</th>\n",
       "    </tr>\n",
       "    <tr>\n",
       "      <th>Nationality</th>\n",
       "      <th></th>\n",
       "    </tr>\n",
       "  </thead>\n",
       "  <tbody>\n",
       "    <tr>\n",
       "      <th>JAPAN</th>\n",
       "      <td>5</td>\n",
       "    </tr>\n",
       "    <tr>\n",
       "      <th>USA</th>\n",
       "      <td>5</td>\n",
       "    </tr>\n",
       "  </tbody>\n",
       "</table>\n",
       "</div>"
      ],
      "text/plain": [
       "col_0        False\n",
       "Nationality       \n",
       "JAPAN            5\n",
       "USA              5"
      ]
     },
     "execution_count": 213,
     "metadata": {},
     "output_type": "execute_result"
    }
   ],
   "source": [
    "pd.crosstab(sample.Nationality,data.hasnans)"
   ]
  },
  {
   "cell_type": "code",
   "execution_count": 214,
   "id": "b8f967cc",
   "metadata": {},
   "outputs": [],
   "source": [
    "from datetime import datetime\n",
    "now=datetime.now()"
   ]
  },
  {
   "cell_type": "code",
   "execution_count": 216,
   "id": "460e2484",
   "metadata": {},
   "outputs": [],
   "source": [
    "stamp=now\n"
   ]
  },
  {
   "cell_type": "code",
   "execution_count": 217,
   "id": "cceb7338",
   "metadata": {},
   "outputs": [
    {
     "data": {
      "text/plain": [
       "'2022-06-11'"
      ]
     },
     "execution_count": 217,
     "metadata": {},
     "output_type": "execute_result"
    }
   ],
   "source": [
    "stamp.strftime('%Y-%m-%d')"
   ]
  },
  {
   "cell_type": "code",
   "execution_count": 218,
   "id": "f5f393a9",
   "metadata": {},
   "outputs": [
    {
     "data": {
      "text/plain": [
       "datetime.datetime(2022, 6, 11, 0, 0)"
      ]
     },
     "execution_count": 218,
     "metadata": {},
     "output_type": "execute_result"
    }
   ],
   "source": [
    "val='2022-06-11'\n",
    "datetime.strptime(val,\"%Y-%m-%d\")"
   ]
  },
  {
   "cell_type": "code",
   "execution_count": 222,
   "id": "ce75fe0b",
   "metadata": {},
   "outputs": [],
   "source": [
    "from dateutil.parser import parse\n",
    "parse('2011-11-03')\n",
    "datestrs=['2011-07-06 12:00:00','2011-08-06 00:00:00']\n"
   ]
  },
  {
   "cell_type": "code",
   "execution_count": 223,
   "id": "7efb5a18",
   "metadata": {},
   "outputs": [],
   "source": [
    "dates = [datetime(2011, 1, 2), datetime(2011, 1, 5),\n",
    " ....: datetime(2011, 1, 7), datetime(2011, 1, 8),\n",
    " ....: datetime(2011, 1, 10), datetime(2011, 1, 12)]"
   ]
  },
  {
   "cell_type": "code",
   "execution_count": 224,
   "id": "08887d14",
   "metadata": {},
   "outputs": [],
   "source": [
    "ts = pd.Series(np.random.randn(6), index=dates)\n"
   ]
  },
  {
   "cell_type": "code",
   "execution_count": 225,
   "id": "165bde44",
   "metadata": {},
   "outputs": [
    {
     "data": {
      "text/plain": [
       "2011-01-02   -2.082792\n",
       "2011-01-05   -0.478989\n",
       "2011-01-07   -0.730146\n",
       "2011-01-08    0.065634\n",
       "2011-01-10   -0.572213\n",
       "2011-01-12    0.979971\n",
       "dtype: float64"
      ]
     },
     "execution_count": 225,
     "metadata": {},
     "output_type": "execute_result"
    }
   ],
   "source": [
    "ts"
   ]
  },
  {
   "cell_type": "code",
   "execution_count": 226,
   "id": "2cd94e5c",
   "metadata": {},
   "outputs": [],
   "source": [
    "longer_ts = pd.Series(np.random.randn(1000),index=pd.date_range('1/1/2000', periods=1000))"
   ]
  },
  {
   "cell_type": "code",
   "execution_count": 227,
   "id": "935816a4",
   "metadata": {},
   "outputs": [
    {
     "data": {
      "text/plain": [
       "-0.7301458515111013"
      ]
     },
     "execution_count": 227,
     "metadata": {},
     "output_type": "execute_result"
    }
   ],
   "source": [
    "ts['2011-01-07']"
   ]
  },
  {
   "cell_type": "code",
   "execution_count": 228,
   "id": "397a70cd",
   "metadata": {},
   "outputs": [
    {
     "data": {
      "text/plain": [
       "2011-01-07   -0.730146\n",
       "2011-01-08    0.065634\n",
       "2011-01-10   -0.572213\n",
       "dtype: float64"
      ]
     },
     "execution_count": 228,
     "metadata": {},
     "output_type": "execute_result"
    }
   ],
   "source": [
    "ts['1/6/2011':'1/11/2011']"
   ]
  },
  {
   "cell_type": "code",
   "execution_count": 229,
   "id": "a2455010",
   "metadata": {},
   "outputs": [],
   "source": [
    "dates = pd.date_range('1/1/2000', periods=100, freq='W-WED')"
   ]
  },
  {
   "cell_type": "code",
   "execution_count": 230,
   "id": "411ba057",
   "metadata": {},
   "outputs": [
    {
     "data": {
      "text/plain": [
       "DatetimeIndex(['2000-01-05', '2000-01-12', '2000-01-19', '2000-01-26',\n",
       "               '2000-02-02', '2000-02-09', '2000-02-16', '2000-02-23',\n",
       "               '2000-03-01', '2000-03-08', '2000-03-15', '2000-03-22',\n",
       "               '2000-03-29', '2000-04-05', '2000-04-12', '2000-04-19',\n",
       "               '2000-04-26', '2000-05-03', '2000-05-10', '2000-05-17',\n",
       "               '2000-05-24', '2000-05-31', '2000-06-07', '2000-06-14',\n",
       "               '2000-06-21', '2000-06-28', '2000-07-05', '2000-07-12',\n",
       "               '2000-07-19', '2000-07-26', '2000-08-02', '2000-08-09',\n",
       "               '2000-08-16', '2000-08-23', '2000-08-30', '2000-09-06',\n",
       "               '2000-09-13', '2000-09-20', '2000-09-27', '2000-10-04',\n",
       "               '2000-10-11', '2000-10-18', '2000-10-25', '2000-11-01',\n",
       "               '2000-11-08', '2000-11-15', '2000-11-22', '2000-11-29',\n",
       "               '2000-12-06', '2000-12-13', '2000-12-20', '2000-12-27',\n",
       "               '2001-01-03', '2001-01-10', '2001-01-17', '2001-01-24',\n",
       "               '2001-01-31', '2001-02-07', '2001-02-14', '2001-02-21',\n",
       "               '2001-02-28', '2001-03-07', '2001-03-14', '2001-03-21',\n",
       "               '2001-03-28', '2001-04-04', '2001-04-11', '2001-04-18',\n",
       "               '2001-04-25', '2001-05-02', '2001-05-09', '2001-05-16',\n",
       "               '2001-05-23', '2001-05-30', '2001-06-06', '2001-06-13',\n",
       "               '2001-06-20', '2001-06-27', '2001-07-04', '2001-07-11',\n",
       "               '2001-07-18', '2001-07-25', '2001-08-01', '2001-08-08',\n",
       "               '2001-08-15', '2001-08-22', '2001-08-29', '2001-09-05',\n",
       "               '2001-09-12', '2001-09-19', '2001-09-26', '2001-10-03',\n",
       "               '2001-10-10', '2001-10-17', '2001-10-24', '2001-10-31',\n",
       "               '2001-11-07', '2001-11-14', '2001-11-21', '2001-11-28'],\n",
       "              dtype='datetime64[ns]', freq='W-WED')"
      ]
     },
     "execution_count": 230,
     "metadata": {},
     "output_type": "execute_result"
    }
   ],
   "source": [
    "dates"
   ]
  },
  {
   "cell_type": "code",
   "execution_count": 231,
   "id": "5fd247ef",
   "metadata": {},
   "outputs": [],
   "source": [
    "dates = pd.DatetimeIndex(['1/1/2000', '1/2/2000', '1/2/2000',\n",
    " ....: '1/2/2000', '1/3/2000'])"
   ]
  },
  {
   "cell_type": "code",
   "execution_count": 232,
   "id": "d332d480",
   "metadata": {},
   "outputs": [],
   "source": [
    "dup_ts=pd.Series(np.arange(5),index=dates)"
   ]
  },
  {
   "cell_type": "code",
   "execution_count": 233,
   "id": "a7513948",
   "metadata": {},
   "outputs": [
    {
     "data": {
      "text/plain": [
       "2000-01-01    0\n",
       "2000-01-02    1\n",
       "2000-01-02    2\n",
       "2000-01-02    3\n",
       "2000-01-03    4\n",
       "dtype: int32"
      ]
     },
     "execution_count": 233,
     "metadata": {},
     "output_type": "execute_result"
    }
   ],
   "source": [
    "dup_ts"
   ]
  },
  {
   "cell_type": "code",
   "execution_count": 235,
   "id": "0faec44f",
   "metadata": {},
   "outputs": [
    {
     "data": {
      "text/plain": [
       "False"
      ]
     },
     "execution_count": 235,
     "metadata": {},
     "output_type": "execute_result"
    }
   ],
   "source": [
    "dup_ts.index.is_unique"
   ]
  },
  {
   "cell_type": "code",
   "execution_count": 237,
   "id": "98684897",
   "metadata": {},
   "outputs": [
    {
     "data": {
      "text/plain": [
       "2000-01-02    1\n",
       "2000-01-02    2\n",
       "2000-01-02    3\n",
       "dtype: int32"
      ]
     },
     "execution_count": 237,
     "metadata": {},
     "output_type": "execute_result"
    }
   ],
   "source": [
    "dup_ts['01-02-2000']"
   ]
  },
  {
   "cell_type": "code",
   "execution_count": 238,
   "id": "92edde8c",
   "metadata": {},
   "outputs": [
    {
     "data": {
      "text/plain": [
       "2011-01-02   -2.082792\n",
       "2011-01-05   -0.478989\n",
       "2011-01-07   -0.730146\n",
       "2011-01-08    0.065634\n",
       "2011-01-10   -0.572213\n",
       "2011-01-12    0.979971\n",
       "dtype: float64"
      ]
     },
     "execution_count": 238,
     "metadata": {},
     "output_type": "execute_result"
    }
   ],
   "source": [
    "ts"
   ]
  },
  {
   "cell_type": "code",
   "execution_count": 241,
   "id": "72dcf425",
   "metadata": {},
   "outputs": [],
   "source": [
    "p=ts.resample('D')"
   ]
  },
  {
   "cell_type": "code",
   "execution_count": 247,
   "id": "6dea33bb",
   "metadata": {},
   "outputs": [],
   "source": [
    "dr=pd.date_range('27-04-2022',datetime.now(),freq='D')"
   ]
  },
  {
   "cell_type": "code",
   "execution_count": 248,
   "id": "a2611f91",
   "metadata": {},
   "outputs": [
    {
     "data": {
      "text/plain": [
       "47"
      ]
     },
     "execution_count": 248,
     "metadata": {},
     "output_type": "execute_result"
    }
   ],
   "source": [
    "len(dr)"
   ]
  },
  {
   "cell_type": "code",
   "execution_count": 277,
   "id": "464979ce",
   "metadata": {},
   "outputs": [],
   "source": [
    "a=pd.date_range('27-04-2022 9:30',datetime.now(),freq='W-WED')"
   ]
  },
  {
   "cell_type": "code",
   "execution_count": 278,
   "id": "9065aa4c",
   "metadata": {},
   "outputs": [
    {
     "data": {
      "text/plain": [
       "['US/Eastern', 'US/Hawaii', 'US/Mountain', 'US/Pacific', 'UTC']"
      ]
     },
     "execution_count": 278,
     "metadata": {},
     "output_type": "execute_result"
    }
   ],
   "source": [
    "\n",
    "import pytz\n",
    "pytz.common_timezones[-5:]"
   ]
  },
  {
   "cell_type": "code",
   "execution_count": 279,
   "id": "cfde7f5f",
   "metadata": {},
   "outputs": [
    {
     "data": {
      "text/plain": [
       "DatetimeIndex(['2022-04-27 09:30:00', '2022-05-04 09:30:00',\n",
       "               '2022-05-11 09:30:00', '2022-05-18 09:30:00',\n",
       "               '2022-05-25 09:30:00', '2022-06-01 09:30:00',\n",
       "               '2022-06-08 09:30:00'],\n",
       "              dtype='datetime64[ns]', freq='W-WED')"
      ]
     },
     "execution_count": 279,
     "metadata": {},
     "output_type": "execute_result"
    }
   ],
   "source": [
    "a"
   ]
  },
  {
   "cell_type": "code",
   "execution_count": 280,
   "id": "fb84d178",
   "metadata": {},
   "outputs": [],
   "source": [
    "\n",
    "s=pd.Series(np.random.randn(7),index=a)\n",
    "\n",
    "# a.tz_localize('UTC')"
   ]
  },
  {
   "cell_type": "code",
   "execution_count": 282,
   "id": "8a6ec2e5",
   "metadata": {},
   "outputs": [
    {
     "data": {
      "text/plain": [
       "2022-04-27 09:30:00+00:00    1.433918\n",
       "2022-05-04 09:30:00+00:00    1.213849\n",
       "2022-05-11 09:30:00+00:00   -1.262546\n",
       "2022-05-18 09:30:00+00:00    0.046236\n",
       "2022-05-25 09:30:00+00:00   -0.689971\n",
       "2022-06-01 09:30:00+00:00   -1.826821\n",
       "2022-06-08 09:30:00+00:00    0.273077\n",
       "Freq: W-WED, dtype: float64"
      ]
     },
     "execution_count": 282,
     "metadata": {},
     "output_type": "execute_result"
    }
   ],
   "source": [
    "s.tz_localize('UTC')"
   ]
  },
  {
   "cell_type": "code",
   "execution_count": 283,
   "id": "47fdd1e2",
   "metadata": {},
   "outputs": [],
   "source": [
    "ts_e=ts.tz_localize('America/New_York')"
   ]
  },
  {
   "cell_type": "code",
   "execution_count": 286,
   "id": "d2f08fd5",
   "metadata": {},
   "outputs": [],
   "source": [
    "ts_b=ts_e.tz_convert('Europe/Berlin')"
   ]
  },
  {
   "cell_type": "code",
   "execution_count": 287,
   "id": "91f3d51f",
   "metadata": {},
   "outputs": [
    {
     "data": {
      "text/plain": [
       "2011-01-02 06:00:00+01:00   -2.082792\n",
       "2011-01-05 06:00:00+01:00   -0.478989\n",
       "2011-01-07 06:00:00+01:00   -0.730146\n",
       "2011-01-08 06:00:00+01:00    0.065634\n",
       "2011-01-10 06:00:00+01:00   -0.572213\n",
       "2011-01-12 06:00:00+01:00    0.979971\n",
       "dtype: float64"
      ]
     },
     "execution_count": 287,
     "metadata": {},
     "output_type": "execute_result"
    }
   ],
   "source": [
    "ts_b"
   ]
  },
  {
   "cell_type": "code",
   "execution_count": 292,
   "id": "8789acf2",
   "metadata": {},
   "outputs": [],
   "source": [
    "r=pd.date_range('2/7/2090','2/8/2091',periods=10)"
   ]
  },
  {
   "cell_type": "code",
   "execution_count": 293,
   "id": "26819902",
   "metadata": {},
   "outputs": [
    {
     "data": {
      "text/plain": [
       "DatetimeIndex(['2090-02-07 00:00:00', '2090-03-19 16:00:00',\n",
       "               '2090-04-29 08:00:00', '2090-06-09 00:00:00',\n",
       "               '2090-07-19 16:00:00', '2090-08-29 08:00:00',\n",
       "               '2090-10-09 00:00:00', '2090-11-18 16:00:00',\n",
       "               '2090-12-29 08:00:00', '2091-02-08 00:00:00'],\n",
       "              dtype='datetime64[ns]', freq=None)"
      ]
     },
     "execution_count": 293,
     "metadata": {},
     "output_type": "execute_result"
    }
   ],
   "source": [
    "r"
   ]
  },
  {
   "cell_type": "code",
   "execution_count": 294,
   "id": "8b8e2f2a",
   "metadata": {},
   "outputs": [],
   "source": [
    "ts=pd.Series(np.random.randn(len(r)),index=r)"
   ]
  },
  {
   "cell_type": "code",
   "execution_count": 295,
   "id": "c12afd62",
   "metadata": {},
   "outputs": [
    {
     "data": {
      "text/plain": [
       "2090-02-07 00:00:00    0.520633\n",
       "2090-03-19 16:00:00   -1.334728\n",
       "2090-04-29 08:00:00    0.636135\n",
       "2090-06-09 00:00:00    1.224588\n",
       "2090-07-19 16:00:00    0.077365\n",
       "2090-08-29 08:00:00   -0.860527\n",
       "2090-10-09 00:00:00    0.490514\n",
       "2090-11-18 16:00:00    2.259379\n",
       "2090-12-29 08:00:00    0.076362\n",
       "2091-02-08 00:00:00    2.873414\n",
       "dtype: float64"
      ]
     },
     "execution_count": 295,
     "metadata": {},
     "output_type": "execute_result"
    }
   ],
   "source": [
    "ts"
   ]
  },
  {
   "cell_type": "code",
   "execution_count": 296,
   "id": "ea7d76a6",
   "metadata": {},
   "outputs": [],
   "source": [
    "p=pd.Period(2007)"
   ]
  },
  {
   "cell_type": "code",
   "execution_count": 297,
   "id": "1a9daa29",
   "metadata": {},
   "outputs": [
    {
     "data": {
      "text/plain": [
       "Period('2007', 'A-DEC')"
      ]
     },
     "execution_count": 297,
     "metadata": {},
     "output_type": "execute_result"
    }
   ],
   "source": [
    "p"
   ]
  },
  {
   "cell_type": "code",
   "execution_count": 298,
   "id": "4a6229c3",
   "metadata": {},
   "outputs": [],
   "source": [
    "p=pd.Period('2007',freq='A-JUN')"
   ]
  },
  {
   "cell_type": "code",
   "execution_count": 299,
   "id": "a91af224",
   "metadata": {},
   "outputs": [
    {
     "data": {
      "text/plain": [
       "Period('2007', 'A-JUN')"
      ]
     },
     "execution_count": 299,
     "metadata": {},
     "output_type": "execute_result"
    }
   ],
   "source": [
    "p"
   ]
  },
  {
   "cell_type": "code",
   "execution_count": 301,
   "id": "b9ebe414",
   "metadata": {},
   "outputs": [
    {
     "data": {
      "text/plain": [
       "Period('2006-07', 'M')"
      ]
     },
     "execution_count": 301,
     "metadata": {},
     "output_type": "execute_result"
    }
   ],
   "source": [
    "\n",
    "p.asfreq('M',how='start')"
   ]
  },
  {
   "cell_type": "code",
   "execution_count": 302,
   "id": "a98c1fe8",
   "metadata": {},
   "outputs": [],
   "source": [
    " rng = pd.period_range('2011Q3', '2012Q4', freq='Q-JAN')"
   ]
  },
  {
   "cell_type": "code",
   "execution_count": 303,
   "id": "646fe208",
   "metadata": {},
   "outputs": [
    {
     "data": {
      "text/plain": [
       "PeriodIndex(['2011Q3', '2011Q4', '2012Q1', '2012Q2', '2012Q3', '2012Q4'], dtype='period[Q-JAN]')"
      ]
     },
     "execution_count": 303,
     "metadata": {},
     "output_type": "execute_result"
    }
   ],
   "source": [
    "rng"
   ]
  },
  {
   "cell_type": "code",
   "execution_count": 304,
   "id": "ee57c74f",
   "metadata": {},
   "outputs": [],
   "source": [
    "d=pd.read_csv(\"macrodata.csv\")"
   ]
  },
  {
   "cell_type": "code",
   "execution_count": 306,
   "id": "a8e2b409",
   "metadata": {},
   "outputs": [
    {
     "data": {
      "text/plain": [
       "0      1959.0\n",
       "1      1959.0\n",
       "2      1959.0\n",
       "3      1959.0\n",
       "4      1960.0\n",
       "        ...  \n",
       "198    2008.0\n",
       "199    2008.0\n",
       "200    2009.0\n",
       "201    2009.0\n",
       "202    2009.0\n",
       "Name: year, Length: 203, dtype: float64"
      ]
     },
     "execution_count": 306,
     "metadata": {},
     "output_type": "execute_result"
    }
   ],
   "source": [
    "d.year"
   ]
  },
  {
   "cell_type": "code",
   "execution_count": 307,
   "id": "867c52f2",
   "metadata": {},
   "outputs": [
    {
     "data": {
      "text/plain": [
       "0      1.0\n",
       "1      2.0\n",
       "2      3.0\n",
       "3      4.0\n",
       "4      1.0\n",
       "      ... \n",
       "198    3.0\n",
       "199    4.0\n",
       "200    1.0\n",
       "201    2.0\n",
       "202    3.0\n",
       "Name: quarter, Length: 203, dtype: float64"
      ]
     },
     "execution_count": 307,
     "metadata": {},
     "output_type": "execute_result"
    }
   ],
   "source": [
    "d.quarter"
   ]
  },
  {
   "cell_type": "code",
   "execution_count": 308,
   "id": "69472ccc",
   "metadata": {},
   "outputs": [],
   "source": [
    "index=pd.PeriodIndex(year=d.year,quarter=d.quarter,freq='Q-DEC')"
   ]
  },
  {
   "cell_type": "code",
   "execution_count": 309,
   "id": "b7cc134b",
   "metadata": {},
   "outputs": [
    {
     "data": {
      "text/plain": [
       "PeriodIndex(['1959Q1', '1959Q2', '1959Q3', '1959Q4', '1960Q1', '1960Q2',\n",
       "             '1960Q3', '1960Q4', '1961Q1', '1961Q2',\n",
       "             ...\n",
       "             '2007Q2', '2007Q3', '2007Q4', '2008Q1', '2008Q2', '2008Q3',\n",
       "             '2008Q4', '2009Q1', '2009Q2', '2009Q3'],\n",
       "            dtype='period[Q-DEC]', length=203)"
      ]
     },
     "execution_count": 309,
     "metadata": {},
     "output_type": "execute_result"
    }
   ],
   "source": [
    "index"
   ]
  },
  {
   "cell_type": "code",
   "execution_count": 311,
   "id": "8b1734fc",
   "metadata": {},
   "outputs": [],
   "source": [
    "d.index=index"
   ]
  },
  {
   "cell_type": "code",
   "execution_count": 312,
   "id": "445de22a",
   "metadata": {},
   "outputs": [
    {
     "data": {
      "text/html": [
       "<div>\n",
       "<style scoped>\n",
       "    .dataframe tbody tr th:only-of-type {\n",
       "        vertical-align: middle;\n",
       "    }\n",
       "\n",
       "    .dataframe tbody tr th {\n",
       "        vertical-align: top;\n",
       "    }\n",
       "\n",
       "    .dataframe thead th {\n",
       "        text-align: right;\n",
       "    }\n",
       "</style>\n",
       "<table border=\"1\" class=\"dataframe\">\n",
       "  <thead>\n",
       "    <tr style=\"text-align: right;\">\n",
       "      <th></th>\n",
       "      <th>year</th>\n",
       "      <th>quarter</th>\n",
       "      <th>realgdp</th>\n",
       "      <th>realcons</th>\n",
       "      <th>realinv</th>\n",
       "      <th>realgovt</th>\n",
       "      <th>realdpi</th>\n",
       "      <th>cpi</th>\n",
       "      <th>m1</th>\n",
       "      <th>tbilrate</th>\n",
       "      <th>unemp</th>\n",
       "      <th>pop</th>\n",
       "      <th>infl</th>\n",
       "      <th>realint</th>\n",
       "    </tr>\n",
       "  </thead>\n",
       "  <tbody>\n",
       "    <tr>\n",
       "      <th>1959Q1</th>\n",
       "      <td>1959.0</td>\n",
       "      <td>1.0</td>\n",
       "      <td>2710.349</td>\n",
       "      <td>1707.4</td>\n",
       "      <td>286.898</td>\n",
       "      <td>470.045</td>\n",
       "      <td>1886.9</td>\n",
       "      <td>28.980</td>\n",
       "      <td>139.7</td>\n",
       "      <td>2.82</td>\n",
       "      <td>5.8</td>\n",
       "      <td>177.146</td>\n",
       "      <td>0.00</td>\n",
       "      <td>0.00</td>\n",
       "    </tr>\n",
       "    <tr>\n",
       "      <th>1959Q2</th>\n",
       "      <td>1959.0</td>\n",
       "      <td>2.0</td>\n",
       "      <td>2778.801</td>\n",
       "      <td>1733.7</td>\n",
       "      <td>310.859</td>\n",
       "      <td>481.301</td>\n",
       "      <td>1919.7</td>\n",
       "      <td>29.150</td>\n",
       "      <td>141.7</td>\n",
       "      <td>3.08</td>\n",
       "      <td>5.1</td>\n",
       "      <td>177.830</td>\n",
       "      <td>2.34</td>\n",
       "      <td>0.74</td>\n",
       "    </tr>\n",
       "    <tr>\n",
       "      <th>1959Q3</th>\n",
       "      <td>1959.0</td>\n",
       "      <td>3.0</td>\n",
       "      <td>2775.488</td>\n",
       "      <td>1751.8</td>\n",
       "      <td>289.226</td>\n",
       "      <td>491.260</td>\n",
       "      <td>1916.4</td>\n",
       "      <td>29.350</td>\n",
       "      <td>140.5</td>\n",
       "      <td>3.82</td>\n",
       "      <td>5.3</td>\n",
       "      <td>178.657</td>\n",
       "      <td>2.74</td>\n",
       "      <td>1.09</td>\n",
       "    </tr>\n",
       "    <tr>\n",
       "      <th>1959Q4</th>\n",
       "      <td>1959.0</td>\n",
       "      <td>4.0</td>\n",
       "      <td>2785.204</td>\n",
       "      <td>1753.7</td>\n",
       "      <td>299.356</td>\n",
       "      <td>484.052</td>\n",
       "      <td>1931.3</td>\n",
       "      <td>29.370</td>\n",
       "      <td>140.0</td>\n",
       "      <td>4.33</td>\n",
       "      <td>5.6</td>\n",
       "      <td>179.386</td>\n",
       "      <td>0.27</td>\n",
       "      <td>4.06</td>\n",
       "    </tr>\n",
       "    <tr>\n",
       "      <th>1960Q1</th>\n",
       "      <td>1960.0</td>\n",
       "      <td>1.0</td>\n",
       "      <td>2847.699</td>\n",
       "      <td>1770.5</td>\n",
       "      <td>331.722</td>\n",
       "      <td>462.199</td>\n",
       "      <td>1955.5</td>\n",
       "      <td>29.540</td>\n",
       "      <td>139.6</td>\n",
       "      <td>3.50</td>\n",
       "      <td>5.2</td>\n",
       "      <td>180.007</td>\n",
       "      <td>2.31</td>\n",
       "      <td>1.19</td>\n",
       "    </tr>\n",
       "    <tr>\n",
       "      <th>...</th>\n",
       "      <td>...</td>\n",
       "      <td>...</td>\n",
       "      <td>...</td>\n",
       "      <td>...</td>\n",
       "      <td>...</td>\n",
       "      <td>...</td>\n",
       "      <td>...</td>\n",
       "      <td>...</td>\n",
       "      <td>...</td>\n",
       "      <td>...</td>\n",
       "      <td>...</td>\n",
       "      <td>...</td>\n",
       "      <td>...</td>\n",
       "      <td>...</td>\n",
       "    </tr>\n",
       "    <tr>\n",
       "      <th>2008Q3</th>\n",
       "      <td>2008.0</td>\n",
       "      <td>3.0</td>\n",
       "      <td>13324.600</td>\n",
       "      <td>9267.7</td>\n",
       "      <td>1990.693</td>\n",
       "      <td>991.551</td>\n",
       "      <td>9838.3</td>\n",
       "      <td>216.889</td>\n",
       "      <td>1474.7</td>\n",
       "      <td>1.17</td>\n",
       "      <td>6.0</td>\n",
       "      <td>305.270</td>\n",
       "      <td>-3.16</td>\n",
       "      <td>4.33</td>\n",
       "    </tr>\n",
       "    <tr>\n",
       "      <th>2008Q4</th>\n",
       "      <td>2008.0</td>\n",
       "      <td>4.0</td>\n",
       "      <td>13141.920</td>\n",
       "      <td>9195.3</td>\n",
       "      <td>1857.661</td>\n",
       "      <td>1007.273</td>\n",
       "      <td>9920.4</td>\n",
       "      <td>212.174</td>\n",
       "      <td>1576.5</td>\n",
       "      <td>0.12</td>\n",
       "      <td>6.9</td>\n",
       "      <td>305.952</td>\n",
       "      <td>-8.79</td>\n",
       "      <td>8.91</td>\n",
       "    </tr>\n",
       "    <tr>\n",
       "      <th>2009Q1</th>\n",
       "      <td>2009.0</td>\n",
       "      <td>1.0</td>\n",
       "      <td>12925.410</td>\n",
       "      <td>9209.2</td>\n",
       "      <td>1558.494</td>\n",
       "      <td>996.287</td>\n",
       "      <td>9926.4</td>\n",
       "      <td>212.671</td>\n",
       "      <td>1592.8</td>\n",
       "      <td>0.22</td>\n",
       "      <td>8.1</td>\n",
       "      <td>306.547</td>\n",
       "      <td>0.94</td>\n",
       "      <td>-0.71</td>\n",
       "    </tr>\n",
       "    <tr>\n",
       "      <th>2009Q2</th>\n",
       "      <td>2009.0</td>\n",
       "      <td>2.0</td>\n",
       "      <td>12901.504</td>\n",
       "      <td>9189.0</td>\n",
       "      <td>1456.678</td>\n",
       "      <td>1023.528</td>\n",
       "      <td>10077.5</td>\n",
       "      <td>214.469</td>\n",
       "      <td>1653.6</td>\n",
       "      <td>0.18</td>\n",
       "      <td>9.2</td>\n",
       "      <td>307.226</td>\n",
       "      <td>3.37</td>\n",
       "      <td>-3.19</td>\n",
       "    </tr>\n",
       "    <tr>\n",
       "      <th>2009Q3</th>\n",
       "      <td>2009.0</td>\n",
       "      <td>3.0</td>\n",
       "      <td>12990.341</td>\n",
       "      <td>9256.0</td>\n",
       "      <td>1486.398</td>\n",
       "      <td>1044.088</td>\n",
       "      <td>10040.6</td>\n",
       "      <td>216.385</td>\n",
       "      <td>1673.9</td>\n",
       "      <td>0.12</td>\n",
       "      <td>9.6</td>\n",
       "      <td>308.013</td>\n",
       "      <td>3.56</td>\n",
       "      <td>-3.44</td>\n",
       "    </tr>\n",
       "  </tbody>\n",
       "</table>\n",
       "<p>203 rows × 14 columns</p>\n",
       "</div>"
      ],
      "text/plain": [
       "          year  quarter    realgdp  realcons   realinv  realgovt  realdpi  \\\n",
       "1959Q1  1959.0      1.0   2710.349    1707.4   286.898   470.045   1886.9   \n",
       "1959Q2  1959.0      2.0   2778.801    1733.7   310.859   481.301   1919.7   \n",
       "1959Q3  1959.0      3.0   2775.488    1751.8   289.226   491.260   1916.4   \n",
       "1959Q4  1959.0      4.0   2785.204    1753.7   299.356   484.052   1931.3   \n",
       "1960Q1  1960.0      1.0   2847.699    1770.5   331.722   462.199   1955.5   \n",
       "...        ...      ...        ...       ...       ...       ...      ...   \n",
       "2008Q3  2008.0      3.0  13324.600    9267.7  1990.693   991.551   9838.3   \n",
       "2008Q4  2008.0      4.0  13141.920    9195.3  1857.661  1007.273   9920.4   \n",
       "2009Q1  2009.0      1.0  12925.410    9209.2  1558.494   996.287   9926.4   \n",
       "2009Q2  2009.0      2.0  12901.504    9189.0  1456.678  1023.528  10077.5   \n",
       "2009Q3  2009.0      3.0  12990.341    9256.0  1486.398  1044.088  10040.6   \n",
       "\n",
       "            cpi      m1  tbilrate  unemp      pop  infl  realint  \n",
       "1959Q1   28.980   139.7      2.82    5.8  177.146  0.00     0.00  \n",
       "1959Q2   29.150   141.7      3.08    5.1  177.830  2.34     0.74  \n",
       "1959Q3   29.350   140.5      3.82    5.3  178.657  2.74     1.09  \n",
       "1959Q4   29.370   140.0      4.33    5.6  179.386  0.27     4.06  \n",
       "1960Q1   29.540   139.6      3.50    5.2  180.007  2.31     1.19  \n",
       "...         ...     ...       ...    ...      ...   ...      ...  \n",
       "2008Q3  216.889  1474.7      1.17    6.0  305.270 -3.16     4.33  \n",
       "2008Q4  212.174  1576.5      0.12    6.9  305.952 -8.79     8.91  \n",
       "2009Q1  212.671  1592.8      0.22    8.1  306.547  0.94    -0.71  \n",
       "2009Q2  214.469  1653.6      0.18    9.2  307.226  3.37    -3.19  \n",
       "2009Q3  216.385  1673.9      0.12    9.6  308.013  3.56    -3.44  \n",
       "\n",
       "[203 rows x 14 columns]"
      ]
     },
     "execution_count": 312,
     "metadata": {},
     "output_type": "execute_result"
    }
   ],
   "source": [
    "d"
   ]
  },
  {
   "cell_type": "code",
   "execution_count": 317,
   "id": "3b41df97",
   "metadata": {},
   "outputs": [],
   "source": [
    "a=[1999,2000,2001,2002]\n",
    "s=pd.Series(a)\n",
    "a=pd.PeriodIndex(s,freq='B')"
   ]
  },
  {
   "cell_type": "code",
   "execution_count": 318,
   "id": "dc279948",
   "metadata": {},
   "outputs": [
    {
     "data": {
      "text/plain": [
       "PeriodIndex(['1999-01-01', '2000-01-03', '2001-01-01', '2002-01-01'], dtype='period[B]')"
      ]
     },
     "execution_count": 318,
     "metadata": {},
     "output_type": "execute_result"
    }
   ],
   "source": [
    "a"
   ]
  },
  {
   "cell_type": "code",
   "execution_count": 325,
   "id": "4511d4c2",
   "metadata": {},
   "outputs": [],
   "source": [
    "frame=pd.DataFrame(np.random.randn(2,4),index=pd.date_range('1/1/2000',periods=2,freq='W-WED'),\n",
    "               columns=['Colorado','Texas','New York','Ohio'])"
   ]
  },
  {
   "cell_type": "code",
   "execution_count": 327,
   "id": "ad7c9a99",
   "metadata": {},
   "outputs": [
    {
     "data": {
      "text/html": [
       "<div>\n",
       "<style scoped>\n",
       "    .dataframe tbody tr th:only-of-type {\n",
       "        vertical-align: middle;\n",
       "    }\n",
       "\n",
       "    .dataframe tbody tr th {\n",
       "        vertical-align: top;\n",
       "    }\n",
       "\n",
       "    .dataframe thead th {\n",
       "        text-align: right;\n",
       "    }\n",
       "</style>\n",
       "<table border=\"1\" class=\"dataframe\">\n",
       "  <thead>\n",
       "    <tr style=\"text-align: right;\">\n",
       "      <th></th>\n",
       "      <th>Colorado</th>\n",
       "      <th>Texas</th>\n",
       "      <th>New York</th>\n",
       "      <th>Ohio</th>\n",
       "    </tr>\n",
       "  </thead>\n",
       "  <tbody>\n",
       "    <tr>\n",
       "      <th>2000-01-05</th>\n",
       "      <td>0.366119</td>\n",
       "      <td>-0.577251</td>\n",
       "      <td>0.319890</td>\n",
       "      <td>3.032773</td>\n",
       "    </tr>\n",
       "    <tr>\n",
       "      <th>2000-01-12</th>\n",
       "      <td>0.770504</td>\n",
       "      <td>1.585778</td>\n",
       "      <td>-2.113978</td>\n",
       "      <td>0.588237</td>\n",
       "    </tr>\n",
       "  </tbody>\n",
       "</table>\n",
       "</div>"
      ],
      "text/plain": [
       "            Colorado     Texas  New York      Ohio\n",
       "2000-01-05  0.366119 -0.577251  0.319890  3.032773\n",
       "2000-01-12  0.770504  1.585778 -2.113978  0.588237"
      ]
     },
     "execution_count": 327,
     "metadata": {},
     "output_type": "execute_result"
    }
   ],
   "source": [
    "frame"
   ]
  },
  {
   "cell_type": "code",
   "execution_count": 329,
   "id": "646a2d83",
   "metadata": {},
   "outputs": [],
   "source": [
    "f=frame.resample('D').asfreq()"
   ]
  },
  {
   "cell_type": "code",
   "execution_count": 332,
   "id": "13ff034b",
   "metadata": {},
   "outputs": [
    {
     "data": {
      "text/html": [
       "<div>\n",
       "<style scoped>\n",
       "    .dataframe tbody tr th:only-of-type {\n",
       "        vertical-align: middle;\n",
       "    }\n",
       "\n",
       "    .dataframe tbody tr th {\n",
       "        vertical-align: top;\n",
       "    }\n",
       "\n",
       "    .dataframe thead th {\n",
       "        text-align: right;\n",
       "    }\n",
       "</style>\n",
       "<table border=\"1\" class=\"dataframe\">\n",
       "  <thead>\n",
       "    <tr style=\"text-align: right;\">\n",
       "      <th></th>\n",
       "      <th>Colorado</th>\n",
       "      <th>Texas</th>\n",
       "      <th>New York</th>\n",
       "      <th>Ohio</th>\n",
       "    </tr>\n",
       "  </thead>\n",
       "  <tbody>\n",
       "    <tr>\n",
       "      <th>2000-01-05</th>\n",
       "      <td>0.366119</td>\n",
       "      <td>-0.577251</td>\n",
       "      <td>0.319890</td>\n",
       "      <td>3.032773</td>\n",
       "    </tr>\n",
       "    <tr>\n",
       "      <th>2000-01-06</th>\n",
       "      <td>0.366119</td>\n",
       "      <td>-0.577251</td>\n",
       "      <td>0.319890</td>\n",
       "      <td>3.032773</td>\n",
       "    </tr>\n",
       "    <tr>\n",
       "      <th>2000-01-07</th>\n",
       "      <td>0.366119</td>\n",
       "      <td>-0.577251</td>\n",
       "      <td>0.319890</td>\n",
       "      <td>3.032773</td>\n",
       "    </tr>\n",
       "    <tr>\n",
       "      <th>2000-01-08</th>\n",
       "      <td>0.366119</td>\n",
       "      <td>-0.577251</td>\n",
       "      <td>0.319890</td>\n",
       "      <td>3.032773</td>\n",
       "    </tr>\n",
       "    <tr>\n",
       "      <th>2000-01-09</th>\n",
       "      <td>0.366119</td>\n",
       "      <td>-0.577251</td>\n",
       "      <td>0.319890</td>\n",
       "      <td>3.032773</td>\n",
       "    </tr>\n",
       "    <tr>\n",
       "      <th>2000-01-10</th>\n",
       "      <td>0.366119</td>\n",
       "      <td>-0.577251</td>\n",
       "      <td>0.319890</td>\n",
       "      <td>3.032773</td>\n",
       "    </tr>\n",
       "    <tr>\n",
       "      <th>2000-01-11</th>\n",
       "      <td>0.366119</td>\n",
       "      <td>-0.577251</td>\n",
       "      <td>0.319890</td>\n",
       "      <td>3.032773</td>\n",
       "    </tr>\n",
       "    <tr>\n",
       "      <th>2000-01-12</th>\n",
       "      <td>0.770504</td>\n",
       "      <td>1.585778</td>\n",
       "      <td>-2.113978</td>\n",
       "      <td>0.588237</td>\n",
       "    </tr>\n",
       "  </tbody>\n",
       "</table>\n",
       "</div>"
      ],
      "text/plain": [
       "            Colorado     Texas  New York      Ohio\n",
       "2000-01-05  0.366119 -0.577251  0.319890  3.032773\n",
       "2000-01-06  0.366119 -0.577251  0.319890  3.032773\n",
       "2000-01-07  0.366119 -0.577251  0.319890  3.032773\n",
       "2000-01-08  0.366119 -0.577251  0.319890  3.032773\n",
       "2000-01-09  0.366119 -0.577251  0.319890  3.032773\n",
       "2000-01-10  0.366119 -0.577251  0.319890  3.032773\n",
       "2000-01-11  0.366119 -0.577251  0.319890  3.032773\n",
       "2000-01-12  0.770504  1.585778 -2.113978  0.588237"
      ]
     },
     "execution_count": 332,
     "metadata": {},
     "output_type": "execute_result"
    }
   ],
   "source": [
    "f.ffill()#forward fill"
   ]
  },
  {
   "cell_type": "code",
   "execution_count": 344,
   "id": "a4b64276",
   "metadata": {},
   "outputs": [],
   "source": [
    "a=pd.DataFrame(np.random.randn(24,4),index=pd.period_range('1-2000','12-2001',freq='M'\n",
    "                                                          ), columns=['Colorado','Texas','New York','Ohio'])"
   ]
  },
  {
   "cell_type": "code",
   "execution_count": 345,
   "id": "59a59414",
   "metadata": {},
   "outputs": [],
   "source": [
    "annual=a.resample('A-DEC')"
   ]
  },
  {
   "cell_type": "code",
   "execution_count": 346,
   "id": "9518c2bd",
   "metadata": {},
   "outputs": [
    {
     "data": {
      "text/html": [
       "<div>\n",
       "<style scoped>\n",
       "    .dataframe tbody tr th:only-of-type {\n",
       "        vertical-align: middle;\n",
       "    }\n",
       "\n",
       "    .dataframe tbody tr th {\n",
       "        vertical-align: top;\n",
       "    }\n",
       "\n",
       "    .dataframe thead th {\n",
       "        text-align: right;\n",
       "    }\n",
       "</style>\n",
       "<table border=\"1\" class=\"dataframe\">\n",
       "  <thead>\n",
       "    <tr style=\"text-align: right;\">\n",
       "      <th></th>\n",
       "      <th>Colorado</th>\n",
       "      <th>Texas</th>\n",
       "      <th>New York</th>\n",
       "      <th>Ohio</th>\n",
       "    </tr>\n",
       "  </thead>\n",
       "  <tbody>\n",
       "    <tr>\n",
       "      <th>2000</th>\n",
       "      <td>-0.530837</td>\n",
       "      <td>-0.094446</td>\n",
       "      <td>-0.238033</td>\n",
       "      <td>-0.097283</td>\n",
       "    </tr>\n",
       "    <tr>\n",
       "      <th>2001</th>\n",
       "      <td>-0.424398</td>\n",
       "      <td>0.108523</td>\n",
       "      <td>-0.200867</td>\n",
       "      <td>0.265240</td>\n",
       "    </tr>\n",
       "  </tbody>\n",
       "</table>\n",
       "</div>"
      ],
      "text/plain": [
       "      Colorado     Texas  New York      Ohio\n",
       "2000 -0.530837 -0.094446 -0.238033 -0.097283\n",
       "2001 -0.424398  0.108523 -0.200867  0.265240"
      ]
     },
     "execution_count": 346,
     "metadata": {},
     "output_type": "execute_result"
    }
   ],
   "source": [
    "annual.mean()"
   ]
  },
  {
   "cell_type": "code",
   "execution_count": 372,
   "id": "67ff69aa",
   "metadata": {},
   "outputs": [
    {
     "data": {
      "text/html": [
       "<div>\n",
       "<style scoped>\n",
       "    .dataframe tbody tr th:only-of-type {\n",
       "        vertical-align: middle;\n",
       "    }\n",
       "\n",
       "    .dataframe tbody tr th {\n",
       "        vertical-align: top;\n",
       "    }\n",
       "\n",
       "    .dataframe thead th {\n",
       "        text-align: right;\n",
       "    }\n",
       "</style>\n",
       "<table border=\"1\" class=\"dataframe\">\n",
       "  <thead>\n",
       "    <tr style=\"text-align: right;\">\n",
       "      <th></th>\n",
       "      <th>AAPL</th>\n",
       "      <th>MSFT</th>\n",
       "      <th>XOM</th>\n",
       "      <th>SPX</th>\n",
       "    </tr>\n",
       "  </thead>\n",
       "  <tbody>\n",
       "    <tr>\n",
       "      <th>2003-01-02</th>\n",
       "      <td>7.40</td>\n",
       "      <td>21.11</td>\n",
       "      <td>29.22</td>\n",
       "      <td>909.03</td>\n",
       "    </tr>\n",
       "    <tr>\n",
       "      <th>2003-01-03</th>\n",
       "      <td>7.45</td>\n",
       "      <td>21.14</td>\n",
       "      <td>29.24</td>\n",
       "      <td>908.59</td>\n",
       "    </tr>\n",
       "    <tr>\n",
       "      <th>2003-01-06</th>\n",
       "      <td>7.45</td>\n",
       "      <td>21.52</td>\n",
       "      <td>29.96</td>\n",
       "      <td>929.01</td>\n",
       "    </tr>\n",
       "    <tr>\n",
       "      <th>2003-01-07</th>\n",
       "      <td>7.43</td>\n",
       "      <td>21.93</td>\n",
       "      <td>28.95</td>\n",
       "      <td>922.93</td>\n",
       "    </tr>\n",
       "    <tr>\n",
       "      <th>2003-01-08</th>\n",
       "      <td>7.28</td>\n",
       "      <td>21.31</td>\n",
       "      <td>28.83</td>\n",
       "      <td>909.93</td>\n",
       "    </tr>\n",
       "  </tbody>\n",
       "</table>\n",
       "</div>"
      ],
      "text/plain": [
       "            AAPL   MSFT    XOM     SPX\n",
       "2003-01-02  7.40  21.11  29.22  909.03\n",
       "2003-01-03  7.45  21.14  29.24  908.59\n",
       "2003-01-06  7.45  21.52  29.96  929.01\n",
       "2003-01-07  7.43  21.93  28.95  922.93\n",
       "2003-01-08  7.28  21.31  28.83  909.93"
      ]
     },
     "execution_count": 372,
     "metadata": {},
     "output_type": "execute_result"
    }
   ],
   "source": [
    "s2=pd.read_csv('stock_px_2.csv',parse_dates=True,index_col=0)\n",
    "s2.head()"
   ]
  },
  {
   "cell_type": "markdown",
   "id": "702bea06",
   "metadata": {},
   "source": []
  },
  {
   "cell_type": "code",
   "execution_count": 373,
   "id": "21207004",
   "metadata": {},
   "outputs": [],
   "source": [
    "cp=s2[['AAPL','MSFT','XOM']]\n"
   ]
  },
  {
   "cell_type": "code",
   "execution_count": 374,
   "id": "46707132",
   "metadata": {},
   "outputs": [],
   "source": [
    "cp=cp.resample('B').ffill()"
   ]
  },
  {
   "cell_type": "code",
   "execution_count": 375,
   "id": "7d6598be",
   "metadata": {},
   "outputs": [
    {
     "data": {
      "text/html": [
       "<div>\n",
       "<style scoped>\n",
       "    .dataframe tbody tr th:only-of-type {\n",
       "        vertical-align: middle;\n",
       "    }\n",
       "\n",
       "    .dataframe tbody tr th {\n",
       "        vertical-align: top;\n",
       "    }\n",
       "\n",
       "    .dataframe thead th {\n",
       "        text-align: right;\n",
       "    }\n",
       "</style>\n",
       "<table border=\"1\" class=\"dataframe\">\n",
       "  <thead>\n",
       "    <tr style=\"text-align: right;\">\n",
       "      <th></th>\n",
       "      <th>AAPL</th>\n",
       "      <th>MSFT</th>\n",
       "      <th>XOM</th>\n",
       "    </tr>\n",
       "  </thead>\n",
       "  <tbody>\n",
       "    <tr>\n",
       "      <th>2003-01-02</th>\n",
       "      <td>7.40</td>\n",
       "      <td>21.11</td>\n",
       "      <td>29.22</td>\n",
       "    </tr>\n",
       "    <tr>\n",
       "      <th>2003-01-03</th>\n",
       "      <td>7.45</td>\n",
       "      <td>21.14</td>\n",
       "      <td>29.24</td>\n",
       "    </tr>\n",
       "    <tr>\n",
       "      <th>2003-01-06</th>\n",
       "      <td>7.45</td>\n",
       "      <td>21.52</td>\n",
       "      <td>29.96</td>\n",
       "    </tr>\n",
       "    <tr>\n",
       "      <th>2003-01-07</th>\n",
       "      <td>7.43</td>\n",
       "      <td>21.93</td>\n",
       "      <td>28.95</td>\n",
       "    </tr>\n",
       "    <tr>\n",
       "      <th>2003-01-08</th>\n",
       "      <td>7.28</td>\n",
       "      <td>21.31</td>\n",
       "      <td>28.83</td>\n",
       "    </tr>\n",
       "    <tr>\n",
       "      <th>...</th>\n",
       "      <td>...</td>\n",
       "      <td>...</td>\n",
       "      <td>...</td>\n",
       "    </tr>\n",
       "    <tr>\n",
       "      <th>2011-10-10</th>\n",
       "      <td>388.81</td>\n",
       "      <td>26.94</td>\n",
       "      <td>76.28</td>\n",
       "    </tr>\n",
       "    <tr>\n",
       "      <th>2011-10-11</th>\n",
       "      <td>400.29</td>\n",
       "      <td>27.00</td>\n",
       "      <td>76.27</td>\n",
       "    </tr>\n",
       "    <tr>\n",
       "      <th>2011-10-12</th>\n",
       "      <td>402.19</td>\n",
       "      <td>26.96</td>\n",
       "      <td>77.16</td>\n",
       "    </tr>\n",
       "    <tr>\n",
       "      <th>2011-10-13</th>\n",
       "      <td>408.43</td>\n",
       "      <td>27.18</td>\n",
       "      <td>76.37</td>\n",
       "    </tr>\n",
       "    <tr>\n",
       "      <th>2011-10-14</th>\n",
       "      <td>422.00</td>\n",
       "      <td>27.27</td>\n",
       "      <td>78.11</td>\n",
       "    </tr>\n",
       "  </tbody>\n",
       "</table>\n",
       "<p>2292 rows × 3 columns</p>\n",
       "</div>"
      ],
      "text/plain": [
       "              AAPL   MSFT    XOM\n",
       "2003-01-02    7.40  21.11  29.22\n",
       "2003-01-03    7.45  21.14  29.24\n",
       "2003-01-06    7.45  21.52  29.96\n",
       "2003-01-07    7.43  21.93  28.95\n",
       "2003-01-08    7.28  21.31  28.83\n",
       "...            ...    ...    ...\n",
       "2011-10-10  388.81  26.94  76.28\n",
       "2011-10-11  400.29  27.00  76.27\n",
       "2011-10-12  402.19  26.96  77.16\n",
       "2011-10-13  408.43  27.18  76.37\n",
       "2011-10-14  422.00  27.27  78.11\n",
       "\n",
       "[2292 rows x 3 columns]"
      ]
     },
     "execution_count": 375,
     "metadata": {},
     "output_type": "execute_result"
    }
   ],
   "source": [
    "cp"
   ]
  },
  {
   "cell_type": "code",
   "execution_count": 377,
   "id": "db910c67",
   "metadata": {},
   "outputs": [
    {
     "data": {
      "text/plain": [
       "<AxesSubplot:>"
      ]
     },
     "execution_count": 377,
     "metadata": {},
     "output_type": "execute_result"
    },
    {
     "data": {
      "image/png": "[encoded data removed]",
      "text/plain": [
       "<Figure size 432x288 with 1 Axes>"
      ]
     },
     "metadata": {
      "needs_background": "light"
     },
     "output_type": "display_data"
    }
   ],
   "source": [
    "cp.AAPL.rolling(250).mean().plot()\n",
    "cp.AAPL.plot()"
   ]
  },
  {
   "cell_type": "code",
   "execution_count": 392,
   "id": "97db0c03",
   "metadata": {},
   "outputs": [
    {
     "data": {
      "text/plain": [
       "<AxesSubplot:>"
      ]
     },
     "execution_count": 392,
     "metadata": {},
     "output_type": "execute_result"
    },
    {
     "data": {
      "image/png": "[encoded data removed]",
      "text/plain": [
       "<Figure size 432x288 with 1 Axes>"
      ]
     },
     "metadata": {
      "needs_background": "light"
     },
     "output_type": "display_data"
    },
    {
     "data": {
      "image/png": "[encoded data removed]",
      "text/plain": [
       "<Figure size 432x288 with 1 Axes>"
      ]
     },
     "metadata": {
      "needs_background": "light"
     },
     "output_type": "display_data"
    }
   ],
   "source": [
    "\n",
    "stock=pd.read_csv('spx.csv')\n",
    "stock.head()\n",
    "\n",
    "stock.SPX.rolling(5000).mean().plot()\n",
    "stock.plot()"
   ]
  },
  {
   "cell_type": "code",
   "execution_count": 389,
   "id": "33e67c05",
   "metadata": {},
   "outputs": [
    {
     "data": {
      "text/plain": [
       "5472"
      ]
     },
     "execution_count": 389,
     "metadata": {},
     "output_type": "execute_result"
    }
   ],
   "source": [
    "len(stock)"
   ]
  },
  {
   "cell_type": "code",
   "execution_count": 399,
   "id": "0d5194ac",
   "metadata": {},
   "outputs": [],
   "source": [
    "\n",
    "apl250=s2.AAPL.rolling(250,min_periods=10).std()"
   ]
  },
  {
   "cell_type": "code",
   "execution_count": 400,
   "id": "bf6f0ff7",
   "metadata": {},
   "outputs": [
    {
     "data": {
      "text/plain": [
       "<AxesSubplot:>"
      ]
     },
     "execution_count": 400,
     "metadata": {},
     "output_type": "execute_result"
    },
    {
     "data": {
      "image/png": "[encoded data removed]",
      "text/plain": [
       "<Figure size 432x288 with 1 Axes>"
      ]
     },
     "metadata": {
      "needs_background": "light"
     },
     "output_type": "display_data"
    }
   ],
   "source": [
    "apl250.plot()"
   ]
  },
  {
   "cell_type": "code",
   "execution_count": 408,
   "id": "e3fd3ab9",
   "metadata": {},
   "outputs": [],
   "source": [
    "\n",
    "\n",
    "p=pd.period_range('1/1/2007','1/1/2008',freq='M')"
   ]
  },
  {
   "cell_type": "code",
   "execution_count": 413,
   "id": "0ca77ca1",
   "metadata": {},
   "outputs": [],
   "source": [
    "m=cp['2006':'2007'].rolling(30,min_periods=20).mean()"
   ]
  },
  {
   "cell_type": "code",
   "execution_count": 416,
   "id": "9c2ed02c",
   "metadata": {},
   "outputs": [],
   "source": [
    "m.ewm(span=30).mean()\n",
    "spx=pd.read_csv('spx.csv')"
   ]
  },
  {
   "cell_type": "code",
   "execution_count": 418,
   "id": "120fcd4a",
   "metadata": {},
   "outputs": [
    {
     "data": {
      "text/html": [
       "<div>\n",
       "<style scoped>\n",
       "    .dataframe tbody tr th:only-of-type {\n",
       "        vertical-align: middle;\n",
       "    }\n",
       "\n",
       "    .dataframe tbody tr th {\n",
       "        vertical-align: top;\n",
       "    }\n",
       "\n",
       "    .dataframe thead th {\n",
       "        text-align: right;\n",
       "    }\n",
       "</style>\n",
       "<table border=\"1\" class=\"dataframe\">\n",
       "  <thead>\n",
       "    <tr style=\"text-align: right;\">\n",
       "      <th></th>\n",
       "      <th>Date</th>\n",
       "      <th>SPX</th>\n",
       "    </tr>\n",
       "  </thead>\n",
       "  <tbody>\n",
       "    <tr>\n",
       "      <th>0</th>\n",
       "      <td>1990-02-01 00:00:00</td>\n",
       "      <td>328.79</td>\n",
       "    </tr>\n",
       "    <tr>\n",
       "      <th>1</th>\n",
       "      <td>1990-02-02 00:00:00</td>\n",
       "      <td>330.92</td>\n",
       "    </tr>\n",
       "    <tr>\n",
       "      <th>2</th>\n",
       "      <td>1990-02-05 00:00:00</td>\n",
       "      <td>331.85</td>\n",
       "    </tr>\n",
       "    <tr>\n",
       "      <th>3</th>\n",
       "      <td>1990-02-06 00:00:00</td>\n",
       "      <td>329.66</td>\n",
       "    </tr>\n",
       "    <tr>\n",
       "      <th>4</th>\n",
       "      <td>1990-02-07 00:00:00</td>\n",
       "      <td>333.75</td>\n",
       "    </tr>\n",
       "    <tr>\n",
       "      <th>...</th>\n",
       "      <td>...</td>\n",
       "      <td>...</td>\n",
       "    </tr>\n",
       "    <tr>\n",
       "      <th>5467</th>\n",
       "      <td>2011-10-10 00:00:00</td>\n",
       "      <td>1194.89</td>\n",
       "    </tr>\n",
       "    <tr>\n",
       "      <th>5468</th>\n",
       "      <td>2011-10-11 00:00:00</td>\n",
       "      <td>1195.54</td>\n",
       "    </tr>\n",
       "    <tr>\n",
       "      <th>5469</th>\n",
       "      <td>2011-10-12 00:00:00</td>\n",
       "      <td>1207.25</td>\n",
       "    </tr>\n",
       "    <tr>\n",
       "      <th>5470</th>\n",
       "      <td>2011-10-13 00:00:00</td>\n",
       "      <td>1203.66</td>\n",
       "    </tr>\n",
       "    <tr>\n",
       "      <th>5471</th>\n",
       "      <td>2011-10-14 00:00:00</td>\n",
       "      <td>1224.58</td>\n",
       "    </tr>\n",
       "  </tbody>\n",
       "</table>\n",
       "<p>5472 rows × 2 columns</p>\n",
       "</div>"
      ],
      "text/plain": [
       "                     Date      SPX\n",
       "0     1990-02-01 00:00:00   328.79\n",
       "1     1990-02-02 00:00:00   330.92\n",
       "2     1990-02-05 00:00:00   331.85\n",
       "3     1990-02-06 00:00:00   329.66\n",
       "4     1990-02-07 00:00:00   333.75\n",
       "...                   ...      ...\n",
       "5467  2011-10-10 00:00:00  1194.89\n",
       "5468  2011-10-11 00:00:00  1195.54\n",
       "5469  2011-10-12 00:00:00  1207.25\n",
       "5470  2011-10-13 00:00:00  1203.66\n",
       "5471  2011-10-14 00:00:00  1224.58\n",
       "\n",
       "[5472 rows x 2 columns]"
      ]
     },
     "execution_count": 418,
     "metadata": {},
     "output_type": "execute_result"
    }
   ],
   "source": [
    "spx"
   ]
  },
  {
   "cell_type": "code",
   "execution_count": 419,
   "id": "1b72bca5",
   "metadata": {},
   "outputs": [],
   "source": [
    "s=s2['SPX']"
   ]
  },
  {
   "cell_type": "code",
   "execution_count": 422,
   "id": "a9327931",
   "metadata": {},
   "outputs": [],
   "source": [
    "s_r=s.pct_change()\n",
    "ret=cp.pct_change()"
   ]
  },
  {
   "cell_type": "code",
   "execution_count": 427,
   "id": "afc0ba41",
   "metadata": {},
   "outputs": [
    {
     "data": {
      "text/plain": [
       "<matplotlib.legend.Legend at 0x1b95deb4250>"
      ]
     },
     "execution_count": 427,
     "metadata": {},
     "output_type": "execute_result"
    },
    {
     "data": {
      "image/png": "[encoded data removed]",
      "text/plain": [
       "<Figure size 432x288 with 1 Axes>"
      ]
     },
     "metadata": {
      "needs_background": "light"
     },
     "output_type": "display_data"
    }
   ],
   "source": [
    "corr=ret.AAPL.rolling(125,min_periods=100).corr(s_r)\n",
    "corr.plot()\n",
    "corr2=ret.MSFT.rolling(125,min_periods=100).corr(s_r)\n",
    "corr2.plot()\n",
    "plt.legend(loc='best')"
   ]
  },
  {
   "cell_type": "code",
   "execution_count": 429,
   "id": "0d797fcb",
   "metadata": {},
   "outputs": [
    {
     "data": {
      "text/plain": [
       "<AxesSubplot:>"
      ]
     },
     "execution_count": 429,
     "metadata": {},
     "output_type": "execute_result"
    },
    {
     "data": {
      "image/png": "[encoded data removed]",
      "text/plain": [
       "<Figure size 432x288 with 1 Axes>"
      ]
     },
     "metadata": {
      "needs_background": "light"
     },
     "output_type": "display_data"
    }
   ],
   "source": [
    "from scipy.stats import percentileofscore\n",
    "score_at_2percent=lambda x:percentileofscore(x,0.02)\n",
    "resilt=ret.AAPL.rolling(250).apply(score_at_2percent)\n",
    "resilt.plot()"
   ]
  },
  {
   "cell_type": "code",
   "execution_count": null,
   "id": "215ba0c6",
   "metadata": {},
   "outputs": [],
   "source": [
    "\n"
   ]
  },
  {
   "cell_type": "code",
   "execution_count": null,
   "id": "95a3a511",
   "metadata": {},
   "outputs": [],
   "source": []
  }
 ],
 "metadata": {
  "kernelspec": {
   "display_name": "Python 3 (ipykernel)",
   "language": "python",
   "name": "python3"
  },
  "language_info": {
   "codemirror_mode": {
    "name": "ipython",
    "version": 3
   },
   "file_extension": ".py",
   "mimetype": "text/x-python",
   "name": "python",
   "nbconvert_exporter": "python",
   "pygments_lexer": "ipython3",
   "version": "3.9.7"
  }
 },
 "nbformat": 4,
 "nbformat_minor": 5
}
