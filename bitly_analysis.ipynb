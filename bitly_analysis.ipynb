{
 "cells": [
  {
   "cell_type": "code",
   "execution_count": 37,
   "id": "a75427c9",
   "metadata": {},
   "outputs": [
    {
     "name": "stdout",
     "output_type": "stream",
     "text": [
      "{ \"a\": \"Mozilla\\/5.0 (Windows NT 6.1; WOW64) AppleWebKit\\/535.11 (KHTML, like Gecko) Chrome\\/17.0.963.78 Safari\\/535.11\", \"c\": \"US\", \"nk\": 1, \"tz\": \"America\\/New_York\", \"gr\": \"MA\", \"g\": \"A6qOVH\", \"h\": \"wfLQtf\", \"l\": \"orofrog\", \"al\": \"en-US,en;q=0.8\", \"hh\": \"1.usa.gov\", \"r\": \"http:\\/\\/www.facebook.com\\/l\\/7AQEFzjSi\\/1.usa.gov\\/wfLQtf\", \"u\": \"http:\\/\\/www.ncbi.nlm.nih.gov\\/pubmed\\/22415991\", \"t\": 1331923247, \"hc\": 1331822918, \"cy\": \"Danvers\", \"ll\": [ 42.576698, -70.954903 ] }\n",
      "\n"
     ]
    }
   ],
   "source": [
    "import pandas as pd\n",
    "import json\n",
    "f=open(\"example.txt\")\n",
    "a=f.readlines()\n",
    "print(a[0])\n",
    "import numpy as np"
   ]
  },
  {
   "cell_type": "code",
   "execution_count": null,
   "id": "b45ba770",
   "metadata": {},
   "outputs": [],
   "source": []
  },
  {
   "cell_type": "code",
   "execution_count": 40,
   "id": "6c568f45",
   "metadata": {},
   "outputs": [
    {
     "name": "stdout",
     "output_type": "stream",
     "text": [
      "{'a': 'Mozilla/5.0 (Windows NT 6.1; WOW64) AppleWebKit/535.11 (KHTML, like Gecko) Chrome/17.0.963.78 Safari/535.11', 'c': 'US', 'nk': 1, 'tz': 'America/New_York', 'gr': 'MA', 'g': 'A6qOVH', 'h': 'wfLQtf', 'l': 'orofrog', 'al': 'en-US,en;q=0.8', 'hh': '1.usa.gov', 'r': 'http://www.facebook.com/l/7AQEFzjSi/1.usa.gov/wfLQtf', 'u': 'http://www.ncbi.nlm.nih.gov/pubmed/22415991', 't': 1331923247, 'hc': 1331822918, 'cy': 'Danvers', 'll': [42.576698, -70.954903]}\n"
     ]
    }
   ],
   "source": [
    "b=[json.loads(i) for i in a]\n",
    "print(b[0])"
   ]
  },
  {
   "cell_type": "code",
   "execution_count": 41,
   "id": "51e2e810",
   "metadata": {},
   "outputs": [],
   "source": [
    "timezones=[rec['tz'] for rec in b if 'tz' in rec]"
   ]
  },
  {
   "cell_type": "code",
   "execution_count": 54,
   "id": "0e0badde",
   "metadata": {},
   "outputs": [
    {
     "name": "stdout",
     "output_type": "stream",
     "text": [
      "['America/New_York', 'America/Denver', 'America/New_York', 'America/Sao_Paulo', 'America/New_York', 'America/New_York', 'Europe/Warsaw', '', '', '']\n"
     ]
    }
   ],
   "source": [
    "print(timezones[:10])"
   ]
  },
  {
   "cell_type": "code",
   "execution_count": 55,
   "id": "f9239f51",
   "metadata": {},
   "outputs": [],
   "source": [
    "def getCount(sequence):\n",
    "    count={}\n",
    "    for i in sequence:\n",
    "        if i in count:\n",
    "            count[i]+=1\n",
    "        else:\n",
    "            count[i]=1\n",
    "    return count     "
   ]
  },
  {
   "cell_type": "code",
   "execution_count": 56,
   "id": "dc2c61f2",
   "metadata": {},
   "outputs": [],
   "source": [
    "count=getCount(timezones)"
   ]
  },
  {
   "cell_type": "code",
   "execution_count": 57,
   "id": "30daf3d2",
   "metadata": {},
   "outputs": [
    {
     "name": "stdout",
     "output_type": "stream",
     "text": [
      "{'America/New_York': 1251, 'America/Denver': 191, 'America/Sao_Paulo': 33, 'Europe/Warsaw': 16, '': 521, 'America/Los_Angeles': 382, 'Asia/Hong_Kong': 10, 'Europe/Rome': 27, 'Africa/Ceuta': 2, 'Europe/Madrid': 35, 'Asia/Kuala_Lumpur': 3, 'Asia/Nicosia': 1, 'Europe/London': 74, 'Pacific/Honolulu': 36, 'America/Chicago': 400, 'Europe/Malta': 2, 'Europe/Lisbon': 8, 'Europe/Paris': 14, 'Europe/Copenhagen': 5, 'America/Mazatlan': 1, 'Europe/Dublin': 3, 'Europe/Brussels': 4, 'America/Vancouver': 12, 'Europe/Amsterdam': 22, 'Europe/Prague': 10, 'Europe/Stockholm': 14, 'America/Anchorage': 5, 'Asia/Bangkok': 6, 'Europe/Berlin': 28, 'America/Rainy_River': 25, 'Europe/Budapest': 5, 'Asia/Tokyo': 37, 'Europe/Vienna': 6, 'America/Phoenix': 20, 'Asia/Jerusalem': 3, 'Asia/Karachi': 3, 'America/Bogota': 3, 'America/Indianapolis': 20, 'America/Montreal': 9, 'Asia/Calcutta': 9, 'Europe/Skopje': 1, 'Asia/Beirut': 4, 'Australia/NSW': 6, 'Chile/Continental': 6, 'America/Halifax': 4, 'America/Edmonton': 6, 'Europe/Bratislava': 3, 'America/Recife': 2, 'Africa/Cairo': 3, 'Asia/Istanbul': 9, 'Asia/Novosibirsk': 1, 'Europe/Moscow': 10, 'Europe/Sofia': 1, 'Europe/Ljubljana': 1, 'America/Mexico_City': 15, 'Europe/Helsinki': 10, 'Europe/Bucharest': 4, 'Europe/Zurich': 4, 'America/Puerto_Rico': 10, 'America/Monterrey': 1, 'Europe/Athens': 6, 'America/Winnipeg': 4, 'Europe/Riga': 2, 'America/Argentina/Buenos_Aires': 1, 'Asia/Dubai': 4, 'Europe/Oslo': 10, 'Asia/Yekaterinburg': 1, 'Asia/Manila': 1, 'America/Caracas': 1, 'Asia/Riyadh': 1, 'America/Montevideo': 1, 'America/Argentina/Mendoza': 1, 'Asia/Seoul': 5, 'Europe/Uzhgorod': 1, 'Australia/Queensland': 1, 'Europe/Belgrade': 2, 'America/Costa_Rica': 1, 'America/Lima': 1, 'Asia/Pontianak': 1, 'America/Chihuahua': 2, 'Europe/Vilnius': 2, 'America/Managua': 3, 'Africa/Lusaka': 1, 'America/Guayaquil': 2, 'Asia/Harbin': 3, 'Asia/Amman': 2, 'Africa/Johannesburg': 1, 'America/St_Kitts': 1, 'Pacific/Auckland': 11, 'America/Santo_Domingo': 1, 'America/Argentina/Cordoba': 1, 'Asia/Kuching': 1, 'Europe/Volgograd': 1, 'America/La_Paz': 1, 'Africa/Casablanca': 1, 'Asia/Jakarta': 3, 'America/Tegucigalpa': 1}\n"
     ]
    }
   ],
   "source": [
    "print(count)"
   ]
  },
  {
   "cell_type": "code",
   "execution_count": 67,
   "id": "de2da9db",
   "metadata": {},
   "outputs": [],
   "source": [
    "def top_ten(counts):\n",
    "    value_key=[(count,tz) for tz,count in counts.items()]\n",
    "    value_key.sort()\n",
    "    return value_key[-10:]\n"
   ]
  },
  {
   "cell_type": "code",
   "execution_count": 68,
   "id": "3fbd57fd",
   "metadata": {},
   "outputs": [
    {
     "data": {
      "text/plain": [
       "[(33, 'America/Sao_Paulo'),\n",
       " (35, 'Europe/Madrid'),\n",
       " (36, 'Pacific/Honolulu'),\n",
       " (37, 'Asia/Tokyo'),\n",
       " (74, 'Europe/London'),\n",
       " (191, 'America/Denver'),\n",
       " (382, 'America/Los_Angeles'),\n",
       " (400, 'America/Chicago'),\n",
       " (521, ''),\n",
       " (1251, 'America/New_York')]"
      ]
     },
     "execution_count": 68,
     "metadata": {},
     "output_type": "execute_result"
    }
   ],
   "source": [
    "top_ten(count)"
   ]
  },
  {
   "cell_type": "code",
   "execution_count": 70,
   "id": "2ebdb613",
   "metadata": {},
   "outputs": [],
   "source": [
    "import pandas as pd\n",
    "\n",
    "frame=pd.DataFrame(b)"
   ]
  },
  {
   "cell_type": "code",
   "execution_count": 71,
   "id": "66b8d30f",
   "metadata": {},
   "outputs": [
    {
     "data": {
      "text/html": [
       "<div>\n",
       "<style scoped>\n",
       "    .dataframe tbody tr th:only-of-type {\n",
       "        vertical-align: middle;\n",
       "    }\n",
       "\n",
       "    .dataframe tbody tr th {\n",
       "        vertical-align: top;\n",
       "    }\n",
       "\n",
       "    .dataframe thead th {\n",
       "        text-align: right;\n",
       "    }\n",
       "</style>\n",
       "<table border=\"1\" class=\"dataframe\">\n",
       "  <thead>\n",
       "    <tr style=\"text-align: right;\">\n",
       "      <th></th>\n",
       "      <th>a</th>\n",
       "      <th>c</th>\n",
       "      <th>nk</th>\n",
       "      <th>tz</th>\n",
       "      <th>gr</th>\n",
       "      <th>g</th>\n",
       "      <th>h</th>\n",
       "      <th>l</th>\n",
       "      <th>al</th>\n",
       "      <th>hh</th>\n",
       "      <th>r</th>\n",
       "      <th>u</th>\n",
       "      <th>t</th>\n",
       "      <th>hc</th>\n",
       "      <th>cy</th>\n",
       "      <th>ll</th>\n",
       "      <th>_heartbeat_</th>\n",
       "      <th>kw</th>\n",
       "    </tr>\n",
       "  </thead>\n",
       "  <tbody>\n",
       "    <tr>\n",
       "      <th>0</th>\n",
       "      <td>Mozilla/5.0 (Windows NT 6.1; WOW64) AppleWebKi...</td>\n",
       "      <td>US</td>\n",
       "      <td>1.0</td>\n",
       "      <td>America/New_York</td>\n",
       "      <td>MA</td>\n",
       "      <td>A6qOVH</td>\n",
       "      <td>wfLQtf</td>\n",
       "      <td>orofrog</td>\n",
       "      <td>en-US,en;q=0.8</td>\n",
       "      <td>1.usa.gov</td>\n",
       "      <td>http://www.facebook.com/l/7AQEFzjSi/1.usa.gov/...</td>\n",
       "      <td>http://www.ncbi.nlm.nih.gov/pubmed/22415991</td>\n",
       "      <td>1.331923e+09</td>\n",
       "      <td>1.331823e+09</td>\n",
       "      <td>Danvers</td>\n",
       "      <td>[42.576698, -70.954903]</td>\n",
       "      <td>NaN</td>\n",
       "      <td>NaN</td>\n",
       "    </tr>\n",
       "    <tr>\n",
       "      <th>1</th>\n",
       "      <td>GoogleMaps/RochesterNY</td>\n",
       "      <td>US</td>\n",
       "      <td>0.0</td>\n",
       "      <td>America/Denver</td>\n",
       "      <td>UT</td>\n",
       "      <td>mwszkS</td>\n",
       "      <td>mwszkS</td>\n",
       "      <td>bitly</td>\n",
       "      <td>NaN</td>\n",
       "      <td>j.mp</td>\n",
       "      <td>http://www.AwareMap.com/</td>\n",
       "      <td>http://www.monroecounty.gov/etc/911/rss.php</td>\n",
       "      <td>1.331923e+09</td>\n",
       "      <td>1.308262e+09</td>\n",
       "      <td>Provo</td>\n",
       "      <td>[40.218102, -111.613297]</td>\n",
       "      <td>NaN</td>\n",
       "      <td>NaN</td>\n",
       "    </tr>\n",
       "    <tr>\n",
       "      <th>2</th>\n",
       "      <td>Mozilla/4.0 (compatible; MSIE 8.0; Windows NT ...</td>\n",
       "      <td>US</td>\n",
       "      <td>1.0</td>\n",
       "      <td>America/New_York</td>\n",
       "      <td>DC</td>\n",
       "      <td>xxr3Qb</td>\n",
       "      <td>xxr3Qb</td>\n",
       "      <td>bitly</td>\n",
       "      <td>en-US</td>\n",
       "      <td>1.usa.gov</td>\n",
       "      <td>http://t.co/03elZC4Q</td>\n",
       "      <td>http://boxer.senate.gov/en/press/releases/0316...</td>\n",
       "      <td>1.331923e+09</td>\n",
       "      <td>1.331920e+09</td>\n",
       "      <td>Washington</td>\n",
       "      <td>[38.9007, -77.043098]</td>\n",
       "      <td>NaN</td>\n",
       "      <td>NaN</td>\n",
       "    </tr>\n",
       "    <tr>\n",
       "      <th>3</th>\n",
       "      <td>Mozilla/5.0 (Macintosh; Intel Mac OS X 10_6_8)...</td>\n",
       "      <td>BR</td>\n",
       "      <td>0.0</td>\n",
       "      <td>America/Sao_Paulo</td>\n",
       "      <td>27</td>\n",
       "      <td>zCaLwp</td>\n",
       "      <td>zUtuOu</td>\n",
       "      <td>alelex88</td>\n",
       "      <td>pt-br</td>\n",
       "      <td>1.usa.gov</td>\n",
       "      <td>direct</td>\n",
       "      <td>http://apod.nasa.gov/apod/ap120312.html</td>\n",
       "      <td>1.331923e+09</td>\n",
       "      <td>1.331923e+09</td>\n",
       "      <td>Braz</td>\n",
       "      <td>[-23.549999, -46.616699]</td>\n",
       "      <td>NaN</td>\n",
       "      <td>NaN</td>\n",
       "    </tr>\n",
       "    <tr>\n",
       "      <th>4</th>\n",
       "      <td>Mozilla/5.0 (Windows NT 6.1; WOW64) AppleWebKi...</td>\n",
       "      <td>US</td>\n",
       "      <td>0.0</td>\n",
       "      <td>America/New_York</td>\n",
       "      <td>MA</td>\n",
       "      <td>9b6kNl</td>\n",
       "      <td>9b6kNl</td>\n",
       "      <td>bitly</td>\n",
       "      <td>en-US,en;q=0.8</td>\n",
       "      <td>bit.ly</td>\n",
       "      <td>http://www.shrewsbury-ma.gov/selco/</td>\n",
       "      <td>http://www.shrewsbury-ma.gov/egov/gallery/1341...</td>\n",
       "      <td>1.331923e+09</td>\n",
       "      <td>1.273672e+09</td>\n",
       "      <td>Shrewsbury</td>\n",
       "      <td>[42.286499, -71.714699]</td>\n",
       "      <td>NaN</td>\n",
       "      <td>NaN</td>\n",
       "    </tr>\n",
       "    <tr>\n",
       "      <th>...</th>\n",
       "      <td>...</td>\n",
       "      <td>...</td>\n",
       "      <td>...</td>\n",
       "      <td>...</td>\n",
       "      <td>...</td>\n",
       "      <td>...</td>\n",
       "      <td>...</td>\n",
       "      <td>...</td>\n",
       "      <td>...</td>\n",
       "      <td>...</td>\n",
       "      <td>...</td>\n",
       "      <td>...</td>\n",
       "      <td>...</td>\n",
       "      <td>...</td>\n",
       "      <td>...</td>\n",
       "      <td>...</td>\n",
       "      <td>...</td>\n",
       "      <td>...</td>\n",
       "    </tr>\n",
       "    <tr>\n",
       "      <th>3555</th>\n",
       "      <td>Mozilla/4.0 (compatible; MSIE 9.0; Windows NT ...</td>\n",
       "      <td>US</td>\n",
       "      <td>1.0</td>\n",
       "      <td>America/New_York</td>\n",
       "      <td>NJ</td>\n",
       "      <td>e5SvKE</td>\n",
       "      <td>fqPSr9</td>\n",
       "      <td>tweetdeckapi</td>\n",
       "      <td>en</td>\n",
       "      <td>1.usa.gov</td>\n",
       "      <td>direct</td>\n",
       "      <td>http://www.fda.gov/AdvisoryCommittees/Committe...</td>\n",
       "      <td>1.331927e+09</td>\n",
       "      <td>1.301298e+09</td>\n",
       "      <td>Paramus</td>\n",
       "      <td>[40.9445, -74.07]</td>\n",
       "      <td>NaN</td>\n",
       "      <td>NaN</td>\n",
       "    </tr>\n",
       "    <tr>\n",
       "      <th>3556</th>\n",
       "      <td>Mozilla/5.0 (Windows NT 5.1) AppleWebKit/535.1...</td>\n",
       "      <td>US</td>\n",
       "      <td>0.0</td>\n",
       "      <td>America/Chicago</td>\n",
       "      <td>OK</td>\n",
       "      <td>jQLtP4</td>\n",
       "      <td>jQLtP4</td>\n",
       "      <td>bitly</td>\n",
       "      <td>en-US,en;q=0.8</td>\n",
       "      <td>1.usa.gov</td>\n",
       "      <td>http://www.facebook.com/l.php?u=http%3A%2F%2F1...</td>\n",
       "      <td>http://www.okc.gov/PublicNotificationSystem/Fo...</td>\n",
       "      <td>1.331927e+09</td>\n",
       "      <td>1.307530e+09</td>\n",
       "      <td>Oklahoma City</td>\n",
       "      <td>[35.4715, -97.518997]</td>\n",
       "      <td>NaN</td>\n",
       "      <td>NaN</td>\n",
       "    </tr>\n",
       "    <tr>\n",
       "      <th>3557</th>\n",
       "      <td>GoogleMaps/RochesterNY</td>\n",
       "      <td>US</td>\n",
       "      <td>0.0</td>\n",
       "      <td>America/Denver</td>\n",
       "      <td>UT</td>\n",
       "      <td>mwszkS</td>\n",
       "      <td>mwszkS</td>\n",
       "      <td>bitly</td>\n",
       "      <td>NaN</td>\n",
       "      <td>j.mp</td>\n",
       "      <td>http://www.AwareMap.com/</td>\n",
       "      <td>http://www.monroecounty.gov/etc/911/rss.php</td>\n",
       "      <td>1.331927e+09</td>\n",
       "      <td>1.308262e+09</td>\n",
       "      <td>Provo</td>\n",
       "      <td>[40.218102, -111.613297]</td>\n",
       "      <td>NaN</td>\n",
       "      <td>NaN</td>\n",
       "    </tr>\n",
       "    <tr>\n",
       "      <th>3558</th>\n",
       "      <td>GoogleProducer</td>\n",
       "      <td>US</td>\n",
       "      <td>0.0</td>\n",
       "      <td>America/Los_Angeles</td>\n",
       "      <td>CA</td>\n",
       "      <td>zjtI4X</td>\n",
       "      <td>zjtI4X</td>\n",
       "      <td>bitly</td>\n",
       "      <td>NaN</td>\n",
       "      <td>1.usa.gov</td>\n",
       "      <td>direct</td>\n",
       "      <td>http://www.ahrq.gov/qual/qitoolkit/</td>\n",
       "      <td>1.331927e+09</td>\n",
       "      <td>1.327529e+09</td>\n",
       "      <td>Mountain View</td>\n",
       "      <td>[37.419201, -122.057404]</td>\n",
       "      <td>NaN</td>\n",
       "      <td>NaN</td>\n",
       "    </tr>\n",
       "    <tr>\n",
       "      <th>3559</th>\n",
       "      <td>Mozilla/4.0 (compatible; MSIE 8.0; Windows NT ...</td>\n",
       "      <td>US</td>\n",
       "      <td>0.0</td>\n",
       "      <td>America/New_York</td>\n",
       "      <td>VA</td>\n",
       "      <td>qxKrTK</td>\n",
       "      <td>qxKrTK</td>\n",
       "      <td>bitly</td>\n",
       "      <td>en-US</td>\n",
       "      <td>1.usa.gov</td>\n",
       "      <td>http://t.co/OEEEvwjU</td>\n",
       "      <td>http://herndon-va.gov/Content/public_safety/Pu...</td>\n",
       "      <td>1.331927e+09</td>\n",
       "      <td>1.312898e+09</td>\n",
       "      <td>Mc Lean</td>\n",
       "      <td>[38.935799, -77.162102]</td>\n",
       "      <td>NaN</td>\n",
       "      <td>NaN</td>\n",
       "    </tr>\n",
       "  </tbody>\n",
       "</table>\n",
       "<p>3560 rows × 18 columns</p>\n",
       "</div>"
      ],
      "text/plain": [
       "                                                      a   c   nk  \\\n",
       "0     Mozilla/5.0 (Windows NT 6.1; WOW64) AppleWebKi...  US  1.0   \n",
       "1                                GoogleMaps/RochesterNY  US  0.0   \n",
       "2     Mozilla/4.0 (compatible; MSIE 8.0; Windows NT ...  US  1.0   \n",
       "3     Mozilla/5.0 (Macintosh; Intel Mac OS X 10_6_8)...  BR  0.0   \n",
       "4     Mozilla/5.0 (Windows NT 6.1; WOW64) AppleWebKi...  US  0.0   \n",
       "...                                                 ...  ..  ...   \n",
       "3555  Mozilla/4.0 (compatible; MSIE 9.0; Windows NT ...  US  1.0   \n",
       "3556  Mozilla/5.0 (Windows NT 5.1) AppleWebKit/535.1...  US  0.0   \n",
       "3557                             GoogleMaps/RochesterNY  US  0.0   \n",
       "3558                                     GoogleProducer  US  0.0   \n",
       "3559  Mozilla/4.0 (compatible; MSIE 8.0; Windows NT ...  US  0.0   \n",
       "\n",
       "                       tz  gr       g       h             l              al  \\\n",
       "0        America/New_York  MA  A6qOVH  wfLQtf       orofrog  en-US,en;q=0.8   \n",
       "1          America/Denver  UT  mwszkS  mwszkS         bitly             NaN   \n",
       "2        America/New_York  DC  xxr3Qb  xxr3Qb         bitly           en-US   \n",
       "3       America/Sao_Paulo  27  zCaLwp  zUtuOu      alelex88           pt-br   \n",
       "4        America/New_York  MA  9b6kNl  9b6kNl         bitly  en-US,en;q=0.8   \n",
       "...                   ...  ..     ...     ...           ...             ...   \n",
       "3555     America/New_York  NJ  e5SvKE  fqPSr9  tweetdeckapi              en   \n",
       "3556      America/Chicago  OK  jQLtP4  jQLtP4         bitly  en-US,en;q=0.8   \n",
       "3557       America/Denver  UT  mwszkS  mwszkS         bitly             NaN   \n",
       "3558  America/Los_Angeles  CA  zjtI4X  zjtI4X         bitly             NaN   \n",
       "3559     America/New_York  VA  qxKrTK  qxKrTK         bitly           en-US   \n",
       "\n",
       "             hh                                                  r  \\\n",
       "0     1.usa.gov  http://www.facebook.com/l/7AQEFzjSi/1.usa.gov/...   \n",
       "1          j.mp                           http://www.AwareMap.com/   \n",
       "2     1.usa.gov                               http://t.co/03elZC4Q   \n",
       "3     1.usa.gov                                             direct   \n",
       "4        bit.ly                http://www.shrewsbury-ma.gov/selco/   \n",
       "...         ...                                                ...   \n",
       "3555  1.usa.gov                                             direct   \n",
       "3556  1.usa.gov  http://www.facebook.com/l.php?u=http%3A%2F%2F1...   \n",
       "3557       j.mp                           http://www.AwareMap.com/   \n",
       "3558  1.usa.gov                                             direct   \n",
       "3559  1.usa.gov                               http://t.co/OEEEvwjU   \n",
       "\n",
       "                                                      u             t  \\\n",
       "0           http://www.ncbi.nlm.nih.gov/pubmed/22415991  1.331923e+09   \n",
       "1           http://www.monroecounty.gov/etc/911/rss.php  1.331923e+09   \n",
       "2     http://boxer.senate.gov/en/press/releases/0316...  1.331923e+09   \n",
       "3               http://apod.nasa.gov/apod/ap120312.html  1.331923e+09   \n",
       "4     http://www.shrewsbury-ma.gov/egov/gallery/1341...  1.331923e+09   \n",
       "...                                                 ...           ...   \n",
       "3555  http://www.fda.gov/AdvisoryCommittees/Committe...  1.331927e+09   \n",
       "3556  http://www.okc.gov/PublicNotificationSystem/Fo...  1.331927e+09   \n",
       "3557        http://www.monroecounty.gov/etc/911/rss.php  1.331927e+09   \n",
       "3558                http://www.ahrq.gov/qual/qitoolkit/  1.331927e+09   \n",
       "3559  http://herndon-va.gov/Content/public_safety/Pu...  1.331927e+09   \n",
       "\n",
       "                hc             cy                        ll  _heartbeat_   kw  \n",
       "0     1.331823e+09        Danvers   [42.576698, -70.954903]          NaN  NaN  \n",
       "1     1.308262e+09          Provo  [40.218102, -111.613297]          NaN  NaN  \n",
       "2     1.331920e+09     Washington     [38.9007, -77.043098]          NaN  NaN  \n",
       "3     1.331923e+09           Braz  [-23.549999, -46.616699]          NaN  NaN  \n",
       "4     1.273672e+09     Shrewsbury   [42.286499, -71.714699]          NaN  NaN  \n",
       "...            ...            ...                       ...          ...  ...  \n",
       "3555  1.301298e+09        Paramus         [40.9445, -74.07]          NaN  NaN  \n",
       "3556  1.307530e+09  Oklahoma City     [35.4715, -97.518997]          NaN  NaN  \n",
       "3557  1.308262e+09          Provo  [40.218102, -111.613297]          NaN  NaN  \n",
       "3558  1.327529e+09  Mountain View  [37.419201, -122.057404]          NaN  NaN  \n",
       "3559  1.312898e+09        Mc Lean   [38.935799, -77.162102]          NaN  NaN  \n",
       "\n",
       "[3560 rows x 18 columns]"
      ]
     },
     "metadata": {},
     "output_type": "display_data"
    }
   ],
   "source": [
    "display(frame)"
   ]
  },
  {
   "cell_type": "code",
   "execution_count": 74,
   "id": "07c3213e",
   "metadata": {},
   "outputs": [],
   "source": [
    "cleantz=frame['tz'].fillna('Missing')"
   ]
  },
  {
   "cell_type": "code",
   "execution_count": 75,
   "id": "72b5965f",
   "metadata": {},
   "outputs": [],
   "source": [
    "cleantz[cleantz=='']='Unknown'\n",
    "tz_counts=cleantz.value_counts()"
   ]
  },
  {
   "cell_type": "code",
   "execution_count": 78,
   "id": "273fa8dd",
   "metadata": {},
   "outputs": [
    {
     "data": {
      "text/plain": [
       "<AxesSubplot:>"
      ]
     },
     "execution_count": 78,
     "metadata": {},
     "output_type": "execute_result"
    },
    {
     "data": {
      "image/png": "[encoded data removed]",
      "text/plain": [
       "<Figure size 432x288 with 1 Axes>"
      ]
     },
     "metadata": {
      "needs_background": "light"
     },
     "output_type": "display_data"
    }
   ],
   "source": [
    "tz_counts[:10].plot(kind='barh',rot=0)"
   ]
  },
  {
   "cell_type": "code",
   "execution_count": 102,
   "id": "eb169f0e",
   "metadata": {},
   "outputs": [],
   "source": [
    "res=pd.Series([x.split() for x in frame.a.dropna()])"
   ]
  },
  {
   "cell_type": "code",
   "execution_count": 105,
   "id": "452415c1",
   "metadata": {},
   "outputs": [
    {
     "name": "stdout",
     "output_type": "stream",
     "text": [
      "['Mozilla/4.0', '(compatible;', 'MSIE', '8.0;', 'Windows', 'NT', '6.1;', 'WOW64;', 'Trident/4.0;', 'SLCC2;', '.NET', 'CLR', '2.0.50727;', '.NET', 'CLR', '3.5.30729;', '.NET', 'CLR', '3.0.30729;', 'Media', 'Center', 'PC', '6.0;', '.NET4.0C;', '.NET4.0E;', 'InfoPath.3)']\n"
     ]
    }
   ],
   "source": [
    "print(res[2])"
   ]
  },
  {
   "cell_type": "code",
   "execution_count": 83,
   "id": "17a04685",
   "metadata": {},
   "outputs": [
    {
     "data": {
      "text/plain": [
       "0       Mozilla/5.0 (Windows NT 6.1; WOW64) AppleWebKi...\n",
       "1                                  GoogleMaps/RochesterNY\n",
       "2       Mozilla/4.0 (compatible; MSIE 8.0; Windows NT ...\n",
       "3       Mozilla/5.0 (Macintosh; Intel Mac OS X 10_6_8)...\n",
       "4       Mozilla/5.0 (Windows NT 6.1; WOW64) AppleWebKi...\n",
       "                              ...                        \n",
       "3555    Mozilla/4.0 (compatible; MSIE 9.0; Windows NT ...\n",
       "3556    Mozilla/5.0 (Windows NT 5.1) AppleWebKit/535.1...\n",
       "3557                               GoogleMaps/RochesterNY\n",
       "3558                                       GoogleProducer\n",
       "3559    Mozilla/4.0 (compatible; MSIE 8.0; Windows NT ...\n",
       "Name: a, Length: 3560, dtype: object"
      ]
     },
     "execution_count": 83,
     "metadata": {},
     "output_type": "execute_result"
    }
   ],
   "source": [
    "frame.a"
   ]
  },
  {
   "cell_type": "code",
   "execution_count": 85,
   "id": "9adc5c0f",
   "metadata": {},
   "outputs": [
    {
     "data": {
      "text/plain": [
       "Mozilla/5.0                                          2594\n",
       "Mozilla/4.0                                           601\n",
       "GoogleMaps/RochesterNY                                121\n",
       "Opera/9.80                                             34\n",
       "TEST_INTERNET_AGENT                                    24\n",
       "GoogleProducer                                         21\n",
       "Mozilla/6.0                                             5\n",
       "BlackBerry8520/5.0.0.681                                4\n",
       "BlackBerry8520/5.0.0.592                                3\n",
       "Dalvik/1.4.0                                            3\n",
       "Goldfire                                                2\n",
       "Acoon                                                   2\n",
       "Socialite/7766                                          2\n",
       "BlackBerry9630/5.0.0.975                                2\n",
       "sometrik.com                                            1\n",
       "Vodafone/1.0/LG-KU990i/V10c                             1\n",
       "BlackBerry8530/5.0.0.654                                1\n",
       "Vancouver                                               1\n",
       "Opera/9.00                                              1\n",
       "Opera/9.64(Windows                                      1\n",
       "Mozilla/0.6                                             1\n",
       "MOT-MB525/Blur_Version.34.4.709.MB525.Latam.en.01       1\n",
       "LG-GW382f/V10d                                          1\n",
       "Opera/9.50                                              1\n",
       "HTTP_Request2/2.0.0                                     1\n",
       "ICE                                                     1\n",
       "BlackBerry9700/5.0.0.423                                1\n",
       "Opera/9.30                                              1\n",
       "LG-LG220C[TF268435458416597116000000013524223841]       1\n",
       "BlackBerry9300/5.0.0.997                                1\n",
       "Nokia6790s-1b/ATT.03.22                                 1\n",
       "SAMSUNG-SGH-A887/A887UCIJ1                              1\n",
       "BlackBerry9530/5.0.0.328                                1\n",
       "BlackBerry8520/5.0.0.1067                               1\n",
       "NokiaC3-00/5.0                                          1\n",
       "BlackBerry9700/5.0.0.862                                1\n",
       "dtype: int64"
      ]
     },
     "execution_count": 85,
     "metadata": {},
     "output_type": "execute_result"
    }
   ],
   "source": [
    "res.value_counts()"
   ]
  },
  {
   "cell_type": "code",
   "execution_count": 98,
   "id": "91dace1f",
   "metadata": {},
   "outputs": [],
   "source": [
    "res=pd.Series([x.split()[0] for x in frame.a.dropna()])\n",
    "cframe=frame[frame.a.notnull()]"
   ]
  },
  {
   "cell_type": "code",
   "execution_count": 100,
   "id": "d39eeeff",
   "metadata": {},
   "outputs": [],
   "source": [
    "opsy=np.where(cframe.a.str.contains('Windows'),'Windows','Notwindows')"
   ]
  },
  {
   "cell_type": "code",
   "execution_count": 106,
   "id": "7d05bd69",
   "metadata": {},
   "outputs": [
    {
     "name": "stdout",
     "output_type": "stream",
     "text": [
      "['Windows' 'Notwindows' 'Windows' 'Notwindows' 'Windows']\n"
     ]
    }
   ],
   "source": [
    "print(opsy[:5])"
   ]
  },
  {
   "cell_type": "code",
   "execution_count": 107,
   "id": "4b9e9837",
   "metadata": {},
   "outputs": [],
   "source": [
    "by_tz_os=cframe.groupby(['tz',opsy])"
   ]
  },
  {
   "cell_type": "code",
   "execution_count": 111,
   "id": "ae39c9ec",
   "metadata": {},
   "outputs": [],
   "source": [
    "data={ i: np.random.randn() for i in range(7)}"
   ]
  },
  {
   "cell_type": "code",
   "execution_count": 112,
   "id": "83850bc5",
   "metadata": {},
   "outputs": [
    {
     "name": "stdout",
     "output_type": "stream",
     "text": [
      "{0: 1.038403340178445, 1: -0.12010313661316474, 2: 0.5976373988423459, 3: -0.7554888811980954, 4: 0.2600510766767717, 5: -0.4367121297961449, 6: 0.4797231301327558}\n"
     ]
    }
   ],
   "source": [
    "print(data)"
   ]
  },
  {
   "cell_type": "code",
   "execution_count": 115,
   "id": "2506d244",
   "metadata": {},
   "outputs": [],
   "source": [
    "data?"
   ]
  },
  {
   "cell_type": "code",
   "execution_count": 120,
   "id": "69a63157",
   "metadata": {},
   "outputs": [
    {
     "name": "stdout",
     "output_type": "stream",
     "text": [
      "100 µs ± 11.2 µs per loop (mean ± std. dev. of 7 runs, 10000 loops each)\n"
     ]
    }
   ],
   "source": [
    "a=np.random.randn(100,100)\n",
    "%timeit np.dot(a,a)"
   ]
  },
  {
   "cell_type": "code",
   "execution_count": 121,
   "id": "dd1a8509",
   "metadata": {},
   "outputs": [],
   "source": [
    "import numpy as np"
   ]
  },
  {
   "cell_type": "code",
   "execution_count": 122,
   "id": "c9f83b61",
   "metadata": {},
   "outputs": [],
   "source": [
    "my_ar=np.arange(10000)"
   ]
  },
  {
   "cell_type": "code",
   "execution_count": 123,
   "id": "64442f25",
   "metadata": {},
   "outputs": [
    {
     "name": "stdout",
     "output_type": "stream",
     "text": [
      "[   0    1    2 ... 9997 9998 9999]\n"
     ]
    }
   ],
   "source": [
    "print(my_ar)"
   ]
  },
  {
   "cell_type": "code",
   "execution_count": 124,
   "id": "1553df22",
   "metadata": {},
   "outputs": [],
   "source": [
    "data=np.random.randn(2,3)"
   ]
  },
  {
   "cell_type": "code",
   "execution_count": 125,
   "id": "f4d5ec96",
   "metadata": {},
   "outputs": [
    {
     "name": "stdout",
     "output_type": "stream",
     "text": [
      "[[ 1.45539943 -0.36721214  0.92413606]\n",
      " [-1.02681926 -0.23102348 -0.6714809 ]]\n"
     ]
    }
   ],
   "source": [
    "print(data)"
   ]
  },
  {
   "cell_type": "code",
   "execution_count": 127,
   "id": "2be02027",
   "metadata": {},
   "outputs": [
    {
     "name": "stdout",
     "output_type": "stream",
     "text": [
      "<class 'numpy.ndarray'>\n"
     ]
    }
   ],
   "source": [
    "print(type(data))"
   ]
  },
  {
   "cell_type": "code",
   "execution_count": 128,
   "id": "6608bfa1",
   "metadata": {},
   "outputs": [
    {
     "data": {
      "text/plain": [
       "array([[ 0.39796584, -0.49769389, -1.24178952,  0.31773605],\n",
       "       [-2.31929384, -0.17043699, -0.8418401 ,  0.47486973],\n",
       "       [-1.35031953, -1.16662574,  0.63354499, -1.54488154]])"
      ]
     },
     "execution_count": 128,
     "metadata": {},
     "output_type": "execute_result"
    }
   ],
   "source": [
    "np.random.randn(3,4)"
   ]
  },
  {
   "cell_type": "code",
   "execution_count": 129,
   "id": "93b5b38c",
   "metadata": {},
   "outputs": [
    {
     "data": {
      "text/plain": [
       "dtype('float64')"
      ]
     },
     "execution_count": 129,
     "metadata": {},
     "output_type": "execute_result"
    }
   ],
   "source": [
    "data.dtype"
   ]
  },
  {
   "cell_type": "code",
   "execution_count": 149,
   "id": "60b09b56",
   "metadata": {},
   "outputs": [
    {
     "data": {
      "text/plain": [
       "array([[False, False, False, False, False, False, False, False, False,\n",
       "        False],\n",
       "       [False, False, False, False, False, False, False, False, False,\n",
       "        False],\n",
       "       [False, False, False, False, False, False, False, False, False,\n",
       "        False],\n",
       "       [False, False, False, False, False, False, False, False, False,\n",
       "        False],\n",
       "       [False, False, False, False, False, False, False, False, False,\n",
       "        False],\n",
       "       [False, False, False, False, False, False, False, False, False,\n",
       "        False],\n",
       "       [False, False, False, False, False, False, False, False, False,\n",
       "        False],\n",
       "       [False, False, False, False, False, False, False, False, False,\n",
       "        False],\n",
       "       [False, False, False, False, False, False, False, False, False,\n",
       "        False],\n",
       "       [False, False, False, False, False, False, False, False, False,\n",
       "        False]])"
      ]
     },
     "execution_count": 149,
     "metadata": {},
     "output_type": "execute_result"
    }
   ],
   "source": [
    "np.zeros((10,10),dtype=\"bool\")"
   ]
  },
  {
   "cell_type": "code",
   "execution_count": 152,
   "id": "49461557",
   "metadata": {},
   "outputs": [],
   "source": [
    "a=np.array(['1.2','3.4','5.6'],dtype=\"str\")"
   ]
  },
  {
   "cell_type": "code",
   "execution_count": 157,
   "id": "367a4a59",
   "metadata": {},
   "outputs": [
    {
     "data": {
      "text/plain": [
       "array([1.2, 3.4, 5.6])"
      ]
     },
     "execution_count": 157,
     "metadata": {},
     "output_type": "execute_result"
    }
   ],
   "source": [
    "#astype is used to convert the datatype!!!!!!!!!!!!!!!!!!!!!!!!!!\n",
    "a.astype(\"float64\")"
   ]
  },
  {
   "cell_type": "code",
   "execution_count": 163,
   "id": "12724fd6",
   "metadata": {},
   "outputs": [
    {
     "name": "stdout",
     "output_type": "stream",
     "text": [
      "[[-0.94233674  6.22194522 -1.36152339]\n",
      " [ 1.59217578 -0.73403606  1.27251017]\n",
      " [ 1.7326395  -1.88323818 -2.30266219]]\n"
     ]
    }
   ],
   "source": [
    "a=np.random.randn(3,3)\n",
    "print(a**-1)"
   ]
  },
  {
   "cell_type": "code",
   "execution_count": 167,
   "id": "c4ba66e5",
   "metadata": {},
   "outputs": [],
   "source": [
    "ar=np.array([1,2,3,4,5,66,7,66666,7777,888])\n",
    "sl=ar[5:]"
   ]
  },
  {
   "cell_type": "code",
   "execution_count": 168,
   "id": "b0bae0e2",
   "metadata": {},
   "outputs": [
    {
     "name": "stdout",
     "output_type": "stream",
     "text": [
      "[   66     7 66666  7777   888]\n"
     ]
    }
   ],
   "source": [
    "print(sl)"
   ]
  },
  {
   "cell_type": "code",
   "execution_count": null,
   "id": "f0417c62",
   "metadata": {},
   "outputs": [],
   "source": []
  },
  {
   "cell_type": "code",
   "execution_count": 170,
   "id": "a3c68c3d",
   "metadata": {},
   "outputs": [
    {
     "data": {
      "text/plain": [
       "array([    1,     2,     3,     4,     5,    66,     7, 66666,  7777,\n",
       "         888])"
      ]
     },
     "execution_count": 170,
     "metadata": {},
     "output_type": "execute_result"
    }
   ],
   "source": [
    "ar\n"
   ]
  },
  {
   "cell_type": "code",
   "execution_count": 182,
   "id": "61ede9b9",
   "metadata": {},
   "outputs": [
    {
     "name": "stderr",
     "output_type": "stream",
     "text": [
      "C:\\Users\\WIN10~1\\AppData\\Local\\Temp/ipykernel_4948/1847181396.py:1: VisibleDeprecationWarning: Creating an ndarray from ragged nested sequences (which is a list-or-tuple of lists-or-tuples-or ndarrays with different lengths or shapes) is deprecated. If you meant to do this, you must specify 'dtype=object' when creating the ndarray.\n",
      "  a=np.array([\n"
     ]
    }
   ],
   "source": [
    "a=np.array([\n",
    "    [[1,2,3],[1,2,3],[1,2,3]],\n",
    "    [[np.random.randn(1,2)],[1,2,3],[1,2,3]]\n",
    "]\n",
    ")"
   ]
  },
  {
   "cell_type": "code",
   "execution_count": 183,
   "id": "f8f02599",
   "metadata": {},
   "outputs": [
    {
     "data": {
      "text/plain": [
       "2"
      ]
     },
     "execution_count": 183,
     "metadata": {},
     "output_type": "execute_result"
    }
   ],
   "source": [
    "a.ndim"
   ]
  },
  {
   "cell_type": "code",
   "execution_count": 221,
   "id": "3d79b1e6",
   "metadata": {},
   "outputs": [],
   "source": [
    "a=np.random.randn(7,7)"
   ]
  },
  {
   "cell_type": "code",
   "execution_count": 222,
   "id": "56a30231",
   "metadata": {},
   "outputs": [
    {
     "data": {
      "text/plain": [
       "array([[ 0.62255947,  0.3623456 ,  0.36465007,  0.91993031,  0.04352061,\n",
       "        -0.05519238,  0.63290778],\n",
       "       [ 0.74979049, -1.67233392,  0.53201333,  1.04603031, -0.65234611,\n",
       "        -2.27951587, -1.38729171],\n",
       "       [ 0.89906725, -1.10470683,  0.08207236,  0.78379236, -0.22076387,\n",
       "        -1.36322755,  0.05189733],\n",
       "       [-0.18183494,  1.66637645, -1.19866194, -0.63022381,  0.60989896,\n",
       "        -0.45561787, -0.04020325],\n",
       "       [ 0.83527864,  2.10664367,  0.18481989,  1.15979945, -0.14719514,\n",
       "        -0.03336072, -0.35351703],\n",
       "       [-0.2625662 ,  2.44797235, -0.96334881, -0.13314387,  0.3910749 ,\n",
       "         0.06159786,  1.30787625],\n",
       "       [-1.50631764,  0.13755601,  0.18445308,  1.54810565,  0.09411945,\n",
       "        -0.69137703, -0.49497318]])"
      ]
     },
     "execution_count": 222,
     "metadata": {},
     "output_type": "execute_result"
    }
   ],
   "source": [
    "a"
   ]
  },
  {
   "cell_type": "code",
   "execution_count": null,
   "id": "fddf1706",
   "metadata": {},
   "outputs": [],
   "source": []
  },
  {
   "cell_type": "code",
   "execution_count": null,
   "id": "60ca10a0",
   "metadata": {},
   "outputs": [],
   "source": []
  },
  {
   "cell_type": "code",
   "execution_count": 223,
   "id": "4dea18f0",
   "metadata": {},
   "outputs": [],
   "source": [
    "b=np.array(['Bob', 'Joe', 'Will', 'Bob', 'Will', 'Joe', 'Joe'])"
   ]
  },
  {
   "cell_type": "code",
   "execution_count": 224,
   "id": "fca674f2",
   "metadata": {},
   "outputs": [
    {
     "data": {
      "text/plain": [
       "array([ True, False, False,  True, False, False, False])"
      ]
     },
     "execution_count": 224,
     "metadata": {},
     "output_type": "execute_result"
    }
   ],
   "source": [
    "b=='Bob'"
   ]
  },
  {
   "cell_type": "code",
   "execution_count": 226,
   "id": "07cbb03e",
   "metadata": {},
   "outputs": [
    {
     "data": {
      "text/plain": [
       "array([[ 0.74979049, -1.67233392,  0.53201333,  1.04603031, -0.65234611,\n",
       "        -2.27951587, -1.38729171],\n",
       "       [ 0.89906725, -1.10470683,  0.08207236,  0.78379236, -0.22076387,\n",
       "        -1.36322755,  0.05189733],\n",
       "       [ 0.83527864,  2.10664367,  0.18481989,  1.15979945, -0.14719514,\n",
       "        -0.03336072, -0.35351703],\n",
       "       [-0.2625662 ,  2.44797235, -0.96334881, -0.13314387,  0.3910749 ,\n",
       "         0.06159786,  1.30787625],\n",
       "       [-1.50631764,  0.13755601,  0.18445308,  1.54810565,  0.09411945,\n",
       "        -0.69137703, -0.49497318]])"
      ]
     },
     "execution_count": 226,
     "metadata": {},
     "output_type": "execute_result"
    }
   ],
   "source": [
    "a[b!='Bob']"
   ]
  },
  {
   "cell_type": "code",
   "execution_count": 235,
   "id": "d07791b4",
   "metadata": {},
   "outputs": [],
   "source": [
    "a[a<0]=0"
   ]
  },
  {
   "cell_type": "code",
   "execution_count": 236,
   "id": "343248b6",
   "metadata": {},
   "outputs": [
    {
     "data": {
      "text/plain": [
       "array([[0.62255947, 0.3623456 , 0.36465007, 0.91993031, 0.04352061,\n",
       "        0.        , 0.63290778],\n",
       "       [0.74979049, 0.        , 0.53201333, 1.04603031, 0.        ,\n",
       "        0.        , 0.        ],\n",
       "       [0.89906725, 0.        , 0.08207236, 0.78379236, 0.        ,\n",
       "        0.        , 0.05189733],\n",
       "       [0.        , 1.66637645, 0.        , 0.        , 0.60989896,\n",
       "        0.        , 0.        ],\n",
       "       [0.83527864, 2.10664367, 0.18481989, 1.15979945, 0.        ,\n",
       "        0.        , 0.        ],\n",
       "       [0.        , 2.44797235, 0.        , 0.        , 0.3910749 ,\n",
       "        0.06159786, 1.30787625],\n",
       "       [0.        , 0.13755601, 0.18445308, 1.54810565, 0.09411945,\n",
       "        0.        , 0.        ]])"
      ]
     },
     "execution_count": 236,
     "metadata": {},
     "output_type": "execute_result"
    }
   ],
   "source": [
    "a"
   ]
  },
  {
   "cell_type": "code",
   "execution_count": 238,
   "id": "bf148c62",
   "metadata": {},
   "outputs": [
    {
     "ename": "SyntaxError",
     "evalue": "invalid syntax (Temp/ipykernel_4948/754427802.py, line 1)",
     "output_type": "error",
     "traceback": [
      "\u001b[1;36m  File \u001b[1;32m\"C:\\Users\\WIN10~1\\AppData\\Local\\Temp/ipykernel_4948/754427802.py\"\u001b[1;36m, line \u001b[1;32m1\u001b[0m\n\u001b[1;33m    a[:(b='Joe')]\u001b[0m\n\u001b[1;37m         ^\u001b[0m\n\u001b[1;31mSyntaxError\u001b[0m\u001b[1;31m:\u001b[0m invalid syntax\n"
     ]
    }
   ],
   "source": [
    "a[:(b='Joe')]"
   ]
  },
  {
   "cell_type": "code",
   "execution_count": 247,
   "id": "15fbc875",
   "metadata": {},
   "outputs": [],
   "source": [
    "arr=np.arange(32).reshape(4,-3)"
   ]
  },
  {
   "cell_type": "code",
   "execution_count": 253,
   "id": "463cf55a",
   "metadata": {},
   "outputs": [
    {
     "data": {
      "text/plain": [
       "array([[    0,     1,     8,    27,    64,   125,   216,   343],\n",
       "       [  512,   729,  1000,  1331,  1728,  2197,  2744,  3375],\n",
       "       [ 4096,  4913,  5832,  6859,  8000,  9261, 10648, 12167],\n",
       "       [13824, 15625, 17576, 19683, 21952, 24389, 27000, 29791]],\n",
       "      dtype=int32)"
      ]
     },
     "execution_count": 253,
     "metadata": {},
     "output_type": "execute_result"
    }
   ],
   "source": []
  },
  {
   "cell_type": "code",
   "execution_count": 254,
   "id": "84031434",
   "metadata": {},
   "outputs": [],
   "source": [
    "arr=np.random.randn(7)*5"
   ]
  },
  {
   "cell_type": "code",
   "execution_count": 255,
   "id": "7299df04",
   "metadata": {},
   "outputs": [
    {
     "data": {
      "text/plain": [
       "array([-7.27272387, -8.89794609, -1.93065407,  5.44484202, -1.84243223,\n",
       "       -8.92894325,  1.1880349 ])"
      ]
     },
     "execution_count": 255,
     "metadata": {},
     "output_type": "execute_result"
    }
   ],
   "source": [
    "arr"
   ]
  },
  {
   "cell_type": "code",
   "execution_count": 256,
   "id": "3f70c79a",
   "metadata": {},
   "outputs": [],
   "source": [
    "a1,a2=np.modf(arr)"
   ]
  },
  {
   "cell_type": "code",
   "execution_count": 261,
   "id": "31f79d18",
   "metadata": {},
   "outputs": [
    {
     "data": {
      "text/plain": [
       "(array([-0.27272387, -0.89794609, -0.93065407,  0.44484202, -0.84243223,\n",
       "        -0.92894325,  0.1880349 ]),\n",
       " <function numpy.array>)"
      ]
     },
     "execution_count": 261,
     "metadata": {},
     "output_type": "execute_result"
    }
   ],
   "source": [
    "a1,a2"
   ]
  },
  {
   "cell_type": "code",
   "execution_count": 262,
   "id": "5fed7c7c",
   "metadata": {},
   "outputs": [
    {
     "ename": "TypeError",
     "evalue": "return arrays must be of ArrayType",
     "output_type": "error",
     "traceback": [
      "\u001b[1;31m---------------------------------------------------------------------------\u001b[0m",
      "\u001b[1;31mTypeError\u001b[0m                                 Traceback (most recent call last)",
      "\u001b[1;32mC:\\Users\\WIN10~1\\AppData\\Local\\Temp/ipykernel_4948/2794991993.py\u001b[0m in \u001b[0;36m<module>\u001b[1;34m\u001b[0m\n\u001b[1;32m----> 1\u001b[1;33m \u001b[0mnp\u001b[0m\u001b[1;33m.\u001b[0m\u001b[0msqrt\u001b[0m\u001b[1;33m(\u001b[0m\u001b[0ma2\u001b[0m\u001b[1;33m,\u001b[0m\u001b[0ma2\u001b[0m\u001b[1;33m)\u001b[0m\u001b[1;33m\u001b[0m\u001b[1;33m\u001b[0m\u001b[0m\n\u001b[0m",
      "\u001b[1;31mTypeError\u001b[0m: return arrays must be of ArrayType"
     ]
    }
   ],
   "source": [
    "np.sqrt(a2,a2)"
   ]
  },
  {
   "cell_type": "code",
   "execution_count": 264,
   "id": "4e0d4578",
   "metadata": {},
   "outputs": [],
   "source": [
    "a=np.ceil(a1)"
   ]
  },
  {
   "cell_type": "code",
   "execution_count": 265,
   "id": "51e885f3",
   "metadata": {},
   "outputs": [
    {
     "data": {
      "text/plain": [
       "array([-0., -0., -0.,  1., -0., -0.,  1.])"
      ]
     },
     "execution_count": 265,
     "metadata": {},
     "output_type": "execute_result"
    }
   ],
   "source": [
    "a"
   ]
  },
  {
   "cell_type": "code",
   "execution_count": 266,
   "id": "43571b4a",
   "metadata": {},
   "outputs": [],
   "source": [
    "points=np.arange(-5,5,0.01)"
   ]
  },
  {
   "cell_type": "code",
   "execution_count": 267,
   "id": "fb13e062",
   "metadata": {},
   "outputs": [],
   "source": [
    "xs,ys=np.meshgrid(points,points)"
   ]
  },
  {
   "cell_type": "code",
   "execution_count": 270,
   "id": "fe79bbf6",
   "metadata": {},
   "outputs": [],
   "source": [
    "z=np.sqrt(xs**2+ys**2)"
   ]
  },
  {
   "cell_type": "code",
   "execution_count": 271,
   "id": "e74eaf70",
   "metadata": {},
   "outputs": [
    {
     "data": {
      "text/plain": [
       "array([[7.07106781, 7.06400028, 7.05693985, ..., 7.04988652, 7.05693985,\n",
       "        7.06400028],\n",
       "       [7.06400028, 7.05692568, 7.04985815, ..., 7.04279774, 7.04985815,\n",
       "        7.05692568],\n",
       "       [7.05693985, 7.04985815, 7.04278354, ..., 7.03571603, 7.04278354,\n",
       "        7.04985815],\n",
       "       ...,\n",
       "       [7.04988652, 7.04279774, 7.03571603, ..., 7.0286414 , 7.03571603,\n",
       "        7.04279774],\n",
       "       [7.05693985, 7.04985815, 7.04278354, ..., 7.03571603, 7.04278354,\n",
       "        7.04985815],\n",
       "       [7.06400028, 7.05692568, 7.04985815, ..., 7.04279774, 7.04985815,\n",
       "        7.05692568]])"
      ]
     },
     "execution_count": 271,
     "metadata": {},
     "output_type": "execute_result"
    }
   ],
   "source": [
    "z"
   ]
  },
  {
   "cell_type": "code",
   "execution_count": 276,
   "id": "e5a92e0f",
   "metadata": {},
   "outputs": [
    {
     "data": {
      "text/plain": [
       "<matplotlib.colorbar.Colorbar at 0x22521580cd0>"
      ]
     },
     "execution_count": 276,
     "metadata": {},
     "output_type": "execute_result"
    },
    {
     "data": {
      "image/png": "[encoded data removed]",
      "text/plain": [
       "<Figure size 432x288 with 2 Axes>"
      ]
     },
     "metadata": {
      "needs_background": "light"
     },
     "output_type": "display_data"
    }
   ],
   "source": [
    "import matplotlib.pyplot as plt\n",
    "plt.imshow(z,cmap='viridis')\n",
    "plt.colorbar()"
   ]
  },
  {
   "cell_type": "code",
   "execution_count": 277,
   "id": "e837ce06",
   "metadata": {},
   "outputs": [],
   "source": [
    "xarr = np.array([1.1, 1.2, 1.3, 1.4, 1.5])\n",
    "yarr = np.array([2.1, 2.2, 2.3, 2.4, 2.5])\n",
    "cond = np.array([True, False, True, True, False])\n",
    "\n",
    "a=xarr[cond]\n",
    "\n"
   ]
  },
  {
   "cell_type": "code",
   "execution_count": 279,
   "id": "c3a553c0",
   "metadata": {},
   "outputs": [
    {
     "data": {
      "text/plain": [
       "array([1.1, 2.2, 1.3, 1.4, 2.5])"
      ]
     },
     "execution_count": 279,
     "metadata": {},
     "output_type": "execute_result"
    }
   ],
   "source": [
    "np.where(cond,xarr,yarr)#if cond choose xarr else yarr"
   ]
  },
  {
   "cell_type": "code",
   "execution_count": 284,
   "id": "b9964346",
   "metadata": {},
   "outputs": [],
   "source": [
    "x=np.where(cond,2,3)"
   ]
  },
  {
   "cell_type": "code",
   "execution_count": 285,
   "id": "a7034ad1",
   "metadata": {},
   "outputs": [
    {
     "data": {
      "text/plain": [
       "array([2, 3, 2, 2, 3])"
      ]
     },
     "execution_count": 285,
     "metadata": {},
     "output_type": "execute_result"
    }
   ],
   "source": [
    "x"
   ]
  },
  {
   "cell_type": "code",
   "execution_count": 289,
   "id": "b1635fbc",
   "metadata": {},
   "outputs": [
    {
     "name": "stdout",
     "output_type": "stream",
     "text": [
      "[[ 1.59748366 -0.48550247  0.90586749  0.38119394 -1.95508024]\n",
      " [ 2.24778628  1.04246858  0.66839472 -1.08695527 -0.83381315]\n",
      " [ 1.96254955 -1.1671902  -0.35898619 -0.24086063  1.25537563]\n",
      " [-0.6295521   0.31649609 -0.87764698  0.18452229  0.95461809]\n",
      " [-0.0306259  -0.48034799  1.16074549  0.54012243  1.22580453]]\n"
     ]
    }
   ],
   "source": [
    "x=np.random.randn(5,5)\n",
    "print(x)\n",
    "m=np.where(cond,x,yarr)"
   ]
  },
  {
   "cell_type": "code",
   "execution_count": 291,
   "id": "e4a34e9e",
   "metadata": {},
   "outputs": [
    {
     "data": {
      "text/plain": [
       "array([[ 1.59748366,  2.2       ,  0.90586749,  0.38119394,  2.5       ],\n",
       "       [ 2.24778628,  2.2       ,  0.66839472, -1.08695527,  2.5       ],\n",
       "       [ 1.96254955,  2.2       , -0.35898619, -0.24086063,  2.5       ],\n",
       "       [-0.6295521 ,  2.2       , -0.87764698,  0.18452229,  2.5       ],\n",
       "       [-0.0306259 ,  2.2       ,  1.16074549,  0.54012243,  2.5       ]])"
      ]
     },
     "execution_count": 291,
     "metadata": {},
     "output_type": "execute_result"
    }
   ],
   "source": [
    "m#if cond then choose the row in x else choose the val in yarr at that condition"
   ]
  },
  {
   "cell_type": "code",
   "execution_count": 299,
   "id": "5ff37d46",
   "metadata": {},
   "outputs": [
    {
     "name": "stdout",
     "output_type": "stream",
     "text": [
      "[[-0.94997574 -0.31371593  0.45588127]\n",
      " [ 0.7282646   0.31828531  0.54873569]\n",
      " [ 0.63354742  1.6562184  -0.18147401]\n",
      " [-1.68452057  2.7054653   1.10724184]]\n",
      "axis 1 [-0.8078104   1.5952856   2.10829182  2.12818657]\n",
      "acis 0 [-1.27268429  4.36625308  1.93038479]\n"
     ]
    }
   ],
   "source": [
    "arr=np.random.randn(4,3)\n",
    "print(arr)\n",
    "\n",
    "print(\"axis 1\",arr.sum(1))\n",
    "print(\"acis 0\",arr.sum(0))"
   ]
  },
  {
   "cell_type": "code",
   "execution_count": 314,
   "id": "3378def7",
   "metadata": {},
   "outputs": [
    {
     "name": "stdout",
     "output_type": "stream",
     "text": [
      "[[10.90082713 -8.28632715  0.50267724 -2.009822  ]\n",
      " [ 4.76062646  9.60368659 11.21498062  2.3810809 ]\n",
      " [18.26654366  3.94845137  2.28944196 -3.36333462]\n",
      " [-1.06078898  4.73545442 -0.93254792 -2.79021989]]\n"
     ]
    },
    {
     "data": {
      "text/plain": [
       "array([2, 1, 1, 1], dtype=int64)"
      ]
     },
     "execution_count": 314,
     "metadata": {},
     "output_type": "execute_result"
    }
   ],
   "source": [
    "arr=np.random.randn(4,4)*7\n",
    "print(arr)\n",
    "np.argmax(arr,0)"
   ]
  },
  {
   "cell_type": "code",
   "execution_count": 315,
   "id": "8e4e19e0",
   "metadata": {},
   "outputs": [
    {
     "data": {
      "text/plain": [
       "array([0, 2, 0, 1], dtype=int64)"
      ]
     },
     "execution_count": 315,
     "metadata": {},
     "output_type": "execute_result"
    }
   ],
   "source": [
    "np.argmax(arr,1)"
   ]
  },
  {
   "cell_type": "code",
   "execution_count": 316,
   "id": "3ba89461",
   "metadata": {},
   "outputs": [
    {
     "data": {
      "text/plain": [
       "46"
      ]
     },
     "execution_count": 316,
     "metadata": {},
     "output_type": "execute_result"
    }
   ],
   "source": [
    "arr=np.random.randn(100)\n",
    "(arr>0).sum()"
   ]
  },
  {
   "cell_type": "code",
   "execution_count": 317,
   "id": "24a7fe18",
   "metadata": {},
   "outputs": [
    {
     "data": {
      "text/plain": [
       "array([-0.3462057 , -2.48982132,  1.61346498, -0.8171709 ,  0.48788776,\n",
       "       -0.73374657, -1.49063774, -0.45529091, -1.2061311 , -0.70968886,\n",
       "        0.24384571, -1.88706972, -0.30932129,  0.3154114 ,  1.05227435,\n",
       "        0.31796906, -1.39171886, -1.02026074, -1.04736626,  0.53812608,\n",
       "       -0.61420586, -0.23268917,  0.30120496,  0.44321625, -0.13834687,\n",
       "       -1.32524845,  0.82609609,  0.51343479, -0.22275128, -0.59890721,\n",
       "        0.17305337, -1.69876649,  2.74858783,  0.46278649, -0.79004306,\n",
       "        0.07811052, -0.98737596,  0.96978111,  1.04109623,  0.04607642,\n",
       "        0.79473936,  1.39268421, -1.08433132, -0.78191801,  1.53896478,\n",
       "       -0.45836508, -0.62827824,  1.65406825, -0.21634674, -0.17899447,\n",
       "        2.22408373, -2.11169886,  1.41200283,  0.76980835,  0.30661682,\n",
       "       -0.30403487, -0.18512355,  1.96300069,  0.47032509, -1.0493672 ,\n",
       "        0.67462747, -0.05600175, -0.07798879, -1.19663945, -1.27161599,\n",
       "       -0.26614437, -1.04989374, -0.70508581,  0.0766592 ,  1.37444389,\n",
       "        0.4618982 , -0.83431045, -0.64308427, -0.83030687,  1.6291397 ,\n",
       "       -0.86873168,  2.03852313,  1.10013401,  0.35553358, -0.3446416 ,\n",
       "        0.83660211,  0.04441064, -1.06484536,  0.10458065, -0.82456495,\n",
       "        0.40692471,  0.87110066, -0.29929451,  0.39593907, -0.32981595,\n",
       "       -0.41340393, -0.27765226, -1.20881727,  0.5618247 , -0.95074382,\n",
       "        1.64595298,  0.05395431, -0.26562945, -0.98036667,  1.5713176 ])"
      ]
     },
     "execution_count": 317,
     "metadata": {},
     "output_type": "execute_result"
    }
   ],
   "source": [
    "arr"
   ]
  },
  {
   "cell_type": "code",
   "execution_count": 321,
   "id": "c11c9918",
   "metadata": {},
   "outputs": [],
   "source": [
    "arr=arr.reshape(10,10)"
   ]
  },
  {
   "cell_type": "code",
   "execution_count": 326,
   "id": "663d3968",
   "metadata": {},
   "outputs": [],
   "source": [
    "arr.sort(0)#axis 0 i.e rows 1 is columns\n"
   ]
  },
  {
   "cell_type": "code",
   "execution_count": 327,
   "id": "e9e3f6b6",
   "metadata": {},
   "outputs": [
    {
     "data": {
      "text/plain": [
       "array([[-2.48982132, -2.11169886, -1.88706972, -1.69876649, -1.49063774,\n",
       "        -1.39171886, -1.32524845, -1.27161599, -1.20881727, -1.2061311 ],\n",
       "       [-1.19663945, -1.08433132, -1.06484536, -1.04989374, -1.0493672 ,\n",
       "        -1.04736626, -1.02026074, -0.98737596, -0.98036667, -0.95074382],\n",
       "       [-0.86873168, -0.83431045, -0.83030687, -0.82456495, -0.8171709 ,\n",
       "        -0.79004306, -0.78191801, -0.73374657, -0.70968886, -0.70508581],\n",
       "       [-0.64308427, -0.62827824, -0.61420586, -0.59890721, -0.45836508,\n",
       "        -0.45529091, -0.41340393, -0.3462057 , -0.3446416 , -0.32981595],\n",
       "       [-0.30932129, -0.30403487, -0.29929451, -0.27765226, -0.26614437,\n",
       "        -0.26562945, -0.23268917, -0.22275128, -0.21634674, -0.18512355],\n",
       "       [-0.17899447, -0.13834687, -0.07798879, -0.05600175,  0.04441064,\n",
       "         0.04607642,  0.05395431,  0.0766592 ,  0.07811052,  0.10458065],\n",
       "       [ 0.17305337,  0.24384571,  0.30120496,  0.30661682,  0.3154114 ,\n",
       "         0.31796906,  0.35553358,  0.39593907,  0.40692471,  0.44321625],\n",
       "       [ 0.4618982 ,  0.46278649,  0.47032509,  0.48788776,  0.51343479,\n",
       "         0.53812608,  0.5618247 ,  0.67462747,  0.76980835,  0.79473936],\n",
       "       [ 0.82609609,  0.83660211,  0.87110066,  0.96978111,  1.04109623,\n",
       "         1.05227435,  1.10013401,  1.37444389,  1.39268421,  1.41200283],\n",
       "       [ 1.53896478,  1.5713176 ,  1.61346498,  1.6291397 ,  1.64595298,\n",
       "         1.65406825,  1.96300069,  2.03852313,  2.22408373,  2.74858783]])"
      ]
     },
     "execution_count": 327,
     "metadata": {},
     "output_type": "execute_result"
    }
   ],
   "source": [
    "arr"
   ]
  },
  {
   "cell_type": "code",
   "execution_count": 328,
   "id": "cadec580",
   "metadata": {},
   "outputs": [
    {
     "data": {
      "text/plain": [
       "array([-2.48982132, -2.11169886, -1.88706972, -1.69876649, -1.49063774,\n",
       "       -1.39171886, -1.32524845, -1.27161599, -1.20881727, -1.2061311 ,\n",
       "       -1.19663945, -1.08433132, -1.06484536, -1.04989374, -1.0493672 ,\n",
       "       -1.04736626, -1.02026074, -0.98737596, -0.98036667, -0.95074382,\n",
       "       -0.86873168, -0.83431045, -0.83030687, -0.82456495, -0.8171709 ,\n",
       "       -0.79004306, -0.78191801, -0.73374657, -0.70968886, -0.70508581,\n",
       "       -0.64308427, -0.62827824, -0.61420586, -0.59890721, -0.45836508,\n",
       "       -0.45529091, -0.41340393, -0.3462057 , -0.3446416 , -0.32981595,\n",
       "       -0.30932129, -0.30403487, -0.29929451, -0.27765226, -0.26614437,\n",
       "       -0.26562945, -0.23268917, -0.22275128, -0.21634674, -0.18512355,\n",
       "       -0.17899447, -0.13834687, -0.07798879, -0.05600175,  0.04441064,\n",
       "        0.04607642,  0.05395431,  0.0766592 ,  0.07811052,  0.10458065,\n",
       "        0.17305337,  0.24384571,  0.30120496,  0.30661682,  0.3154114 ,\n",
       "        0.31796906,  0.35553358,  0.39593907,  0.40692471,  0.44321625,\n",
       "        0.4618982 ,  0.46278649,  0.47032509,  0.48788776,  0.51343479,\n",
       "        0.53812608,  0.5618247 ,  0.67462747,  0.76980835,  0.79473936,\n",
       "        0.82609609,  0.83660211,  0.87110066,  0.96978111,  1.04109623,\n",
       "        1.05227435,  1.10013401,  1.37444389,  1.39268421,  1.41200283,\n",
       "        1.53896478,  1.5713176 ,  1.61346498,  1.6291397 ,  1.64595298,\n",
       "        1.65406825,  1.96300069,  2.03852313,  2.22408373,  2.74858783])"
      ]
     },
     "execution_count": 328,
     "metadata": {},
     "output_type": "execute_result"
    }
   ],
   "source": [
    "np.unique(arr)"
   ]
  },
  {
   "cell_type": "code",
   "execution_count": 329,
   "id": "610a0b03",
   "metadata": {},
   "outputs": [
    {
     "data": {
      "text/plain": [
       "array([1.1, 1.3, 1.4])"
      ]
     },
     "execution_count": 329,
     "metadata": {},
     "output_type": "execute_result"
    }
   ],
   "source": [
    "np.ravel(a)"
   ]
  },
  {
   "cell_type": "code",
   "execution_count": 332,
   "id": "7dea33ef",
   "metadata": {},
   "outputs": [],
   "source": [
    "a=np.array([1,1,1,1,1,1,1,1,1,3,3,3,3,33,3,3,3,3,3,3,3,3,3,3333,3,3,3,3,3,3,3,55,5,5,5,5,555,5,5,55])"
   ]
  },
  {
   "cell_type": "code",
   "execution_count": 333,
   "id": "abd5fed3",
   "metadata": {},
   "outputs": [
    {
     "data": {
      "text/plain": [
       "array([   1,    3,    5,   33,   55,  555, 3333])"
      ]
     },
     "execution_count": 333,
     "metadata": {},
     "output_type": "execute_result"
    }
   ],
   "source": [
    "np.unique(a)"
   ]
  },
  {
   "cell_type": "code",
   "execution_count": 335,
   "id": "271621a5",
   "metadata": {},
   "outputs": [
    {
     "data": {
      "text/plain": [
       "array([ True, False,  True,  True])"
      ]
     },
     "execution_count": 335,
     "metadata": {},
     "output_type": "execute_result"
    }
   ],
   "source": [
    "values=np.array([1,44,55,3333])\n",
    "\n",
    "np.in1d(values,a)# checks if the values in 'values ' array exists in a"
   ]
  },
  {
   "cell_type": "code",
   "execution_count": 338,
   "id": "088342a3",
   "metadata": {},
   "outputs": [],
   "source": [
    "a=np.arange(10)\n",
    "np.save('some_array',a)#saves array in an element"
   ]
  },
  {
   "cell_type": "code",
   "execution_count": 340,
   "id": "71dbd65d",
   "metadata": {},
   "outputs": [],
   "source": [
    "b=np.load(\"some_array.npy\")"
   ]
  },
  {
   "cell_type": "code",
   "execution_count": 341,
   "id": "3ee0b194",
   "metadata": {},
   "outputs": [
    {
     "data": {
      "text/plain": [
       "array([0, 1, 2, 3, 4, 5, 6, 7, 8, 9])"
      ]
     },
     "execution_count": 341,
     "metadata": {},
     "output_type": "execute_result"
    }
   ],
   "source": [
    "b"
   ]
  },
  {
   "cell_type": "code",
   "execution_count": 342,
   "id": "c7a47ea0",
   "metadata": {},
   "outputs": [
    {
     "data": {
      "text/plain": [
       "array([ True,  True,  True,  True,  True,  True,  True,  True,  True,\n",
       "        True])"
      ]
     },
     "execution_count": 342,
     "metadata": {},
     "output_type": "execute_result"
    }
   ],
   "source": [
    "a==b"
   ]
  },
  {
   "cell_type": "code",
   "execution_count": 343,
   "id": "fd45c507",
   "metadata": {},
   "outputs": [],
   "source": [
    "np.savez('array_archive.npz', a=a, b=arr)"
   ]
  },
  {
   "cell_type": "code",
   "execution_count": 344,
   "id": "85a3be53",
   "metadata": {},
   "outputs": [],
   "source": [
    "np.random.seed(122343)"
   ]
  },
  {
   "cell_type": "code",
   "execution_count": 345,
   "id": "3e784b27",
   "metadata": {},
   "outputs": [],
   "source": [
    "import random\n",
    "position=0\n",
    "walk=[]\n",
    "steps=1000\n",
    "for i in range(steps):\n",
    "    step=random.choice([-1,1])\n",
    "    position+=step\n",
    "    walk.append(position)\n"
   ]
  },
  {
   "cell_type": "code",
   "execution_count": 349,
   "id": "435f0119",
   "metadata": {},
   "outputs": [
    {
     "data": {
      "text/plain": [
       "[<matplotlib.lines.Line2D at 0x2252113d250>]"
      ]
     },
     "execution_count": 349,
     "metadata": {},
     "output_type": "execute_result"
    },
    {
     "data": {
      "image/png": "[encoded data removed]",
      "text/plain": [
       "<Figure size 432x288 with 1 Axes>"
      ]
     },
     "metadata": {
      "needs_background": "light"
     },
     "output_type": "display_data"
    }
   ],
   "source": [
    "plt.plot(walk[:])"
   ]
  },
  {
   "cell_type": "code",
   "execution_count": null,
   "id": "1363e9c8",
   "metadata": {},
   "outputs": [],
   "source": []
  }
 ],
 "metadata": {
  "kernelspec": {
   "display_name": "Python 3 (ipykernel)",
   "language": "python",
   "name": "python3"
  },
  "language_info": {
   "codemirror_mode": {
    "name": "ipython",
    "version": 3
   },
   "file_extension": ".py",
   "mimetype": "text/x-python",
   "name": "python",
   "nbconvert_exporter": "python",
   "pygments_lexer": "ipython3",
   "version": "3.9.7"
  }
 },
 "nbformat": 4,
 "nbformat_minor": 5
}
